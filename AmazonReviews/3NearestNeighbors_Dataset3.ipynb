{
 "cells": [
  {
   "cell_type": "markdown",
   "metadata": {},
   "source": [
    "# William Ching\n",
    "# Amazon Reviews Notebook\n",
    "---"
   ]
  },
  {
   "cell_type": "code",
   "execution_count": 2,
   "metadata": {},
   "outputs": [
    {
     "name": "stderr",
     "output_type": "stream",
     "text": [
      "/Users/raviraghavan/opt/anaconda3/lib/python3.9/site-packages/scipy/__init__.py:146: UserWarning: A NumPy version >=1.16.5 and <1.23.0 is required for this version of SciPy (detected version 1.23.5\n",
      "  warnings.warn(f\"A NumPy version >={np_minversion} and <{np_maxversion}\"\n"
     ]
    }
   ],
   "source": [
    "# import relevant Python libraries\n",
    "import numpy as np\n",
    "import pandas as pd\n",
    "from scipy import stats as sps\n",
    "from matplotlib import pyplot as plt\n",
    "from mpl_toolkits.mplot3d import Axes3D\n",
    "from IPython.display import display, Latex\n",
    "from sklearn import preprocessing\n",
    "import seaborn as sns\n",
    "import json\n",
    "import random\n",
    "import numpy as np\n",
    "from scipy.stats import linregress\n",
    "from sklearn.feature_extraction.text import CountVectorizer\n",
    "from sklearn import preprocessing\n",
    "from sklearn.metrics import confusion_matrix\n",
    "from sklearn.naive_bayes import MultinomialNB\n",
    "from sklearn.neighbors import KNeighborsClassifier\n",
    "from sklearn.model_selection import cross_validate\n",
    "from sklearn.model_selection import cross_val_score\n"
   ]
  },
  {
   "cell_type": "markdown",
   "metadata": {},
   "source": [
    "# **Objectives**"
   ]
  },
  {
   "attachments": {},
   "cell_type": "markdown",
   "metadata": {},
   "source": [
    "**Task for this Dataset:**\n",
    "\n",
    "The task for this dataset will be a classification task. With this dataset we are attempting to create a machine learning model to accurately classify the language of texts from Amazon product reviews: English, Japanese, German, French, Chinese, and Spanish.\n",
    "\n",
    "**Type of Machine Learning Problem:**\n",
    "\n",
    "This problem is a supervised machine learning problem because the labels are provided in the dataset (language of data samples: 6 total). The labels are provided in the respective json file name (i.e. English reviews are provided in the json file with “en” in file name).\n",
    "\n",
    "**Motivation:**\n",
    "\n",
    "Increasingly, people are transitioning to online markets, like Amazon, as it becomes easier to place orders and purchase items over the internet. Amazon has been around since 1994 and has since then grown to millions of users around the world and has become a prominent global business. Amazon extended their marketplace to many regions where customers speak different languages. The language of a marketplace does not necessarily always match the language of a review placed by customers. In this project, we are going to try and create a machine learning model to classify the language of each text review: English, Japanese, German, French, Chinese, and Spanish. In essence, we are trying to create a model that can detect the language of texts. Such machine learning model can help break the language barrier between buyers and sellers. I find the concept of Languages and linguistics interesting because they are an integral part of humanity. Languages enable us to share ideas, thoughts and feelings. Every language has its unique rules and syntax, but they allow humans to communicate and express themselves in different ways. Understanding different languages is important for businesses to build connections and grow a network. This project gives us an opportunity to create a machine learning system by using methods learned in class to classify language of texts. \n"
   ]
  },
  {
   "cell_type": "markdown",
   "metadata": {},
   "source": [
    "# **Setup**"
   ]
  },
  {
   "attachments": {},
   "cell_type": "markdown",
   "metadata": {},
   "source": [
    "#### **Folder Structure:**\n",
    "```\n",
    "📂AmazonReviews\n",
    " ┃\n",
    " ┣ 📙AmazonReviews.ipynb\n",
    " ┃\n",
    " ┣ 📝 dataset_de_test.json\n",
    " ┣ 📝 dataset_en_test.json\n",
    " ┣ 📝 dataset_es_test.json\n",
    " ┣ 📝 dataset_fr_test.json\n",
    " ┣ 📝 dataset_ja_test.json\n",
    " ┣ 📝 dataset_zh_test.json\n",
    " ┃\n",
    " ┣ 📝 dataset_de_train.json\n",
    " ┣ 📝 dataset_en_train.json\n",
    " ┣ 📝 dataset_es_train.json\n",
    " ┣ 📝 dataset_fr_train.json\n",
    " ┣ 📝 dataset_ja_train.json\n",
    " ┗ 📝 dataset_zh_train.json\n",
    " ```\n",
    " #### **Dataset link:**\n",
    " https://s3.console.aws.amazon.com/s3/buckets/amazon-reviews-ml/?region=us-west-2&tab=objects\n",
    " #### **Kernel:**\n",
    " base Python 3.9.12 Conda env"
   ]
  },
  {
   "cell_type": "markdown",
   "metadata": {},
   "source": [
    "# **1. Brief Exploration of Dataset**"
   ]
  },
  {
   "cell_type": "markdown",
   "metadata": {},
   "source": [
    "In this section, we will be carry out a brief exploration of our dataset. We must first note that the training data is given in 6 .json file (see folder structure) for each respective langauges: German (de), English (en), Spanish (es), French (fr), Japanese (ja), and Chinese (zh). In order to start any exploration, we must first parse the json data into our python environment."
   ]
  },
  {
   "cell_type": "code",
   "execution_count": 3,
   "metadata": {},
   "outputs": [],
   "source": [
    "all_reviews = []\n",
    "en_reviews = []\n",
    "de_reviews = []\n",
    "es_reviews = []\n",
    "fr_reviews = []\n",
    "ja_reviews = []\n",
    "zh_reviews = []\n",
    "for line in open('dataset_de_train.json', 'r'):\n",
    "    de_reviews.append(json.loads(line))\n",
    "    all_reviews.append(json.loads(line))\n",
    "for line in open('dataset_en_train.json', 'r'):\n",
    "    en_reviews.append(json.loads(line))\n",
    "    all_reviews.append(json.loads(line))\n",
    "for line in open('dataset_es_train.json', 'r'):\n",
    "    es_reviews.append(json.loads(line))\n",
    "    all_reviews.append(json.loads(line))\n",
    "for line in open('dataset_fr_train.json', 'r'):\n",
    "    fr_reviews.append(json.loads(line))\n",
    "    all_reviews.append(json.loads(line))\n",
    "for line in open('dataset_ja_train.json', 'r'):\n",
    "    ja_reviews.append(json.loads(line))\n",
    "    all_reviews.append(json.loads(line))\n",
    "for line in open('dataset_zh_train.json', 'r'):\n",
    "    zh_reviews.append(json.loads(line))\n",
    "    all_reviews.append(json.loads(line))"
   ]
  },
  {
   "attachments": {},
   "cell_type": "markdown",
   "metadata": {},
   "source": [
    "Now that we have parsed the json data into python lists (en_reviews, de_reviews, es_reviews, fr_reviews, ja_reviews, and zh_reviews) we can now begin our dataset exploration. One of the first details to observe is a sample format / structure of the data."
   ]
  },
  {
   "cell_type": "code",
   "execution_count": 4,
   "metadata": {},
   "outputs": [
    {
     "name": "stdout",
     "output_type": "stream",
     "text": [
      "de_reviews:  {'review_id': 'de_0203609', 'product_id': 'product_de_0865382', 'reviewer_id': 'reviewer_de_0267719', 'stars': '1', 'review_body': 'Armband ist leider nach 1 Jahr kaputt gegangen', 'review_title': 'Leider nach 1 Jahr kaputt', 'language': 'de', 'product_category': 'sports'} \n",
      "\n",
      "en_reviews:  {'review_id': 'en_0964290', 'product_id': 'product_en_0740675', 'reviewer_id': 'reviewer_en_0342986', 'stars': '1', 'review_body': \"Arrived broken. Manufacturer defect. Two of the legs of the base were not completely formed, so there was no way to insert the casters. I unpackaged the entire chair and hardware before noticing this. So, I'll spend twice the amount of time boxing up the whole useless thing and send it back with a 1-star review of part of a chair I never got to sit in. I will go so far as to include a picture of what their injection molding and quality assurance process missed though. I will be hesitant to buy again. It makes me wonder if there aren't missing structures and supports that don't impede the assembly process.\", 'review_title': \"I'll spend twice the amount of time boxing up the whole useless thing and send it back with a 1-star review ...\", 'language': 'en', 'product_category': 'furniture'} \n",
      "\n",
      "es_reviews:  {'review_id': 'es_0491108', 'product_id': 'product_es_0296024', 'reviewer_id': 'reviewer_es_0999081', 'stars': '1', 'review_body': 'Nada bueno se me fue ka pantalla en menos de 8 meses y no he recibido respuesta del fabricante', 'review_title': 'television Nevir', 'language': 'es', 'product_category': 'electronics'} \n",
      "\n",
      "fr_reviews:  {'review_id': 'fr_0424335', 'product_id': 'product_fr_0297678', 'reviewer_id': 'reviewer_fr_0961886', 'stars': '1', 'review_body': \"A déconseiller - Article n'a fonctionné qu'une fois - Je ne recommande pas du tout ce produit - Je l'ai jeté ...\", 'review_title': 'Brumisateur à pompe', 'language': 'fr', 'product_category': 'beauty'} \n",
      "\n",
      "ja_reviews:  {'review_id': 'ja_0388536', 'product_id': 'product_ja_0270003', 'reviewer_id': 'reviewer_ja_0454098', 'stars': '1', 'review_body': '普段使いとバイクに乗るときのブーツ兼用として購入しました。見た目や履き心地は良いです。 しかし、２ヶ月履いたらゴム底が削れて無くなりました。また、バイクのシフトペダルとの摩擦で表皮が剥がれ、本革でないことが露呈しました。ちなみに防水とも書いていますが、雨の日は内部に水が染みます。 安くて見た目も良く、履きやすかったのですが、耐久性のなさ、本革でも防水でも無かったことが残念です。結局、本革の防水ブーツを買い直しました。', 'review_title': '本革でも防水でもない', 'language': 'ja', 'product_category': 'shoes'} \n",
      "\n",
      "zh_reviews:  {'review_id': 'zh_0626061', 'product_id': 'product_zh_0691762', 'reviewer_id': 'reviewer_zh_0824776', 'stars': '1', 'review_body': '本人账号被盗，资金被江西（杨建）挪用，请亚马逊尽快查实，将本人的200元资金退回。本人已于2017年11月30日提交退货申请，为何到2018年了还是没解决？亚马逊是什么情况？请给本人一个合理解释。', 'review_title': '此书不是本人购买', 'language': 'zh', 'product_category': 'book'} \n",
      "\n"
     ]
    }
   ],
   "source": [
    "# sample review data:\n",
    "print(\"de_reviews: \",de_reviews[0], \"\\n\")\n",
    "print(\"en_reviews: \",en_reviews[0], \"\\n\")\n",
    "print(\"es_reviews: \",es_reviews[0], \"\\n\")\n",
    "print(\"fr_reviews: \",fr_reviews[0], \"\\n\")\n",
    "print(\"ja_reviews: \",ja_reviews[0], \"\\n\")\n",
    "print(\"zh_reviews: \",zh_reviews[0], \"\\n\")"
   ]
  },
  {
   "cell_type": "markdown",
   "metadata": {},
   "source": [
    "It can be seen that each reviews python list contains a list of python dict or objects. We can extract the raw features:"
   ]
  },
  {
   "cell_type": "code",
   "execution_count": 5,
   "metadata": {},
   "outputs": [
    {
     "name": "stdout",
     "output_type": "stream",
     "text": [
      "Raw Features:  ['review_id', 'product_id', 'reviewer_id', 'stars', 'review_body', 'review_title', 'language', 'product_category']\n"
     ]
    }
   ],
   "source": [
    "print(\"Raw Features: \", list(de_reviews[0].keys()))"
   ]
  },
  {
   "cell_type": "markdown",
   "metadata": {},
   "source": [
    "We see that each json object have the following fields / raw features: ['review_id', 'product_id', 'reviewer_id', 'stars', 'review_body', 'review_title', 'language', 'product_category'."
   ]
  },
  {
   "cell_type": "markdown",
   "metadata": {},
   "source": [
    "Next, we can take a look at the size of each reviews python list:"
   ]
  },
  {
   "cell_type": "code",
   "execution_count": 6,
   "metadata": {},
   "outputs": [
    {
     "data": {
      "image/png": "[encoded data removed]",
      "text/plain": [
       "<Figure size 720x360 with 1 Axes>"
      ]
     },
     "metadata": {
      "needs_background": "light"
     },
     "output_type": "display_data"
    },
    {
     "name": "stdout",
     "output_type": "stream",
     "text": [
      "de_reviews size:  200000 reviews\n",
      "\n",
      "en_reviews size:  200000 reviews\n",
      "\n",
      "es_reviews size:  200000 reviews\n",
      "\n",
      "fr_reviews size:  200000 reviews\n",
      "\n",
      "ja_reviews size:  200000 reviews\n",
      "\n",
      "zh_reviews size:  200000 reviews\n",
      "\n",
      "Total number of training samples:  1200000 reviews\n",
      "\n"
     ]
    }
   ],
   "source": [
    "# Exploring size of data\n",
    "langauge_count = {'English': len(en_reviews), 'Spanish': len(es_reviews), 'French': len(fr_reviews), 'German': len(de_reviews), 'Japanese': len(ja_reviews), 'Chinese': len(zh_reviews)}\n",
    "\n",
    "lang = list(langauge_count.keys())\n",
    "values = list(langauge_count.values())\n",
    "  \n",
    "fig = plt.figure(figsize = (10, 5))\n",
    " \n",
    "# creating the bar plot\n",
    "plt.bar(lang, values, color ='maroon',\n",
    "        width = 0.4)\n",
    " \n",
    "plt.xlabel(\"Langauges\")\n",
    "plt.ylabel(\"No. of reviews\")\n",
    "plt.title(\"Reviews Gathered From Each Langauge Dataset\")\n",
    "plt.show()\n",
    "print(\"de_reviews size: \",len(de_reviews), \"reviews\\n\")\n",
    "print(\"en_reviews size: \",len(en_reviews), \"reviews\\n\")\n",
    "print(\"es_reviews size: \",len(es_reviews), \"reviews\\n\")\n",
    "print(\"fr_reviews size: \",len(fr_reviews), \"reviews\\n\")\n",
    "print(\"ja_reviews size: \",len(ja_reviews), \"reviews\\n\")\n",
    "print(\"zh_reviews size: \",len(zh_reviews), \"reviews\\n\")\n",
    "\n",
    "print(\"Total number of training samples: \", len(de_reviews) + len(en_reviews) + len(es_reviews) + len(fr_reviews) + len(ja_reviews) + len(zh_reviews), \"reviews\\n\")\n"
   ]
  },
  {
   "attachments": {},
   "cell_type": "markdown",
   "metadata": {},
   "source": [
    "Note that there are a total of 1.2 million reivews with 200,000 reviews from each lanaguage .json file. Based on the dataset, we see that the data is pretty much uniform across all langauges. "
   ]
  },
  {
   "attachments": {},
   "cell_type": "markdown",
   "metadata": {},
   "source": [
    "We will be parsing the raw data from json file into pandas dataframes because of dataset size. Since this is a large dataset, pandas library has built-in routines to allow for faster processing of big data. Here we are displaying a cleaner plot and pie chart of the dataset."
   ]
  },
  {
   "cell_type": "code",
   "execution_count": 7,
   "metadata": {},
   "outputs": [
    {
     "data": {
      "text/plain": [
       "<AxesSubplot:ylabel='stars'>"
      ]
     },
     "execution_count": 7,
     "metadata": {},
     "output_type": "execute_result"
    },
    {
     "data": {
      "image/png": "[encoded data removed]",
      "text/plain": [
       "<Figure size 432x288 with 1 Axes>"
      ]
     },
     "metadata": {
      "needs_background": "light"
     },
     "output_type": "display_data"
    },
    {
     "data": {
      "image/png": "[encoded data removed]",
      "text/plain": [
       "<Figure size 432x288 with 1 Axes>"
      ]
     },
     "metadata": {},
     "output_type": "display_data"
    }
   ],
   "source": [
    "en_df = pd.read_json('dataset_en_train.json', lines=True, orient='columns')\n",
    "es_df = pd.read_json('dataset_es_train.json', lines=True, orient='columns')\n",
    "fr_df = pd.read_json('dataset_fr_train.json', lines=True, orient='columns')\n",
    "de_df = pd.read_json('dataset_de_train.json', lines=True, orient='columns')\n",
    "ja_df = pd.read_json('dataset_ja_train.json', lines=True, orient='columns')\n",
    "zh_df = pd.read_json('dataset_zh_train.json', lines=True, orient='columns')\n",
    "lang_frames = [en_df, es_df, fr_df, de_df, ja_df, zh_df]\n",
    "all_reviews_df = pd.concat(lang_frames)\n",
    "all_reviews_df['language'].value_counts().plot(kind=\"bar\", title=\"Reviews Gathered from Each Language\")\n",
    "# Rotate the x-labels by 30 degrees, and keep the text aligned horizontally\n",
    "plt.xticks(rotation=30, horizontalalignment=\"center\")\n",
    "plt.title(\"Reviews Gathered from Each Language\")\n",
    "plt.xlabel(\"Language\")\n",
    "plt.ylabel(\"Number of Reviews\")\n",
    "all_reviews_df.groupby(['language']).sum().plot(kind='pie', y='stars', autopct='%1.0f%%')"
   ]
  },
  {
   "attachments": {},
   "cell_type": "markdown",
   "metadata": {},
   "source": [
    "Note that there are a total of 1.2 million reivews with 200,000 reviews from each lanaguage .json file. Based on the dataset, we see that the data is pretty much uniform across all langauges. The pie chart also shows that the dataset is balanced among all six language. Each reviews from each language comprise of approximately 17% of the total reviews. "
   ]
  },
  {
   "attachments": {},
   "cell_type": "markdown",
   "metadata": {},
   "source": [
    "We will also check for null values in the dataset / pandas dataframe."
   ]
  },
  {
   "cell_type": "code",
   "execution_count": 8,
   "metadata": {},
   "outputs": [
    {
     "data": {
      "text/plain": [
       "review_id           0\n",
       "product_id          0\n",
       "reviewer_id         0\n",
       "stars               0\n",
       "review_body         0\n",
       "review_title        0\n",
       "language            0\n",
       "product_category    0\n",
       "dtype: int64"
      ]
     },
     "execution_count": 8,
     "metadata": {},
     "output_type": "execute_result"
    }
   ],
   "source": [
    "all_reviews_df.isnull().sum()"
   ]
  },
  {
   "attachments": {},
   "cell_type": "markdown",
   "metadata": {},
   "source": [
    "We see that there are no null values present in this dataset."
   ]
  },
  {
   "cell_type": "markdown",
   "metadata": {},
   "source": [
    "# **2. Pre-processing**"
   ]
  },
  {
   "attachments": {},
   "cell_type": "markdown",
   "metadata": {},
   "source": [
    "On top of parsing the json data into pandas dataframe, we will be employing smapling method to the large dataset. The reason for sampling is because we do not have enough computing or processing power to analyze all of the 1.2 million samples in the dataset. We will be sampling 1000 reviews from each language json data. 1000 reviews is the threshold before our computing resources and kernel crashes."
   ]
  },
  {
   "cell_type": "code",
   "execution_count": 9,
   "metadata": {},
   "outputs": [
    {
     "name": "stdout",
     "output_type": "stream",
     "text": [
      "English Reviews:  1000\n",
      "Spanish Reviews:  1000\n",
      "French Reviews:  1000\n",
      "German Reviews:   1000\n",
      "Japanese Reviews:  1000\n",
      "Chinese Reviews 1000\n",
      "Total Reviews:  6000\n"
     ]
    }
   ],
   "source": [
    "en_df = pd.read_json('dataset_en_train.json', lines=True, orient='columns').sample(1000)\n",
    "es_df = pd.read_json('dataset_es_train.json', lines=True, orient='columns').sample(1000)\n",
    "fr_df = pd.read_json('dataset_fr_train.json', lines=True, orient='columns').sample(1000)\n",
    "de_df = pd.read_json('dataset_de_train.json', lines=True, orient='columns').sample(1000)\n",
    "ja_df = pd.read_json('dataset_ja_train.json', lines=True, orient='columns').sample(1000)\n",
    "zh_df = pd.read_json('dataset_zh_train.json', lines=True, orient='columns').sample(1000)\n",
    "lang_frames = [en_df, es_df, fr_df, de_df, ja_df, zh_df]\n",
    "all_reviews_df = pd.concat(lang_frames)\n",
    "print('English Reviews: ', len(en_df))\n",
    "print('Spanish Reviews: ', len(es_df))\n",
    "print('French Reviews: ', len(fr_df))\n",
    "print('German Reviews:  ', len(de_df))\n",
    "print('Japanese Reviews: ', len(ja_df))\n",
    "print('Chinese Reviews',len(zh_df))\n",
    "print('Total Reviews: ',len(all_reviews_df))"
   ]
  },
  {
   "attachments": {},
   "cell_type": "markdown",
   "metadata": {},
   "source": [
    "We need to do some preprocessing for the data. The text data must meet the following preprocessing conditions:\n",
    "\n",
    "1. All words in texts are converted to lower case.\n",
    "2. All digits and numbers are removed from the text sentences.\n",
    "3. Punctuation marks and special characters are removed.\n",
    "4. All sentences are concatenated with space in between.\n",
    "5. Series of contiguous white spaces (e.g double spaces) and trailing spaces are replaced with a single space.\n",
    "\n",
    "By cleaning our raw text data this way, we will be able to use sklearn's CountVectorizer() to create our bags of words model (see section 3 Feature Extraction / Engineering and Feature learning)."
   ]
  },
  {
   "cell_type": "code",
   "execution_count": 10,
   "metadata": {},
   "outputs": [
    {
     "data": {
      "text/html": [
       "<div>\n",
       "<style scoped>\n",
       "    .dataframe tbody tr th:only-of-type {\n",
       "        vertical-align: middle;\n",
       "    }\n",
       "\n",
       "    .dataframe tbody tr th {\n",
       "        vertical-align: top;\n",
       "    }\n",
       "\n",
       "    .dataframe thead th {\n",
       "        text-align: right;\n",
       "    }\n",
       "</style>\n",
       "<table border=\"1\" class=\"dataframe\">\n",
       "  <thead>\n",
       "    <tr style=\"text-align: right;\">\n",
       "      <th></th>\n",
       "      <th>review_id</th>\n",
       "      <th>product_id</th>\n",
       "      <th>reviewer_id</th>\n",
       "      <th>stars</th>\n",
       "      <th>review_body</th>\n",
       "      <th>review_title</th>\n",
       "      <th>language</th>\n",
       "      <th>product_category</th>\n",
       "    </tr>\n",
       "  </thead>\n",
       "  <tbody>\n",
       "    <tr>\n",
       "      <th>30151</th>\n",
       "      <td>en_0464453</td>\n",
       "      <td>product_en_0977006</td>\n",
       "      <td>reviewer_en_0829170</td>\n",
       "      <td>1</td>\n",
       "      <td>This is a nice body oil, however, if you are l...</td>\n",
       "      <td>not kukui nut oil</td>\n",
       "      <td>en</td>\n",
       "      <td>beauty</td>\n",
       "    </tr>\n",
       "    <tr>\n",
       "      <th>67108</th>\n",
       "      <td>en_0948043</td>\n",
       "      <td>product_en_0811296</td>\n",
       "      <td>reviewer_en_0697522</td>\n",
       "      <td>2</td>\n",
       "      <td>It is a cheap case. It is not that snug. It do...</td>\n",
       "      <td>seems very loose if you are looking try someth...</td>\n",
       "      <td>en</td>\n",
       "      <td>wireless</td>\n",
       "    </tr>\n",
       "    <tr>\n",
       "      <th>273</th>\n",
       "      <td>en_0028954</td>\n",
       "      <td>product_en_0934674</td>\n",
       "      <td>reviewer_en_0667850</td>\n",
       "      <td>1</td>\n",
       "      <td>Never received item.</td>\n",
       "      <td>one star</td>\n",
       "      <td>en</td>\n",
       "      <td>other</td>\n",
       "    </tr>\n",
       "    <tr>\n",
       "      <th>36665</th>\n",
       "      <td>en_0044211</td>\n",
       "      <td>product_en_0652266</td>\n",
       "      <td>reviewer_en_0300390</td>\n",
       "      <td>1</td>\n",
       "      <td>I am in need of a warranty claim for this prod...</td>\n",
       "      <td>need customer service</td>\n",
       "      <td>en</td>\n",
       "      <td>home</td>\n",
       "    </tr>\n",
       "    <tr>\n",
       "      <th>32266</th>\n",
       "      <td>en_0975073</td>\n",
       "      <td>product_en_0480841</td>\n",
       "      <td>reviewer_en_0913643</td>\n",
       "      <td>1</td>\n",
       "      <td>I have yet to receive the product but ranking ...</td>\n",
       "      <td>i have yet to receive the product but ranking</td>\n",
       "      <td>en</td>\n",
       "      <td>sports</td>\n",
       "    </tr>\n",
       "    <tr>\n",
       "      <th>146591</th>\n",
       "      <td>en_0275147</td>\n",
       "      <td>product_en_0915005</td>\n",
       "      <td>reviewer_en_0686651</td>\n",
       "      <td>4</td>\n",
       "      <td>Pretty Fun And Relaxing</td>\n",
       "      <td>review</td>\n",
       "      <td>en</td>\n",
       "      <td>other</td>\n",
       "    </tr>\n",
       "    <tr>\n",
       "      <th>87060</th>\n",
       "      <td>en_0782878</td>\n",
       "      <td>product_en_0729834</td>\n",
       "      <td>reviewer_en_0442574</td>\n",
       "      <td>3</td>\n",
       "      <td>the straps aren't connected there are 3 chain ...</td>\n",
       "      <td>the straps aren t connected there are chain yo...</td>\n",
       "      <td>en</td>\n",
       "      <td>apparel</td>\n",
       "    </tr>\n",
       "    <tr>\n",
       "      <th>49316</th>\n",
       "      <td>en_0281656</td>\n",
       "      <td>product_en_0947999</td>\n",
       "      <td>reviewer_en_0221258</td>\n",
       "      <td>2</td>\n",
       "      <td>These planters are very flimsy. Would not reco...</td>\n",
       "      <td>two stars</td>\n",
       "      <td>en</td>\n",
       "      <td>lawn_and_garden</td>\n",
       "    </tr>\n",
       "    <tr>\n",
       "      <th>110687</th>\n",
       "      <td>en_0499565</td>\n",
       "      <td>product_en_0968773</td>\n",
       "      <td>reviewer_en_0788882</td>\n",
       "      <td>3</td>\n",
       "      <td>The figure was damaged</td>\n",
       "      <td></td>\n",
       "      <td>en</td>\n",
       "      <td>toy</td>\n",
       "    </tr>\n",
       "    <tr>\n",
       "      <th>122962</th>\n",
       "      <td>en_0354401</td>\n",
       "      <td>product_en_0431986</td>\n",
       "      <td>reviewer_en_0197825</td>\n",
       "      <td>4</td>\n",
       "      <td>Cute- smaller than expected, but great for kid...</td>\n",
       "      <td>kiddie sized</td>\n",
       "      <td>en</td>\n",
       "      <td>apparel</td>\n",
       "    </tr>\n",
       "  </tbody>\n",
       "</table>\n",
       "</div>"
      ],
      "text/plain": [
       "         review_id          product_id          reviewer_id  stars  \\\n",
       "30151   en_0464453  product_en_0977006  reviewer_en_0829170      1   \n",
       "67108   en_0948043  product_en_0811296  reviewer_en_0697522      2   \n",
       "273     en_0028954  product_en_0934674  reviewer_en_0667850      1   \n",
       "36665   en_0044211  product_en_0652266  reviewer_en_0300390      1   \n",
       "32266   en_0975073  product_en_0480841  reviewer_en_0913643      1   \n",
       "146591  en_0275147  product_en_0915005  reviewer_en_0686651      4   \n",
       "87060   en_0782878  product_en_0729834  reviewer_en_0442574      3   \n",
       "49316   en_0281656  product_en_0947999  reviewer_en_0221258      2   \n",
       "110687  en_0499565  product_en_0968773  reviewer_en_0788882      3   \n",
       "122962  en_0354401  product_en_0431986  reviewer_en_0197825      4   \n",
       "\n",
       "                                              review_body  \\\n",
       "30151   This is a nice body oil, however, if you are l...   \n",
       "67108   It is a cheap case. It is not that snug. It do...   \n",
       "273                                  Never received item.   \n",
       "36665   I am in need of a warranty claim for this prod...   \n",
       "32266   I have yet to receive the product but ranking ...   \n",
       "146591                            Pretty Fun And Relaxing   \n",
       "87060   the straps aren't connected there are 3 chain ...   \n",
       "49316   These planters are very flimsy. Would not reco...   \n",
       "110687                             The figure was damaged   \n",
       "122962  Cute- smaller than expected, but great for kid...   \n",
       "\n",
       "                                             review_title language  \\\n",
       "30151                                  not kukui nut oil        en   \n",
       "67108   seems very loose if you are looking try someth...       en   \n",
       "273                                              one star       en   \n",
       "36665                               need customer service       en   \n",
       "32266      i have yet to receive the product but ranking        en   \n",
       "146591                                             review       en   \n",
       "87060   the straps aren t connected there are chain yo...       en   \n",
       "49316                                           two stars       en   \n",
       "110687                                                          en   \n",
       "122962                                       kiddie sized       en   \n",
       "\n",
       "       product_category  \n",
       "30151            beauty  \n",
       "67108          wireless  \n",
       "273               other  \n",
       "36665              home  \n",
       "32266            sports  \n",
       "146591            other  \n",
       "87060           apparel  \n",
       "49316   lawn_and_garden  \n",
       "110687              toy  \n",
       "122962          apparel  "
      ]
     },
     "execution_count": 10,
     "metadata": {},
     "output_type": "execute_result"
    }
   ],
   "source": [
    "#remove special characters from text column\n",
    "all_reviews_df['review_title'] = all_reviews_df['review_title'].str.replace('\\W', ' ', regex=True)\n",
    "# remove numbers and digits form text\n",
    "all_reviews_df['review_title'] = all_reviews_df['review_title'].str.replace('\\d', ' ', regex=True)\n",
    "# convert text to lower case\n",
    "all_reviews_df['review_title'] = all_reviews_df['review_title'].str.lower()\n",
    "# remove n spaces and convert to a single space\n",
    "all_reviews_df['review_title'] = all_reviews_df['review_title'].str.replace('\\s{2,}', ' ', regex=True)\n",
    "# remove leading and trailing spaces\n",
    "all_reviews_df['review_title'].str.strip()\n",
    "all_reviews_df.head(10)"
   ]
  },
  {
   "attachments": {},
   "cell_type": "markdown",
   "metadata": {},
   "source": [
    "We will be removing all the columns that we will not be needing for our analysis. We will be keeping our raw text data: review_title, and label: language."
   ]
  },
  {
   "cell_type": "code",
   "execution_count": 11,
   "metadata": {},
   "outputs": [
    {
     "name": "stdout",
     "output_type": "stream",
     "text": [
      "                                            review_title language\n",
      "30151                                 not kukui nut oil        en\n",
      "67108  seems very loose if you are looking try someth...       en\n",
      "(6000, 2)\n"
     ]
    }
   ],
   "source": [
    "all_reviews_df = all_reviews_df[[\"review_title\", \"language\"]]\n",
    "print(all_reviews_df.head(2))\n",
    "print(all_reviews_df.shape)"
   ]
  },
  {
   "attachments": {},
   "cell_type": "markdown",
   "metadata": {},
   "source": [
    "# **3. Feature Extraction / Feature Learning**"
   ]
  },
  {
   "attachments": {},
   "cell_type": "markdown",
   "metadata": {},
   "source": [
    "In our next step, we will be label encoding our output feature. Based on the way the dataframe is loaded. The labelencoder will encode language as: \n",
    "\n",
    "0: en, \n",
    "1: es,\n",
    "2: fr,\n",
    "3: de,\n",
    "4: ja, and\n",
    "5: zh.\n",
    "\n",
    "By encoding our label, we will be able to perform Multinomial Naivve Bayes and K-Nearest Neighbors using sklearn library"
   ]
  },
  {
   "cell_type": "code",
   "execution_count": 12,
   "metadata": {},
   "outputs": [
    {
     "data": {
      "text/html": [
       "<div>\n",
       "<style scoped>\n",
       "    .dataframe tbody tr th:only-of-type {\n",
       "        vertical-align: middle;\n",
       "    }\n",
       "\n",
       "    .dataframe tbody tr th {\n",
       "        vertical-align: top;\n",
       "    }\n",
       "\n",
       "    .dataframe thead th {\n",
       "        text-align: right;\n",
       "    }\n",
       "</style>\n",
       "<table border=\"1\" class=\"dataframe\">\n",
       "  <thead>\n",
       "    <tr style=\"text-align: right;\">\n",
       "      <th></th>\n",
       "      <th>review_title</th>\n",
       "      <th>language</th>\n",
       "    </tr>\n",
       "  </thead>\n",
       "  <tbody>\n",
       "    <tr>\n",
       "      <th>30151</th>\n",
       "      <td>not kukui nut oil</td>\n",
       "      <td>1</td>\n",
       "    </tr>\n",
       "    <tr>\n",
       "      <th>67108</th>\n",
       "      <td>seems very loose if you are looking try someth...</td>\n",
       "      <td>1</td>\n",
       "    </tr>\n",
       "    <tr>\n",
       "      <th>273</th>\n",
       "      <td>one star</td>\n",
       "      <td>1</td>\n",
       "    </tr>\n",
       "    <tr>\n",
       "      <th>36665</th>\n",
       "      <td>need customer service</td>\n",
       "      <td>1</td>\n",
       "    </tr>\n",
       "    <tr>\n",
       "      <th>32266</th>\n",
       "      <td>i have yet to receive the product but ranking</td>\n",
       "      <td>1</td>\n",
       "    </tr>\n",
       "  </tbody>\n",
       "</table>\n",
       "</div>"
      ],
      "text/plain": [
       "                                            review_title  language\n",
       "30151                                 not kukui nut oil          1\n",
       "67108  seems very loose if you are looking try someth...         1\n",
       "273                                             one star         1\n",
       "36665                              need customer service         1\n",
       "32266     i have yet to receive the product but ranking          1"
      ]
     },
     "execution_count": 12,
     "metadata": {},
     "output_type": "execute_result"
    }
   ],
   "source": [
    "le = preprocessing.LabelEncoder();\n",
    "all_reviews_df['language'] = le.fit_transform(all_reviews_df['language'])\n",
    "all_reviews_df.head()"
   ]
  },
  {
   "attachments": {},
   "cell_type": "markdown",
   "metadata": {},
   "source": [
    "Next, we will transform our raw text data into numerical values by using the bags of words model. By using the bag of words mode, we will be able to extract features from our raw text data. The bag of words model works by describing the occurrence of words within a document. We only keep track of word count and disregard grammar / syntax. In other words, bags of word model is a way for us to vectorize our raw text data / convert to numerical values. For example, lets say we have 3 sentences: The toy is big, The toy is small. The bags of words model would vectorize the two sentences as [The: 2, toy: 2, is: 2, big: 1 small: 1]. These values in the list represent the frequency and the keys in the list are the words fot which those frequency values correspond to. Each word is now associated with a count value.\n",
    "\n",
    "\n",
    "In our case, we can use CountVectorizer() to help us create count the occurences and create a matrix of those occurence of each word to create our bag of words model. COunterVectorizer() would store the freuencies of each words in a simlar way above in a matrix. This matrix would be our input feature that we would use for the models."
   ]
  },
  {
   "cell_type": "code",
   "execution_count": 13,
   "metadata": {},
   "outputs": [
    {
     "name": "stdout",
     "output_type": "stream",
     "text": [
      "(6000, 6631)\n"
     ]
    }
   ],
   "source": [
    "X = all_reviews_df['review_title']\n",
    "Y = all_reviews_df['language']\n",
    "\n",
    "CV = CountVectorizer()\n",
    "X = CV.fit_transform(X).toarray()\n",
    "\n",
    "print(X.shape)"
   ]
  },
  {
   "attachments": {},
   "cell_type": "markdown",
   "metadata": {},
   "source": [
    "# 4. **Processing**"
   ]
  },
  {
   "attachments": {},
   "cell_type": "markdown",
   "metadata": {},
   "source": [
    "We will now begin processing the data. We will perform Multinomial Naive Bayes and K-Nearest Neighbors classifiers. "
   ]
  },
  {
   "attachments": {},
   "cell_type": "markdown",
   "metadata": {},
   "source": [
    "We will start off by using Multinomial Naive Bayes for multiclass classification. Naive Bayes is based off of Baye's Theorem and assumes that the features of the dataset are independent.\n",
    "\n",
    "$$\n",
    "P(A |B) = \\frac{P(B|A) P(A)}{P(B)}\n",
    "$$\n",
    "\n",
    "where P(A) is the probabiltiy of A, P(B|A) is the probabiltiy of B given A occurs, P(A|B) is the probabilty A given B occurs, and P(B) is the probability of B. The posterior probability can be interpreted as what is the revised probabilty after receiving new information. The Naive Bayes model uses the posterior probability to classify new samples. Multinomial Naive Bayes classifer is a specifc instance of the Naive Bayes Classififer where each feature uses a multinomial distribution. One way to think about Multinomial Naive Bayes Classifier is that it calculates the likelihood to be a specfic count / frequency (of a word in our case).\n",
    "\n",
    "We will use the MultinomialNB() to help us implement this. We first instantiate the MultinomialNB object, and then fit the data using .fit() with our input feature and output feature as paramters."
   ]
  },
  {
   "cell_type": "code",
   "execution_count": null,
   "metadata": {},
   "outputs": [
    {
     "ename": "",
     "evalue": "",
     "output_type": "error",
     "traceback": [
      "\u001b[1;31mRunning cells with '/usr/local/bin/python3' requires ipykernel package.\n",
      "\u001b[1;31mRun the following command to install 'ipykernel' into the Python environment. \n",
      "\u001b[1;31mCommand: '/usr/local/bin/python3 -m pip install ipykernel -U --user --force-reinstall'"
     ]
    }
   ],
   "source": [
    "from sklearn.naive_bayes import MultinomialNB\n",
    "from sklearn.neighbors import KNeighborsClassifier\n",
    "from sklearn.model_selection import cross_validate\n",
    "\n",
    "model1 = MultinomialNB()\n",
    "model1.fit(X, Y)"
   ]
  },
  {
   "attachments": {},
   "cell_type": "markdown",
   "metadata": {},
   "source": [
    "Next, we will use K Nearest Neighbors to create our second model. The K Nearest Neigghbor Algorithm works by assuming that similar features are always close together (small proximity to each other | K nearest neighbors isn't restricted to Eclidean distances). For choosing our parameter k, we will run KNN multiple times with different k values to determine the best k to use for the model. Ideally, we would like our predictions to be stable and by running the KNN algorithm for different k values we would be able to determine an optimal k value fot the model.\n",
    "\n",
    "We will be using KNeighborsClassifier() from sklearn to help us implement our model. First, we must choose k. With the help of cross_validate() from sklearn, we can determine our optimal k value by finding the input that maximizes mean_validation_scores."
   ]
  },
  {
   "cell_type": "code",
   "execution_count": 15,
   "metadata": {},
   "outputs": [
    {
     "data": {
      "image/png": "[encoded data removed]",
      "text/plain": [
       "<Figure size 432x288 with 1 Axes>"
      ]
     },
     "metadata": {
      "needs_background": "light"
     },
     "output_type": "display_data"
    },
    {
     "data": {
      "text/plain": [
       "KNeighborsClassifier(n_neighbors=20)"
      ]
     },
     "execution_count": 15,
     "metadata": {},
     "output_type": "execute_result"
    }
   ],
   "source": [
    "k_values = list(range(1, 21)) \n",
    "cross_validation_scores_model = [cross_validate(KNeighborsClassifier(n_neighbors = k), X, Y) for k in k_values] #compute cross validation scores for each alpha for Ridge Regression\n",
    "mean_validation_scores_model = [data[\"test_score\"].mean() for data in cross_validation_scores_model] #compute mean of cross validation scores\n",
    "std_validation_scores_model = [data[\"test_score\"].std() for data in cross_validation_scores_model] #compute standard deviation of cross validation scores\n",
    "best_k = k_values[np.argmax(mean_validation_scores_model)] #determine which alpha gives us best cross validation score\n",
    "\n",
    "k_scores = []\n",
    "# use different k in models, then return the average accuracy based on the cross validation\n",
    "for k in k_values:\n",
    "    knn = KNeighborsClassifier(n_neighbors=k)\n",
    "    scores = cross_val_score(knn, X, Y, cv=5, scoring='accuracy')\n",
    "    k_scores.append(scores.mean())\n",
    "# plotting\n",
    "plt.plot(k_values, k_scores)\n",
    "plt.xlabel('Value of k for KNN')\n",
    "plt.ylabel('Cross-Validation Accuracy')\n",
    "plt.show()\n",
    "\n",
    "# use best k value for KNN:\n",
    "model3 = KNeighborsClassifier(n_neighbors = best_k)\n",
    "model3.fit(X, Y)"
   ]
  },
  {
   "attachments": {},
   "cell_type": "markdown",
   "metadata": {},
   "source": [
    "The plot above shows the cross validation accuracy with respect to the k values. We can use the plot above to help us determine the optimal k vlaue for KNN classifcation."
   ]
  },
  {
   "attachments": {},
   "cell_type": "markdown",
   "metadata": {},
   "source": [
    "# **5. Comparative Analysis**"
   ]
  },
  {
   "attachments": {},
   "cell_type": "markdown",
   "metadata": {},
   "source": [
    "In order to test our Multinomial naive bayes and K-Nearest Neighbor classifer, we will use our test data. Our test data is also stored in json format, so we will have to parse the json data into pandas dataframe just like how we parsed our training data."
   ]
  },
  {
   "cell_type": "code",
   "execution_count": 16,
   "metadata": {},
   "outputs": [
    {
     "name": "stdout",
     "output_type": "stream",
     "text": [
      "English Reviews:  5000\n",
      "Spanish Reviews:  5000\n",
      "French Reviews:  5000\n",
      "German Reviews:   5000\n",
      "Japanese Reviews:  5000\n",
      "Chinese Reviews 5000\n",
      "Total Reviews:  30000\n"
     ]
    }
   ],
   "source": [
    "en_df_test = pd.read_json('dataset_en_test.json', lines=True, orient='columns')\n",
    "es_df_test = pd.read_json('dataset_es_test.json', lines=True, orient='columns')\n",
    "fr_df_test = pd.read_json('dataset_fr_test.json', lines=True, orient='columns')\n",
    "de_df_test = pd.read_json('dataset_de_test.json', lines=True, orient='columns')\n",
    "ja_df_test = pd.read_json('dataset_ja_test.json', lines=True, orient='columns')\n",
    "zh_df_test = pd.read_json('dataset_zh_test.json', lines=True, orient='columns')\n",
    "lang_frames_test = [en_df_test, es_df_test, fr_df_test, de_df_test, ja_df_test, zh_df_test]\n",
    "all_reviews_df_test = pd.concat(lang_frames_test)\n",
    "print('English Reviews: ', len(en_df_test))\n",
    "print('Spanish Reviews: ', len(es_df_test))\n",
    "print('French Reviews: ', len(fr_df_test))\n",
    "print('German Reviews:  ', len(de_df_test))\n",
    "print('Japanese Reviews: ', len(ja_df_test))\n",
    "print('Chinese Reviews',len(zh_df_test))\n",
    "print('Total Reviews: ',len(all_reviews_df_test))"
   ]
  },
  {
   "attachments": {},
   "cell_type": "markdown",
   "metadata": {},
   "source": [
    "Next we will clean the test data and use the cleaned data into our models. We will compare the models by comparing the two confusion matrices."
   ]
  },
  {
   "cell_type": "code",
   "execution_count": 17,
   "metadata": {},
   "outputs": [
    {
     "name": "stdout",
     "output_type": "stream",
     "text": [
      "[[4882   56   26   35    0    1]\n",
      " [ 258 4686   29   27    0    0]\n",
      " [ 616   15 4340   29    0    0]\n",
      " [ 579   50  151 4220    0    0]\n",
      " [4477   13    6    7  496    1]\n",
      " [3876   13    3    2    1 1105]]\n",
      "[[3240    4   12   37    0 1707]\n",
      " [ 792 2372   58   14    0 1764]\n",
      " [ 639    1 2247  112    0 2001]\n",
      " [ 842    1   58 2109    0 1990]\n",
      " [  97    2    0    0   64 4837]\n",
      " [  86    6    0    0    0 4908]]\n"
     ]
    }
   ],
   "source": [
    "#remove special characters from text column\n",
    "all_reviews_df_test['review_title'] = all_reviews_df_test['review_title'].str.replace('\\W', ' ', regex=True)\n",
    "# remove numbers and digits form text\n",
    "all_reviews_df_test['review_title'] = all_reviews_df_test['review_title'].str.replace('\\d', ' ', regex=True)\n",
    "# convert text to lower case\n",
    "all_reviews_df_test['review_title'] = all_reviews_df_test['review_title'].str.lower()\n",
    "# remove n spaces and convert to a single space\n",
    "all_reviews_df_test['review_title'] = all_reviews_df_test['review_title'].str.replace('\\s{2,}', ' ', regex=True)\n",
    "# remove leading and trailing spaces\n",
    "all_reviews_df_test['review_title'].str.strip()\n",
    "\n",
    "all_reviews_df_test = all_reviews_df_test[[\"review_body\", \"review_title\", \"language\"]]\n",
    "\n",
    "all_reviews_df_test['language'] = le.transform(all_reviews_df_test['language'])\n",
    "\n",
    "\n",
    "X = all_reviews_df_test['review_title']\n",
    "Y = all_reviews_df_test['language']\n",
    "X = CV.transform(X).toarray()\n",
    "\n",
    "Y_pred1 = model1.predict(X)\n",
    "conf_mat1 = confusion_matrix(Y, Y_pred1, labels = model1.classes_)\n",
    "\n",
    "Y_pred3 = model3.predict(X)\n",
    "conf_mat3 = confusion_matrix(Y, Y_pred3, labels = model3.classes_)\n",
    "\n",
    "print(conf_mat1)\n",
    "print(conf_mat3)\n",
    "\n",
    "from sklearn.metrics import plot_confusion_matrix\n",
    "\n"
   ]
  },
  {
   "attachments": {},
   "cell_type": "markdown",
   "metadata": {},
   "source": [
    "To plot our cofusion matrices, we can use ConfusionMatrixDisplay() from sklearn"
   ]
  },
  {
   "cell_type": "code",
   "execution_count": 18,
   "metadata": {},
   "outputs": [
    {
     "data": {
      "image/png": "[encoded data removed]",
      "text/plain": [
       "<Figure size 432x288 with 2 Axes>"
      ]
     },
     "metadata": {
      "needs_background": "light"
     },
     "output_type": "display_data"
    },
    {
     "data": {
      "image/png": "[encoded data removed]",
      "text/plain": [
       "<Figure size 432x288 with 2 Axes>"
      ]
     },
     "metadata": {
      "needs_background": "light"
     },
     "output_type": "display_data"
    }
   ],
   "source": [
    "from sklearn.metrics import ConfusionMatrixDisplay\n",
    "import matplotlib.pyplot as plt\n",
    "\n",
    "disp1 = ConfusionMatrixDisplay(confusion_matrix=conf_mat1, display_labels= ['0', '1', '2', '3', '4', '5'])\n",
    "disp1.plot()\n",
    "plt.show()\n",
    "disp2 = ConfusionMatrixDisplay(confusion_matrix=conf_mat3, display_labels= ['0', '1', '2', '3', '4', '5'])\n",
    "disp2.plot()\n",
    "plt.show()"
   ]
  },
  {
   "attachments": {},
   "cell_type": "markdown",
   "metadata": {},
   "source": [
    "After testing both of our classifer with 5000 reviews for each langauge, we can create confusion matrices for both classifers for comparision. Comparative confusion matrices are also shown above for the bag of words approach. For readability, the matrices are truncated to label encoding: English: 0, Spanish: 1, French: 2, German: 3, Japanese: 4, and Chinese: 5. We can gather numerous statistics and performance metrics from confusion matrices. Upon first glance of both confusion matrices, we see that Multinomial Naive Bayes perform poorly on trying to clasify Japanese or Chinese. We also see that K-nearest Neighbors is able to classify Chinese text correctly more than Multinomial Naive Bayes model.\n",
    "\n",
    "With these confusion matrices, we can extract the performance metric, such as precision, recall, accuracy, etc. We see that the True positives for English, Spanish, French, and German is higher for Multinomial Naive Bayes model compared to K Nearest Neighbor Model. The True positive for Chinese is higher for K Nearest Neighbors compared to Multinomial Naive Bayes.\n",
    "\n",
    "As for deciding which model to put into production, the Multinomial Naive Bayes would be the best to put into production. Comparing the two confusion matrices and performance metrics, it seems that Multinomial Naive Bayes Classifier is better at classifying more langauges than the K Nearest Neighbor model. If possible, the multinomial Naive Bayes model should be used in production for English, Spanish, French, and German language.\n",
    "\n",
    "Note: If we train / runn this notebook again, we may get slightly different results because of the fact that we are sampling 1000 reviews for each langauge."
   ]
  },
  {
   "cell_type": "markdown",
   "metadata": {},
   "source": [
    "# **6. Discussion of Ethical Issues**"
   ]
  },
  {
   "attachments": {},
   "cell_type": "markdown",
   "metadata": {},
   "source": [
    "Language is a complex system of communication that humans use to express themselves. It is through language that one can communicate with others and show his or her ideas. Every country has their own primary language. The primary language for each country is unique to its geographic location, people, and culture. Every language has its unique rules and syntax. In order to communicate or understand a language, one must understand the structure of that language and learn to communicate ideas. On one hand, it would be benefical to develop such a machine learning model that can identify language so that we can break the language barriers. We must keep in mind that such machine learning model can also bring about ethical issues. There are two main ethical issues that come with developing a machine learning model for identify language: (1) Bias, and (2) Privacy.\n",
    "\n",
    "Although a machine learning model that can detect language of text could be beneficial for companies understanding its customers, it can also bring about negative effects. Since language can be unique to culture or people in specific regions of the world, language can almost always be used to identify one's nationaility or race. Just by connecting language and nationality or race, there could some bias made towards such person. The machine learning model could inadvertently discriminate against marginalized groups. The case that the machine learning model can cause discrimination is not limited to just companies. \n",
    "\n",
    "\n",
    "Machine learning models to identify language of text could cause privacy concerns. Companies can use text provided by users and track them based on language of text provided. As mentioned before, since language can partially identify race or nationality of a person, the classifcation of race by language of text can also lead to risk of privacy. For example, there could be ads tracking users based on language of text users provide. The privacy issue is not limited to companies, governments around the world could also use the model. Not all government are democratic, some are ruled by single party. If such government could use a machine learning model to classify race based on language of text by a person (texts, messages, etc), vulnerable individuals and groups of people could suffer disproportionately."
   ]
  },
  {
   "cell_type": "markdown",
   "metadata": {},
   "source": [
    "# **7. Bibliography**"
   ]
  },
  {
   "attachments": {},
   "cell_type": "markdown",
   "metadata": {},
   "source": [
    "https://docs.opendata.aws/amazon-reviews-ml/readme.html#bibliography\n",
    "\n",
    "Bojanowski, Piotr, et al. “Enriching word vectors with subword information.” Transactions of the Association for Computational Linguistics 5 (2017): 135-146.\n",
    "\n",
    "Phillip Keung, Yichao Lu, György Szarvas and Noah A. Smith. “The Multilingual Amazon Reviews Corpus.” In Proceedings of the 2020 Conference on Empirical Methods in Natural Language Processing, 2020.\n",
    "\n",
    "@inproceedings{marc_reviews,\n",
    "    title={The Multilingual Amazon Reviews Corpus},\n",
    "    author={Keung, Phillip and Lu, Yichao and Szarvas, György and Smith, Noah A.},\n",
    "    booktitle={Proceedings of the 2020 Conference on Empirical Methods in Natural Language Processing},\n",
    "    year={2020}\n",
    "}\n",
    "\n",
    "Zhang, Y., Jin, R. & Zhou, ZH. Understanding bag-of-words model: a statistical framework. Int. J. Mach. Learn. & Cyber. 1, 43–52 (2010). https://doi.org/10.1007/s13042-010-0001-0\n"
   ]
  },
  {
   "cell_type": "markdown",
   "metadata": {},
   "source": []
  }
 ],
 "metadata": {
  "kernelspec": {
   "display_name": "Python 3",
   "language": "python",
   "name": "python3"
  },
  "language_info": {
   "codemirror_mode": {
    "name": "ipython",
    "version": 3
   },
   "file_extension": ".py",
   "mimetype": "text/x-python",
   "name": "python",
   "nbconvert_exporter": "python",
   "pygments_lexer": "ipython3",
   "version": "3.10.8 (main, Oct 13 2022, 10:17:43) [Clang 14.0.0 (clang-1400.0.29.102)]"
  },
  "orig_nbformat": 4,
  "vscode": {
   "interpreter": {
    "hash": "aee8b7b246df8f9039afb4144a1f6fd8d2ca17a180786b69acc140d282b71a49"
   }
  }
 },
 "nbformat": 4,
 "nbformat_minor": 2
}
