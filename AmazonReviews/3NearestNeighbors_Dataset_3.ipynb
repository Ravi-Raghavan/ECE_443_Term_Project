{
 "cells": [
  {
   "cell_type": "markdown",
   "metadata": {},
   "source": [
    "# William Ching\n",
    "# Amazon Reviews Notebook\n",
    "---"
   ]
  },
  {
   "cell_type": "code",
   "execution_count": 2,
   "metadata": {},
   "outputs": [],
   "source": [
    "# import relevant Python libraries\n",
    "import numpy as np\n",
    "import pandas as pd\n",
    "from scipy import stats as sps\n",
    "from matplotlib import pyplot as plt\n",
    "from mpl_toolkits.mplot3d import Axes3D\n",
    "from IPython.display import display, Latex\n",
    "from sklearn import preprocessing\n",
    "import seaborn as sns\n",
    "import json\n",
    "import random\n",
    "import numpy as np\n",
    "from scipy.stats import linregress\n",
    "from sklearn.feature_extraction.text import CountVectorizer\n",
    "from sklearn import preprocessing\n",
    "from sklearn.metrics import confusion_matrix\n",
    "from sklearn.naive_bayes import MultinomialNB\n",
    "from sklearn.neighbors import KNeighborsClassifier\n",
    "from sklearn.model_selection import cross_validate\n",
    "from sklearn.model_selection import cross_val_score\n"
   ]
  },
  {
   "cell_type": "markdown",
   "metadata": {},
   "source": [
    "# **Objectives**"
   ]
  },
  {
   "attachments": {},
   "cell_type": "markdown",
   "metadata": {},
   "source": [
    "**Task for this Dataset:**\n",
    "\n",
    "The task for this dataset will be a classification task. With this dataset we are attempting to create a machine learning model to accurately classify the language of texts from Amazon product reviews: English, Japanese, German, French, Chinese, and Spanish.\n",
    "\n",
    "**Type of Machine Learning Problem:**\n",
    "\n",
    "This problem is a supervised machine learning problem because the labels are provided in the dataset (language of data samples: 6 total). The labels are provided in the respective json file name (i.e. English reviews are provided in the json file with “en” in file name).\n",
    "\n",
    "**Motivation:**\n",
    "\n",
    "Increasingly, people are transitioning to online markets, like Amazon, as it becomes easier to place orders and purchase items over the internet. Amazon has been around since 1994 and has since then grown to millions of users around the world and has become a prominent global business. Amazon extended their marketplace to many regions where customers speak different languages. The language of a marketplace does not necessarily always match the language of a review placed by customers. In this project, we are going to try and create a machine learning model to classify the language of each text review: English, Japanese, German, French, Chinese, and Spanish. In essence, we are trying to create a model that can detect the language of texts. Such machine learning model can help break the language barrier between buyers and sellers. I find the concept of Languages and linguistics interesting because they are an integral part of humanity. Languages enable us to share ideas, thoughts and feelings. Every language has its unique rules and syntax, but they allow humans to communicate and express themselves in different ways. Understanding different languages is important for businesses to build connections and grow a network. This project gives us an opportunity to create a machine learning system by using methods learned in class to classify language of texts. \n"
   ]
  },
  {
   "cell_type": "markdown",
   "metadata": {},
   "source": [
    "# **Setup**"
   ]
  },
  {
   "attachments": {},
   "cell_type": "markdown",
   "metadata": {},
   "source": [
    "#### **Folder Structure:**\n",
    "```\n",
    "📂AmazonReviews\n",
    " ┃\n",
    " ┣ 📙AmazonReviews.ipynb\n",
    " ┃\n",
    " ┣ 📝 dataset_de_test.json\n",
    " ┣ 📝 dataset_en_test.json\n",
    " ┣ 📝 dataset_es_test.json\n",
    " ┣ 📝 dataset_fr_test.json\n",
    " ┣ 📝 dataset_ja_test.json\n",
    " ┣ 📝 dataset_zh_test.json\n",
    " ┃\n",
    " ┣ 📝 dataset_de_train.json\n",
    " ┣ 📝 dataset_en_train.json\n",
    " ┣ 📝 dataset_es_train.json\n",
    " ┣ 📝 dataset_fr_train.json\n",
    " ┣ 📝 dataset_ja_train.json\n",
    " ┗ 📝 dataset_zh_train.json\n",
    " ```\n",
    " #### **Dataset link:**\n",
    " https://s3.console.aws.amazon.com/s3/buckets/amazon-reviews-ml/?region=us-west-2&tab=objects\n",
    " #### **Kernel:**\n",
    " base Python 3.9.12 Conda env"
   ]
  },
  {
   "cell_type": "markdown",
   "metadata": {},
   "source": [
    "# **1. Brief Exploration of Dataset**"
   ]
  },
  {
   "cell_type": "markdown",
   "metadata": {},
   "source": [
    "In this section, we will be carry out a brief exploration of our dataset. We must first note that the training data is given in 6 .json file (see folder structure) for each respective langauges: German (de), English (en), Spanish (es), French (fr), Japanese (ja), and Chinese (zh). In order to start any exploration, we must first parse the json data into our python environment."
   ]
  },
  {
   "cell_type": "code",
   "execution_count": 21,
   "metadata": {},
   "outputs": [],
   "source": [
    "all_reviews = []\n",
    "en_reviews = []\n",
    "de_reviews = []\n",
    "es_reviews = []\n",
    "fr_reviews = []\n",
    "ja_reviews = []\n",
    "zh_reviews = []\n",
    "for line in open('dataset_de_train.json', 'r'):\n",
    "    de_reviews.append(json.loads(line))\n",
    "    all_reviews.append(json.loads(line))\n",
    "for line in open('dataset_en_train.json', 'r'):\n",
    "    en_reviews.append(json.loads(line))\n",
    "    all_reviews.append(json.loads(line))\n",
    "for line in open('dataset_es_train.json', 'r'):\n",
    "    es_reviews.append(json.loads(line))\n",
    "    all_reviews.append(json.loads(line))\n",
    "for line in open('dataset_fr_train.json', 'r'):\n",
    "    fr_reviews.append(json.loads(line))\n",
    "    all_reviews.append(json.loads(line))\n",
    "for line in open('dataset_ja_train.json', 'r'):\n",
    "    ja_reviews.append(json.loads(line))\n",
    "    all_reviews.append(json.loads(line))\n",
    "for line in open('dataset_zh_train.json', 'r'):\n",
    "    zh_reviews.append(json.loads(line))\n",
    "    all_reviews.append(json.loads(line))"
   ]
  },
  {
   "attachments": {},
   "cell_type": "markdown",
   "metadata": {},
   "source": [
    "Now that we have parsed the json data into python lists (en_reviews, de_reviews, es_reviews, fr_reviews, ja_reviews, and zh_reviews) we can now begin our dataset exploration. One of the first details to observe is a sample format / structure of the data."
   ]
  },
  {
   "cell_type": "code",
   "execution_count": 22,
   "metadata": {},
   "outputs": [
    {
     "name": "stdout",
     "output_type": "stream",
     "text": [
      "de_reviews:  {'review_id': 'de_0203609', 'product_id': 'product_de_0865382', 'reviewer_id': 'reviewer_de_0267719', 'stars': '1', 'review_body': 'Armband ist leider nach 1 Jahr kaputt gegangen', 'review_title': 'Leider nach 1 Jahr kaputt', 'language': 'de', 'product_category': 'sports'} \n",
      "\n",
      "en_reviews:  {'review_id': 'en_0964290', 'product_id': 'product_en_0740675', 'reviewer_id': 'reviewer_en_0342986', 'stars': '1', 'review_body': \"Arrived broken. Manufacturer defect. Two of the legs of the base were not completely formed, so there was no way to insert the casters. I unpackaged the entire chair and hardware before noticing this. So, I'll spend twice the amount of time boxing up the whole useless thing and send it back with a 1-star review of part of a chair I never got to sit in. I will go so far as to include a picture of what their injection molding and quality assurance process missed though. I will be hesitant to buy again. It makes me wonder if there aren't missing structures and supports that don't impede the assembly process.\", 'review_title': \"I'll spend twice the amount of time boxing up the whole useless thing and send it back with a 1-star review ...\", 'language': 'en', 'product_category': 'furniture'} \n",
      "\n",
      "es_reviews:  {'review_id': 'es_0491108', 'product_id': 'product_es_0296024', 'reviewer_id': 'reviewer_es_0999081', 'stars': '1', 'review_body': 'Nada bueno se me fue ka pantalla en menos de 8 meses y no he recibido respuesta del fabricante', 'review_title': 'television Nevir', 'language': 'es', 'product_category': 'electronics'} \n",
      "\n",
      "fr_reviews:  {'review_id': 'fr_0424335', 'product_id': 'product_fr_0297678', 'reviewer_id': 'reviewer_fr_0961886', 'stars': '1', 'review_body': \"A déconseiller - Article n'a fonctionné qu'une fois - Je ne recommande pas du tout ce produit - Je l'ai jeté ...\", 'review_title': 'Brumisateur à pompe', 'language': 'fr', 'product_category': 'beauty'} \n",
      "\n",
      "ja_reviews:  {'review_id': 'ja_0388536', 'product_id': 'product_ja_0270003', 'reviewer_id': 'reviewer_ja_0454098', 'stars': '1', 'review_body': '普段使いとバイクに乗るときのブーツ兼用として購入しました。見た目や履き心地は良いです。 しかし、２ヶ月履いたらゴム底が削れて無くなりました。また、バイクのシフトペダルとの摩擦で表皮が剥がれ、本革でないことが露呈しました。ちなみに防水とも書いていますが、雨の日は内部に水が染みます。 安くて見た目も良く、履きやすかったのですが、耐久性のなさ、本革でも防水でも無かったことが残念です。結局、本革の防水ブーツを買い直しました。', 'review_title': '本革でも防水でもない', 'language': 'ja', 'product_category': 'shoes'} \n",
      "\n",
      "zh_reviews:  {'review_id': 'zh_0626061', 'product_id': 'product_zh_0691762', 'reviewer_id': 'reviewer_zh_0824776', 'stars': '1', 'review_body': '本人账号被盗，资金被江西（杨建）挪用，请亚马逊尽快查实，将本人的200元资金退回。本人已于2017年11月30日提交退货申请，为何到2018年了还是没解决？亚马逊是什么情况？请给本人一个合理解释。', 'review_title': '此书不是本人购买', 'language': 'zh', 'product_category': 'book'} \n",
      "\n"
     ]
    }
   ],
   "source": [
    "# sample review data:\n",
    "print(\"de_reviews: \",de_reviews[0], \"\\n\")\n",
    "print(\"en_reviews: \",en_reviews[0], \"\\n\")\n",
    "print(\"es_reviews: \",es_reviews[0], \"\\n\")\n",
    "print(\"fr_reviews: \",fr_reviews[0], \"\\n\")\n",
    "print(\"ja_reviews: \",ja_reviews[0], \"\\n\")\n",
    "print(\"zh_reviews: \",zh_reviews[0], \"\\n\")"
   ]
  },
  {
   "cell_type": "markdown",
   "metadata": {},
   "source": [
    "It can be seen that each reviews python list contains a list of python dict or objects. We can extract the raw features:"
   ]
  },
  {
   "cell_type": "code",
   "execution_count": 23,
   "metadata": {},
   "outputs": [
    {
     "name": "stdout",
     "output_type": "stream",
     "text": [
      "Raw Features:  ['review_id', 'product_id', 'reviewer_id', 'stars', 'review_body', 'review_title', 'language', 'product_category']\n"
     ]
    }
   ],
   "source": [
    "print(\"Raw Features: \", list(de_reviews[0].keys()))"
   ]
  },
  {
   "cell_type": "markdown",
   "metadata": {},
   "source": [
    "We see that each json object have the following fields / raw features: ['review_id', 'product_id', 'reviewer_id', 'stars', 'review_body', 'review_title', 'language', 'product_category'."
   ]
  },
  {
   "cell_type": "markdown",
   "metadata": {},
   "source": [
    "Next, we can take a look at the size of each reviews python list:"
   ]
  },
  {
   "cell_type": "code",
   "execution_count": 24,
   "metadata": {},
   "outputs": [
    {
     "data": {
      "image/png": "[encoded data removed]",
      "text/plain": [
       "<Figure size 720x360 with 1 Axes>"
      ]
     },
     "metadata": {
      "needs_background": "light"
     },
     "output_type": "display_data"
    },
    {
     "name": "stdout",
     "output_type": "stream",
     "text": [
      "de_reviews size:  200000 reviews\n",
      "\n",
      "en_reviews size:  200000 reviews\n",
      "\n",
      "es_reviews size:  200000 reviews\n",
      "\n",
      "fr_reviews size:  200000 reviews\n",
      "\n",
      "ja_reviews size:  200000 reviews\n",
      "\n",
      "zh_reviews size:  200000 reviews\n",
      "\n",
      "Total number of training samples:  1200000 reviews\n",
      "\n"
     ]
    }
   ],
   "source": [
    "# Exploring size of data\n",
    "langauge_count = {'English': len(en_reviews), 'Spanish': len(es_reviews), 'French': len(fr_reviews), 'German': len(de_reviews), 'Japanese': len(ja_reviews), 'Chinese': len(zh_reviews)}\n",
    "\n",
    "lang = list(langauge_count.keys())\n",
    "values = list(langauge_count.values())\n",
    "  \n",
    "fig = plt.figure(figsize = (10, 5))\n",
    " \n",
    "# creating the bar plot\n",
    "plt.bar(lang, values, color ='maroon',\n",
    "        width = 0.4)\n",
    " \n",
    "plt.xlabel(\"Langauges\")\n",
    "plt.ylabel(\"No. of reviews\")\n",
    "plt.title(\"Reviews Gathered From Each Langauge Dataset\")\n",
    "plt.show()\n",
    "print(\"de_reviews size: \",len(de_reviews), \"reviews\\n\")\n",
    "print(\"en_reviews size: \",len(en_reviews), \"reviews\\n\")\n",
    "print(\"es_reviews size: \",len(es_reviews), \"reviews\\n\")\n",
    "print(\"fr_reviews size: \",len(fr_reviews), \"reviews\\n\")\n",
    "print(\"ja_reviews size: \",len(ja_reviews), \"reviews\\n\")\n",
    "print(\"zh_reviews size: \",len(zh_reviews), \"reviews\\n\")\n",
    "\n",
    "print(\"Total number of training samples: \", len(de_reviews) + len(en_reviews) + len(es_reviews) + len(fr_reviews) + len(ja_reviews) + len(zh_reviews), \"reviews\\n\")\n"
   ]
  },
  {
   "attachments": {},
   "cell_type": "markdown",
   "metadata": {},
   "source": [
    "Note that there are a total of 1.2 million reivews with 200,000 reviews from each lanaguage .json file. Based on the dataset, we see that the data is pretty much uniform across all langauges. "
   ]
  },
  {
   "attachments": {},
   "cell_type": "markdown",
   "metadata": {},
   "source": [
    "We will be parsing the raw data from json file into pandas dataframes because of dataset size. Since this is a large dataset, pandas library has built-in routines to allow for faster processing of big data. Here we are displaying a cleaner plot and pie chart of the dataset."
   ]
  },
  {
   "cell_type": "code",
   "execution_count": 25,
   "metadata": {},
   "outputs": [
    {
     "data": {
      "text/plain": [
       "<AxesSubplot:ylabel='stars'>"
      ]
     },
     "execution_count": 25,
     "metadata": {},
     "output_type": "execute_result"
    },
    {
     "data": {
      "image/png": "[encoded data removed]",
      "text/plain": [
       "<Figure size 432x288 with 1 Axes>"
      ]
     },
     "metadata": {
      "needs_background": "light"
     },
     "output_type": "display_data"
    },
    {
     "data": {
      "image/png": "[encoded data removed]",
      "text/plain": [
       "<Figure size 432x288 with 1 Axes>"
      ]
     },
     "metadata": {},
     "output_type": "display_data"
    }
   ],
   "source": [
    "en_df = pd.read_json('dataset_en_train.json', lines=True, orient='columns')\n",
    "es_df = pd.read_json('dataset_es_train.json', lines=True, orient='columns')\n",
    "fr_df = pd.read_json('dataset_fr_train.json', lines=True, orient='columns')\n",
    "de_df = pd.read_json('dataset_de_train.json', lines=True, orient='columns')\n",
    "ja_df = pd.read_json('dataset_ja_train.json', lines=True, orient='columns')\n",
    "zh_df = pd.read_json('dataset_zh_train.json', lines=True, orient='columns')\n",
    "lang_frames = [en_df, es_df, fr_df, de_df, ja_df, zh_df]\n",
    "all_reviews_df = pd.concat(lang_frames)\n",
    "all_reviews_df['language'].value_counts().plot(kind=\"bar\", title=\"Reviews Gathered from Each Language\")\n",
    "# Rotate the x-labels by 30 degrees, and keep the text aligned horizontally\n",
    "plt.xticks(rotation=30, horizontalalignment=\"center\")\n",
    "plt.title(\"Reviews Gathered from Each Language\")\n",
    "plt.xlabel(\"Language\")\n",
    "plt.ylabel(\"Number of Reviews\")\n",
    "all_reviews_df.groupby(['language']).sum().plot(kind='pie', y='stars', autopct='%1.0f%%')"
   ]
  },
  {
   "attachments": {},
   "cell_type": "markdown",
   "metadata": {},
   "source": [
    "Note that there are a total of 1.2 million reivews with 200,000 reviews from each lanaguage .json file. Based on the dataset, we see that the data is pretty much uniform across all langauges. The pie chart also shows that the dataset is balanced among all six language. Each reviews from each language comprise of approximately 17% of the total reviews. "
   ]
  },
  {
   "attachments": {},
   "cell_type": "markdown",
   "metadata": {},
   "source": [
    "We will also check for null values in the dataset / pandas dataframe."
   ]
  },
  {
   "cell_type": "code",
   "execution_count": 26,
   "metadata": {},
   "outputs": [
    {
     "data": {
      "text/plain": [
       "review_id           0\n",
       "product_id          0\n",
       "reviewer_id         0\n",
       "stars               0\n",
       "review_body         0\n",
       "review_title        0\n",
       "language            0\n",
       "product_category    0\n",
       "dtype: int64"
      ]
     },
     "execution_count": 26,
     "metadata": {},
     "output_type": "execute_result"
    }
   ],
   "source": [
    "all_reviews_df.isnull().sum()"
   ]
  },
  {
   "attachments": {},
   "cell_type": "markdown",
   "metadata": {},
   "source": [
    "We see that there are no null values present in this dataset."
   ]
  },
  {
   "cell_type": "markdown",
   "metadata": {},
   "source": [
    "# **2. Pre-processing**"
   ]
  },
  {
   "attachments": {},
   "cell_type": "markdown",
   "metadata": {},
   "source": [
    "On top of parsing the json data into pandas dataframe, we will be employing smapling method to the large dataset. The reason for sampling is because we do not have enough computing or processing power to analyze all of the 1.2 million samples in the dataset. We will be sampling 1000 reviews from each language json data."
   ]
  },
  {
   "cell_type": "code",
   "execution_count": 27,
   "metadata": {},
   "outputs": [
    {
     "name": "stdout",
     "output_type": "stream",
     "text": [
      "English Reviews:  1000\n",
      "Spanish Reviews:  1000\n",
      "French Reviews:  1000\n",
      "German Reviews:   1000\n",
      "Japanese Reviews:  1000\n",
      "Chinese Reviews 1000\n",
      "Total Reviews:  6000\n"
     ]
    }
   ],
   "source": [
    "en_df = pd.read_json('dataset_en_train.json', lines=True, orient='columns').sample(1000)\n",
    "es_df = pd.read_json('dataset_es_train.json', lines=True, orient='columns').sample(1000)\n",
    "fr_df = pd.read_json('dataset_fr_train.json', lines=True, orient='columns').sample(1000)\n",
    "de_df = pd.read_json('dataset_de_train.json', lines=True, orient='columns').sample(1000)\n",
    "ja_df = pd.read_json('dataset_ja_train.json', lines=True, orient='columns').sample(1000)\n",
    "zh_df = pd.read_json('dataset_zh_train.json', lines=True, orient='columns').sample(1000)\n",
    "lang_frames = [en_df, es_df, fr_df, de_df, ja_df, zh_df]\n",
    "all_reviews_df = pd.concat(lang_frames)\n",
    "print('English Reviews: ', len(en_df))\n",
    "print('Spanish Reviews: ', len(es_df))\n",
    "print('French Reviews: ', len(fr_df))\n",
    "print('German Reviews:  ', len(de_df))\n",
    "print('Japanese Reviews: ', len(ja_df))\n",
    "print('Chinese Reviews',len(zh_df))\n",
    "print('Total Reviews: ',len(all_reviews_df))"
   ]
  },
  {
   "attachments": {},
   "cell_type": "markdown",
   "metadata": {},
   "source": [
    "We need to do some preprocessing for the data. The text data must meet the following preprocessing conditions:\n",
    "\n",
    "1. All the texts were converted to lower case.\n",
    "2. All the digits were removed from the text sentences.\n",
    "3. Punctuation marks and special characters were removed.\n",
    "4. All the sentences were concatenated with space in between.\n",
    "5. Series of contiguous white spaces were replaced by single space.\n",
    "\n",
    "By cleaning our raw text data this way, we will be able to use sklearn's CountVectorizer() to create our bags of words model (see section 3 Feature Extraction / Engineering and Feature learning)."
   ]
  },
  {
   "cell_type": "code",
   "execution_count": 28,
   "metadata": {},
   "outputs": [
    {
     "data": {
      "text/html": [
       "<div>\n",
       "<style scoped>\n",
       "    .dataframe tbody tr th:only-of-type {\n",
       "        vertical-align: middle;\n",
       "    }\n",
       "\n",
       "    .dataframe tbody tr th {\n",
       "        vertical-align: top;\n",
       "    }\n",
       "\n",
       "    .dataframe thead th {\n",
       "        text-align: right;\n",
       "    }\n",
       "</style>\n",
       "<table border=\"1\" class=\"dataframe\">\n",
       "  <thead>\n",
       "    <tr style=\"text-align: right;\">\n",
       "      <th></th>\n",
       "      <th>review_id</th>\n",
       "      <th>product_id</th>\n",
       "      <th>reviewer_id</th>\n",
       "      <th>stars</th>\n",
       "      <th>review_body</th>\n",
       "      <th>review_title</th>\n",
       "      <th>language</th>\n",
       "      <th>product_category</th>\n",
       "    </tr>\n",
       "  </thead>\n",
       "  <tbody>\n",
       "    <tr>\n",
       "      <th>158141</th>\n",
       "      <td>en_0059764</td>\n",
       "      <td>product_en_0244145</td>\n",
       "      <td>reviewer_en_0239105</td>\n",
       "      <td>4</td>\n",
       "      <td>I like the lavender version but, it was more m...</td>\n",
       "      <td>thinner viscosity compared to with their laven...</td>\n",
       "      <td>en</td>\n",
       "      <td>beauty</td>\n",
       "    </tr>\n",
       "    <tr>\n",
       "      <th>53799</th>\n",
       "      <td>en_0057248</td>\n",
       "      <td>product_en_0136538</td>\n",
       "      <td>reviewer_en_0263811</td>\n",
       "      <td>2</td>\n",
       "      <td>Looked okay. Too small and no way to attach to...</td>\n",
       "      <td>looked okay too small and no way to attach</td>\n",
       "      <td>en</td>\n",
       "      <td>home</td>\n",
       "    </tr>\n",
       "    <tr>\n",
       "      <th>190015</th>\n",
       "      <td>en_0282384</td>\n",
       "      <td>product_en_0295062</td>\n",
       "      <td>reviewer_en_0827050</td>\n",
       "      <td>5</td>\n",
       "      <td>Was as expected, kids love it</td>\n",
       "      <td>works great</td>\n",
       "      <td>en</td>\n",
       "      <td>other</td>\n",
       "    </tr>\n",
       "    <tr>\n",
       "      <th>74092</th>\n",
       "      <td>en_0511548</td>\n",
       "      <td>product_en_0727319</td>\n",
       "      <td>reviewer_en_0289232</td>\n",
       "      <td>2</td>\n",
       "      <td>At least 6 inches too small:(</td>\n",
       "      <td>way too small</td>\n",
       "      <td>en</td>\n",
       "      <td>apparel</td>\n",
       "    </tr>\n",
       "    <tr>\n",
       "      <th>50338</th>\n",
       "      <td>en_0175478</td>\n",
       "      <td>product_en_0701721</td>\n",
       "      <td>reviewer_en_0809668</td>\n",
       "      <td>2</td>\n",
       "      <td>Most of the lines did not charge my phone. Eve...</td>\n",
       "      <td>think again</td>\n",
       "      <td>en</td>\n",
       "      <td>wireless</td>\n",
       "    </tr>\n",
       "    <tr>\n",
       "      <th>189938</th>\n",
       "      <td>en_0606039</td>\n",
       "      <td>product_en_0977488</td>\n",
       "      <td>reviewer_en_0345345</td>\n",
       "      <td>5</td>\n",
       "      <td>Using this very carefully pet the instructions...</td>\n",
       "      <td>well made a pleasure to use</td>\n",
       "      <td>en</td>\n",
       "      <td>kitchen</td>\n",
       "    </tr>\n",
       "    <tr>\n",
       "      <th>71872</th>\n",
       "      <td>en_0046880</td>\n",
       "      <td>product_en_0859080</td>\n",
       "      <td>reviewer_en_0199335</td>\n",
       "      <td>2</td>\n",
       "      <td>Cheaply made. Played with it twice and it alre...</td>\n",
       "      <td>poor quality</td>\n",
       "      <td>en</td>\n",
       "      <td>toy</td>\n",
       "    </tr>\n",
       "    <tr>\n",
       "      <th>157215</th>\n",
       "      <td>en_0597498</td>\n",
       "      <td>product_en_0450483</td>\n",
       "      <td>reviewer_en_0672345</td>\n",
       "      <td>4</td>\n",
       "      <td>Great Value for the price. Perfect for little ...</td>\n",
       "      <td>great value</td>\n",
       "      <td>en</td>\n",
       "      <td>jewelry</td>\n",
       "    </tr>\n",
       "    <tr>\n",
       "      <th>125291</th>\n",
       "      <td>en_0073594</td>\n",
       "      <td>product_en_0411237</td>\n",
       "      <td>reviewer_en_0940992</td>\n",
       "      <td>4</td>\n",
       "      <td>This would be better if it was on thick paper....</td>\n",
       "      <td>good</td>\n",
       "      <td>en</td>\n",
       "      <td>office_product</td>\n",
       "    </tr>\n",
       "    <tr>\n",
       "      <th>186289</th>\n",
       "      <td>en_0505001</td>\n",
       "      <td>product_en_0389453</td>\n",
       "      <td>reviewer_en_0127497</td>\n",
       "      <td>5</td>\n",
       "      <td>Even after the screen was cracked it fit well ...</td>\n",
       "      <td>beats tempered glass</td>\n",
       "      <td>en</td>\n",
       "      <td>wireless</td>\n",
       "    </tr>\n",
       "  </tbody>\n",
       "</table>\n",
       "</div>"
      ],
      "text/plain": [
       "         review_id          product_id          reviewer_id  stars  \\\n",
       "158141  en_0059764  product_en_0244145  reviewer_en_0239105      4   \n",
       "53799   en_0057248  product_en_0136538  reviewer_en_0263811      2   \n",
       "190015  en_0282384  product_en_0295062  reviewer_en_0827050      5   \n",
       "74092   en_0511548  product_en_0727319  reviewer_en_0289232      2   \n",
       "50338   en_0175478  product_en_0701721  reviewer_en_0809668      2   \n",
       "189938  en_0606039  product_en_0977488  reviewer_en_0345345      5   \n",
       "71872   en_0046880  product_en_0859080  reviewer_en_0199335      2   \n",
       "157215  en_0597498  product_en_0450483  reviewer_en_0672345      4   \n",
       "125291  en_0073594  product_en_0411237  reviewer_en_0940992      4   \n",
       "186289  en_0505001  product_en_0389453  reviewer_en_0127497      5   \n",
       "\n",
       "                                              review_body  \\\n",
       "158141  I like the lavender version but, it was more m...   \n",
       "53799   Looked okay. Too small and no way to attach to...   \n",
       "190015                      Was as expected, kids love it   \n",
       "74092                       At least 6 inches too small:(   \n",
       "50338   Most of the lines did not charge my phone. Eve...   \n",
       "189938  Using this very carefully pet the instructions...   \n",
       "71872   Cheaply made. Played with it twice and it alre...   \n",
       "157215  Great Value for the price. Perfect for little ...   \n",
       "125291  This would be better if it was on thick paper....   \n",
       "186289  Even after the screen was cracked it fit well ...   \n",
       "\n",
       "                                             review_title language  \\\n",
       "158141  thinner viscosity compared to with their laven...       en   \n",
       "53799         looked okay too small and no way to attach        en   \n",
       "190015                                        works great       en   \n",
       "74092                                       way too small       en   \n",
       "50338                                        think again        en   \n",
       "189938                       well made a pleasure to use        en   \n",
       "71872                                        poor quality       en   \n",
       "157215                                        great value       en   \n",
       "125291                                               good       en   \n",
       "186289                               beats tempered glass       en   \n",
       "\n",
       "       product_category  \n",
       "158141           beauty  \n",
       "53799              home  \n",
       "190015            other  \n",
       "74092           apparel  \n",
       "50338          wireless  \n",
       "189938          kitchen  \n",
       "71872               toy  \n",
       "157215          jewelry  \n",
       "125291   office_product  \n",
       "186289         wireless  "
      ]
     },
     "execution_count": 28,
     "metadata": {},
     "output_type": "execute_result"
    }
   ],
   "source": [
    "#remove special characters from text column\n",
    "all_reviews_df['review_title'] = all_reviews_df['review_title'].str.replace('\\W', ' ', regex=True)\n",
    "# remove numbers and digits form text\n",
    "all_reviews_df['review_title'] = all_reviews_df['review_title'].str.replace('\\d', ' ', regex=True)\n",
    "# convert text to lower case\n",
    "all_reviews_df['review_title'] = all_reviews_df['review_title'].str.lower()\n",
    "# remove n spaces and convert to a single space\n",
    "all_reviews_df['review_title'] = all_reviews_df['review_title'].str.replace('\\s{2,}', ' ', regex=True)\n",
    "# remove leading and trailing spaces\n",
    "all_reviews_df['review_title'].str.strip()\n",
    "all_reviews_df.head(10)"
   ]
  },
  {
   "attachments": {},
   "cell_type": "markdown",
   "metadata": {},
   "source": [
    "We will be removing all the columns that we will not be needing for our analysis. We will be keeping our raw text data: review_title, and label: language."
   ]
  },
  {
   "cell_type": "code",
   "execution_count": 29,
   "metadata": {},
   "outputs": [
    {
     "name": "stdout",
     "output_type": "stream",
     "text": [
      "                                             review_title language\n",
      "158141  thinner viscosity compared to with their laven...       en\n",
      "53799         looked okay too small and no way to attach        en\n",
      "(6000, 2)\n"
     ]
    }
   ],
   "source": [
    "all_reviews_df = all_reviews_df[[\"review_title\", \"language\"]]\n",
    "print(all_reviews_df.head(2))\n",
    "print(all_reviews_df.shape)"
   ]
  },
  {
   "attachments": {},
   "cell_type": "markdown",
   "metadata": {},
   "source": [
    "# **3. Feature Extraction / Feature Learning**"
   ]
  },
  {
   "attachments": {},
   "cell_type": "markdown",
   "metadata": {},
   "source": [
    "In our next step, we will be label encoding our output feature. Based on the way the dataframe is loaded. The labelencoder will encode language as: \n",
    "\n",
    "0: en, \n",
    "1: es,\n",
    "2: fr,\n",
    "3: de,\n",
    "4: ja, and\n",
    "5: zh.\n",
    "\n",
    "By encoding our label, we will be able to perform Multinomial Naivve Bayes and K-Nearest Neighbors using sklearn library"
   ]
  },
  {
   "cell_type": "code",
   "execution_count": 30,
   "metadata": {},
   "outputs": [
    {
     "data": {
      "text/html": [
       "<div>\n",
       "<style scoped>\n",
       "    .dataframe tbody tr th:only-of-type {\n",
       "        vertical-align: middle;\n",
       "    }\n",
       "\n",
       "    .dataframe tbody tr th {\n",
       "        vertical-align: top;\n",
       "    }\n",
       "\n",
       "    .dataframe thead th {\n",
       "        text-align: right;\n",
       "    }\n",
       "</style>\n",
       "<table border=\"1\" class=\"dataframe\">\n",
       "  <thead>\n",
       "    <tr style=\"text-align: right;\">\n",
       "      <th></th>\n",
       "      <th>review_title</th>\n",
       "      <th>language</th>\n",
       "    </tr>\n",
       "  </thead>\n",
       "  <tbody>\n",
       "    <tr>\n",
       "      <th>158141</th>\n",
       "      <td>thinner viscosity compared to with their laven...</td>\n",
       "      <td>1</td>\n",
       "    </tr>\n",
       "    <tr>\n",
       "      <th>53799</th>\n",
       "      <td>looked okay too small and no way to attach</td>\n",
       "      <td>1</td>\n",
       "    </tr>\n",
       "    <tr>\n",
       "      <th>190015</th>\n",
       "      <td>works great</td>\n",
       "      <td>1</td>\n",
       "    </tr>\n",
       "    <tr>\n",
       "      <th>74092</th>\n",
       "      <td>way too small</td>\n",
       "      <td>1</td>\n",
       "    </tr>\n",
       "    <tr>\n",
       "      <th>50338</th>\n",
       "      <td>think again</td>\n",
       "      <td>1</td>\n",
       "    </tr>\n",
       "  </tbody>\n",
       "</table>\n",
       "</div>"
      ],
      "text/plain": [
       "                                             review_title  language\n",
       "158141  thinner viscosity compared to with their laven...         1\n",
       "53799         looked okay too small and no way to attach          1\n",
       "190015                                        works great         1\n",
       "74092                                       way too small         1\n",
       "50338                                        think again          1"
      ]
     },
     "execution_count": 30,
     "metadata": {},
     "output_type": "execute_result"
    }
   ],
   "source": [
    "le = preprocessing.LabelEncoder();\n",
    "all_reviews_df['language'] = le.fit_transform(all_reviews_df['language'])\n",
    "all_reviews_df.head()"
   ]
  },
  {
   "attachments": {},
   "cell_type": "markdown",
   "metadata": {},
   "source": [
    "Next, we will transform our raw text data into numerical values by using the bags of words model. The bag of words model works by describing the occurrence of words within a document. We only keep track of word count and disregard grammar / syntax. We can use CountVectorizer() to help us create our bag of words model."
   ]
  },
  {
   "cell_type": "code",
   "execution_count": 31,
   "metadata": {},
   "outputs": [
    {
     "name": "stdout",
     "output_type": "stream",
     "text": [
      "(6000, 6758)\n"
     ]
    }
   ],
   "source": [
    "X = all_reviews_df['review_title']\n",
    "Y = all_reviews_df['language']\n",
    "\n",
    "CV = CountVectorizer()\n",
    "X = CV.fit_transform(X).toarray()\n",
    "\n",
    "print(X.shape)"
   ]
  },
  {
   "attachments": {},
   "cell_type": "markdown",
   "metadata": {},
   "source": [
    "# 4. **Processing**"
   ]
  },
  {
   "attachments": {},
   "cell_type": "markdown",
   "metadata": {},
   "source": [
    "We will now begin processing the data. We will perform Multinomial Naive Bayes and K-Nearest Neighbors classifiers. "
   ]
  },
  {
   "attachments": {},
   "cell_type": "markdown",
   "metadata": {},
   "source": [
    "We will start off by using Multinomial Naive Bayes for multiclass classification. We will use the NultinomialNB() to help us implement this. We first instantiate the MultinomialNB object, and then fit the data using .fit() with our input feature and output feature as paramters."
   ]
  },
  {
   "cell_type": "code",
   "execution_count": 32,
   "metadata": {},
   "outputs": [
    {
     "data": {
      "text/plain": [
       "MultinomialNB()"
      ]
     },
     "execution_count": 32,
     "metadata": {},
     "output_type": "execute_result"
    }
   ],
   "source": [
    "from sklearn.naive_bayes import MultinomialNB\n",
    "from sklearn.neighbors import KNeighborsClassifier\n",
    "from sklearn.model_selection import cross_validate\n",
    "\n",
    "model1 = MultinomialNB()\n",
    "model1.fit(X, Y)"
   ]
  },
  {
   "attachments": {},
   "cell_type": "markdown",
   "metadata": {},
   "source": [
    "Next, we will use K Nearest Neighbors to create our second model. We will be using KNeighborsClassifier() from sklearn to help us implement our model. First, we must choose k. With the help of cross_validate() from sklearn, we can determine our optimal k value by finding the input that maximizes mean_validation_scores."
   ]
  },
  {
   "cell_type": "code",
   "execution_count": 33,
   "metadata": {},
   "outputs": [
    {
     "data": {
      "text/plain": [
       "KNeighborsClassifier(n_neighbors=4)"
      ]
     },
     "execution_count": 33,
     "metadata": {},
     "output_type": "execute_result"
    }
   ],
   "source": [
    "k_values = list(range(1, 21)) \n",
    "cross_validation_scores_model = [cross_validate(KNeighborsClassifier(n_neighbors = k), X, Y) for k in k_values] #compute cross validation scores for each alpha for Ridge Regression\n",
    "mean_validation_scores_model = [data[\"test_score\"].mean() for data in cross_validation_scores_model] #compute mean of cross validation scores\n",
    "std_validation_scores_model = [data[\"test_score\"].std() for data in cross_validation_scores_model] #compute standard deviation of cross validation scores\n",
    "best_k = k_values[np.argmax(mean_validation_scores_model)] #determine which alpha gives us best cross validation score\n",
    "\n",
    "k_scores = []\n",
    "# use different k in models, then return the average accuracy based on the cross validation\n",
    "for k in k_values:\n",
    "    knn = KNeighborsClassifier(n_neighbors=k)\n",
    "    scores = cross_val_score(knn, X, Y, cv=5, scoring='accuracy')\n",
    "    k_scores.append(scores.mean())\n",
    "# plotting\n",
    "plt.plot(k_values, k_scores)\n",
    "plt.xlabel('Value of k for KNN')\n",
    "plt.ylabel('Cross-Validation Accuracy')\n",
    "plt.show()\n",
    "\n",
    "# use best k value for KNN:\n",
    "model3 = KNeighborsClassifier(n_neighbors = best_k)\n",
    "model3.fit(X, Y)"
   ]
  },
  {
   "attachments": {},
   "cell_type": "markdown",
   "metadata": {},
   "source": [
    "# **5. Comparative Analysis**"
   ]
  },
  {
   "attachments": {},
   "cell_type": "markdown",
   "metadata": {},
   "source": [
    "In order to test our Multinomial naive bayes and K-Nearest Neighbor classifer, we will use our test data. Our test data is also stored in json format, so we will have to parse the json data into pandas dataframe just like how we parsed our training data."
   ]
  },
  {
   "cell_type": "code",
   "execution_count": 34,
   "metadata": {},
   "outputs": [
    {
     "name": "stdout",
     "output_type": "stream",
     "text": [
      "English Reviews:  5000\n",
      "Spanish Reviews:  5000\n",
      "French Reviews:  5000\n",
      "German Reviews:   5000\n",
      "Japanese Reviews:  5000\n",
      "Chinese Reviews 5000\n",
      "Total Reviews:  30000\n"
     ]
    }
   ],
   "source": [
    "en_df_test = pd.read_json('dataset_en_test.json', lines=True, orient='columns')\n",
    "es_df_test = pd.read_json('dataset_es_test.json', lines=True, orient='columns')\n",
    "fr_df_test = pd.read_json('dataset_fr_test.json', lines=True, orient='columns')\n",
    "de_df_test = pd.read_json('dataset_de_test.json', lines=True, orient='columns')\n",
    "ja_df_test = pd.read_json('dataset_ja_test.json', lines=True, orient='columns')\n",
    "zh_df_test = pd.read_json('dataset_zh_test.json', lines=True, orient='columns')\n",
    "lang_frames_test = [en_df_test, es_df_test, fr_df_test, de_df_test, ja_df_test, zh_df_test]\n",
    "all_reviews_df_test = pd.concat(lang_frames_test)\n",
    "print('English Reviews: ', len(en_df_test))\n",
    "print('Spanish Reviews: ', len(es_df_test))\n",
    "print('French Reviews: ', len(fr_df_test))\n",
    "print('German Reviews:  ', len(de_df_test))\n",
    "print('Japanese Reviews: ', len(ja_df_test))\n",
    "print('Chinese Reviews',len(zh_df_test))\n",
    "print('Total Reviews: ',len(all_reviews_df_test))"
   ]
  },
  {
   "attachments": {},
   "cell_type": "markdown",
   "metadata": {},
   "source": [
    "Next we will clean the test data and use the cleaned data into our models. We will compare the models by comparing the two confusion matrices."
   ]
  },
  {
   "cell_type": "code",
   "execution_count": 35,
   "metadata": {},
   "outputs": [
    {
     "name": "stdout",
     "output_type": "stream",
     "text": [
      "[[4902   58   22   17    1    0]\n",
      " [ 237 4690   36   37    0    0]\n",
      " [ 599   21 4227  152    1    0]\n",
      " [ 587   37   57 4316    2    1]\n",
      " [4449   11    5    5  523    7]\n",
      " [3853   12    3    1    1 1130]]\n",
      "[[2900   51  109   66  136 1738]\n",
      " [ 569 2754   66   83  167 1361]\n",
      " [ 381   34 2789  129   84 1583]\n",
      " [ 379    6  230 2724  114 1547]\n",
      " [  52    3   16    0  308 4621]\n",
      " [  13    8    0    3    2 4974]]\n"
     ]
    }
   ],
   "source": [
    "#remove special characters from text column\n",
    "all_reviews_df_test['review_title'] = all_reviews_df_test['review_title'].str.replace('\\W', ' ', regex=True)\n",
    "# remove numbers and digits form text\n",
    "all_reviews_df_test['review_title'] = all_reviews_df_test['review_title'].str.replace('\\d', ' ', regex=True)\n",
    "# convert text to lower case\n",
    "all_reviews_df_test['review_title'] = all_reviews_df_test['review_title'].str.lower()\n",
    "# remove n spaces and convert to a single space\n",
    "all_reviews_df_test['review_title'] = all_reviews_df_test['review_title'].str.replace('\\s{2,}', ' ', regex=True)\n",
    "# remove leading and trailing spaces\n",
    "all_reviews_df_test['review_title'].str.strip()\n",
    "\n",
    "all_reviews_df_test = all_reviews_df_test[[\"review_body\", \"review_title\", \"language\"]]\n",
    "\n",
    "all_reviews_df_test['language'] = le.transform(all_reviews_df_test['language'])\n",
    "\n",
    "\n",
    "X = all_reviews_df_test['review_title']\n",
    "Y = all_reviews_df_test['language']\n",
    "X = CV.transform(X).toarray()\n",
    "\n",
    "Y_pred1 = model1.predict(X)\n",
    "conf_mat1 = confusion_matrix(Y, Y_pred1, labels = model1.classes_)\n",
    "\n",
    "Y_pred3 = model3.predict(X)\n",
    "conf_mat3 = confusion_matrix(Y, Y_pred3, labels = model3.classes_)\n",
    "\n",
    "print(conf_mat1)\n",
    "print(conf_mat3)\n",
    "\n",
    "from sklearn.metrics import plot_confusion_matrix\n",
    "\n"
   ]
  },
  {
   "attachments": {},
   "cell_type": "markdown",
   "metadata": {},
   "source": [
    "To plot our cofusion matrices, we can use ConfusionMatrixDisplay() from sklearn"
   ]
  },
  {
   "cell_type": "code",
   "execution_count": 36,
   "metadata": {},
   "outputs": [
    {
     "data": {
      "image/png": "[encoded data removed]",
      "text/plain": [
       "<Figure size 432x288 with 2 Axes>"
      ]
     },
     "metadata": {
      "needs_background": "light"
     },
     "output_type": "display_data"
    },
    {
     "data": {
      "image/png": "[encoded data removed]",
      "text/plain": [
       "<Figure size 432x288 with 2 Axes>"
      ]
     },
     "metadata": {
      "needs_background": "light"
     },
     "output_type": "display_data"
    }
   ],
   "source": [
    "from sklearn.metrics import ConfusionMatrixDisplay\n",
    "import matplotlib.pyplot as plt\n",
    "\n",
    "disp1 = ConfusionMatrixDisplay(confusion_matrix=conf_mat1, display_labels= ['0', '1', '2', '3', '4', '5'])\n",
    "disp1.plot()\n",
    "plt.show()\n",
    "disp2 = ConfusionMatrixDisplay(confusion_matrix=conf_mat3, display_labels= ['0', '1', '2', '3', '4', '5'])\n",
    "disp2.plot()\n",
    "plt.show()"
   ]
  },
  {
   "attachments": {},
   "cell_type": "markdown",
   "metadata": {},
   "source": [
    "Comparative confusion matrices are also shown for the bag of words approach. For readability, the matrices are truncated to label encoding: English: 0, Spanish: 1, French: 2, German: 3, Japanese: 4, and Chinese: 5. We can gather numerous statistics and performance metrics from confusion matrices. Upon first glance of both confusion matrices, we see that Multinomial Naive Bayes perform poorly on trying to clasify Japanese or Chinese. We also see that K-nearest Neighbors apprently does not have any problem classifying Chinese."
   ]
  },
  {
   "cell_type": "markdown",
   "metadata": {},
   "source": [
    "# **6. Discussion of Ethical Issues**"
   ]
  },
  {
   "attachments": {},
   "cell_type": "markdown",
   "metadata": {},
   "source": [
    "Language is a complex system of communication that humans use to express themselves. It is through langauge that one can communicate with others and show his or her ideas. Every country has their own primary langauge. The primary langauge for each country is unique to its geographic location, people, and culture. Every language has its unique rules and syntax. In order to communicate or understand a langauge, one must understand the structure of that language and learn to communicate ideas. On one hand, it would be benefical to develop such a machine learning model that can identify language so that we can break the language barriers. We must keep in mind that such machine learning model can also bring about ethical issues. There are two main ethical issues that come with developing a machine learning model for identify langauge: (1) Bias, and (2) Privacy.\n",
    "\n",
    "Although a machine learning model that can detect language of text could be beneficial for companies understanding its customers, it can also bring about negative effects. Since langauge can be unique to culture or people in specific regions of the world, langauge can almost always be used to identify one's nationaility or race. Just by connecting language and nationality or race, there could some bias made towards such person. The machine learning model could inadvertently discriminate against marginalized groups. The case that the machine learning model can cause discrimination is not limited to just companies. \n",
    "\n",
    "\n",
    "Machine learning models to identify langauge of text could cause privacy concerns. Companies can use text provided by users and track them based on langauge of text provided. As mentioned before, since langauge can partially identify race or nationality of a person, the classifcation of race by langauge of text can also lead to risk of privacy. For example, there could be ads tracking users based on langauge of text users provide. Not only is the privacy issue limited to companies, governments around the world could also use the model. Not all government are democratic, some are ruled by single party. If such government could use a machine learning model to classify race based on alngauge of text by a person (texts, messages, etc), vulnerable individuals and groups of people could suffer disproportionately."
   ]
  },
  {
   "cell_type": "markdown",
   "metadata": {},
   "source": [
    "# **7. Bibliography**"
   ]
  },
  {
   "attachments": {},
   "cell_type": "markdown",
   "metadata": {},
   "source": [
    "https://docs.opendata.aws/amazon-reviews-ml/readme.html#bibliography\n",
    "\n",
    "Bojanowski, Piotr, et al. “Enriching word vectors with subword information.” Transactions of the Association for Computational Linguistics 5 (2017): 135-146.\n",
    "\n",
    "Phillip Keung, Yichao Lu, György Szarvas and Noah A. Smith. “The Multilingual Amazon Reviews Corpus.” In Proceedings of the 2020 Conference on Empirical Methods in Natural Language Processing, 2020.\n",
    "\n",
    "@inproceedings{marc_reviews,\n",
    "    title={The Multilingual Amazon Reviews Corpus},\n",
    "    author={Keung, Phillip and Lu, Yichao and Szarvas, György and Smith, Noah A.},\n",
    "    booktitle={Proceedings of the 2020 Conference on Empirical Methods in Natural Language Processing},\n",
    "    year={2020}\n",
    "}\n"
   ]
  },
  {
   "cell_type": "markdown",
   "metadata": {},
   "source": []
  }
 ],
 "metadata": {
  "kernelspec": {
   "display_name": "base",
   "language": "python",
   "name": "python3"
  },
  "language_info": {
   "codemirror_mode": {
    "name": "ipython",
    "version": 3
   },
   "file_extension": ".py",
   "mimetype": "text/x-python",
   "name": "python",
   "nbconvert_exporter": "python",
   "pygments_lexer": "ipython3",
   "version": "3.9.12"
  },
  "orig_nbformat": 4,
  "vscode": {
   "interpreter": {
    "hash": "3067ead486e059ec00ffe7555bdb889e6e264a24dc711bf108106cc7baee8d5d"
   }
  }
 },
 "nbformat": 4,
 "nbformat_minor": 2
}
