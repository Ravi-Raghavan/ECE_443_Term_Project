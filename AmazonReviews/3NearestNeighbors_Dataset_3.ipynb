{
 "cells": [
  {
   "cell_type": "markdown",
   "metadata": {},
   "source": [
    "# William Ching\n",
    "# Amazon Reviews Notebook\n",
    "---"
   ]
  },
  {
   "cell_type": "code",
   "execution_count": 3,
   "metadata": {},
   "outputs": [],
   "source": [
    "# import relevant Python libraries\n",
    "import numpy as np\n",
    "import pandas as pd\n",
    "from scipy import stats as sps\n",
    "from matplotlib import pyplot as plt\n",
    "from mpl_toolkits.mplot3d import Axes3D\n",
    "from IPython.display import display, Latex\n",
    "from sklearn import preprocessing\n",
    "import seaborn as sns\n",
    "import json\n",
    "import random\n",
    "import numpy as np\n",
    "from scipy.stats import linregress\n",
    "from sklearn.feature_extraction.text import CountVectorizer\n",
    "from sklearn import preprocessing"
   ]
  },
  {
   "cell_type": "markdown",
   "metadata": {},
   "source": [
    "# **Objectives**"
   ]
  },
  {
   "attachments": {},
   "cell_type": "markdown",
   "metadata": {},
   "source": [
    "**Task for this Dataset:**\n",
    "\n",
    "The task for this dataset will be a classification task. With this dataset we are attempting to create a machine learning model to accurately classify the language of texts from Amazon product reviews: English, Japanese, German, French, Chinese, and Spanish.\n",
    "\n",
    "**Type of Machine Learning Problem:**\n",
    "\n",
    "This problem is a supervised machine learning problem because the labels are provided in the dataset (language of data samples: 6 total). The labels are provided in the respective json file name (i.e. English reviews are provided in the json file with “en” in file name).\n",
    "\n",
    "**Motivation:**\n",
    "\n",
    "Increasingly, people are transitioning to online markets, like Amazon, as it becomes easier to place orders and purchase items over the internet. Amazon has been around since 1994 and has since then grown to millions of users around the world and has become a prominent global business. Amazon extended their marketplace to many regions where customers speak different languages. The language of a marketplace does not necessarily always match the language of a review placed by customers. In this project, we are going to try and create a machine learning model to classify the language of each text review: English, Japanese, German, French, Chinese, and Spanish. In essence, we are trying to create a model that can detect the language of texts. Such machine learning model can help break the language barrier between buyers and sellers. I find the concept of Languages and linguistics interesting because they are an integral part of humanity. Languages enable us to share ideas, thoughts and feelings. Every language has its unique rules and syntax, but they allow humans to communicate and express themselves in different ways. Understanding different languages is important for businesses to build connections and grow a network. This project gives us an opportunity to create a machine learning system by using methods learned in class to classify language of texts. \n"
   ]
  },
  {
   "cell_type": "markdown",
   "metadata": {},
   "source": [
    "# **Setup**"
   ]
  },
  {
   "cell_type": "markdown",
   "metadata": {},
   "source": [
    "#### **Folder Structure:**\n",
    "```\n",
    "📂AmazonReviews\n",
    " ┃\n",
    " ┣ 📙AmazonReviews.ipynb\n",
    " ┗ 📂Data\n",
    "    ┃\n",
    "    ┣ 📂Test\n",
    "    ┃  ┣ 📝 dataset_de_test.json\n",
    "    ┃  ┣ 📝 dataset_en_test.json\n",
    "    ┃  ┣ 📝 dataset_es_test.json\n",
    "    ┃  ┣ 📝 dataset_fr_test.json\n",
    "    ┃  ┣ 📝 dataset_ja_test.json\n",
    "    ┃  ┗ 📝 dataset_zh_test.json\n",
    "    ┗ 📂Train\n",
    "       ┣ 📝 dataset_de_train.json\n",
    "       ┣ 📝 dataset_en_train.json\n",
    "       ┣ 📝 dataset_es_train.json\n",
    "       ┣ 📝 dataset_fr_train.json\n",
    "       ┣ 📝 dataset_ja_train.json\n",
    "       ┗ 📝 dataset_zh_train.json\n",
    " ```\n",
    " #### **Dataset link:**\n",
    " https://s3.console.aws.amazon.com/s3/buckets/amazon-reviews-ml/?region=us-west-2&tab=objects\n",
    " #### **Kernel:**\n",
    " base Python 3.9.12 Conda env"
   ]
  },
  {
   "cell_type": "markdown",
   "metadata": {},
   "source": [
    "# **1. Brief Exploration of Dataset**"
   ]
  },
  {
   "cell_type": "markdown",
   "metadata": {},
   "source": [
    "In this section, we will be carry out a brief exploration of our dataset. We must first note that the training data is given in 6 .json file (see folder structure) for each respective langauges: German (de), English (en), Spanish (es), French (fr), Japanese (ja), and Chinese (zh). In order to start any exploration, we must first parse the json data into our python environment."
   ]
  },
  {
   "cell_type": "code",
   "execution_count": 4,
   "metadata": {},
   "outputs": [],
   "source": [
    "all_reviews = []\n",
    "en_reviews = []\n",
    "de_reviews = []\n",
    "es_reviews = []\n",
    "fr_reviews = []\n",
    "ja_reviews = []\n",
    "zh_reviews = []\n",
    "for line in open('dataset_de_train.json', 'r'):\n",
    "    de_reviews.append(json.loads(line))\n",
    "    all_reviews.append(json.loads(line))\n",
    "for line in open('dataset_en_train.json', 'r'):\n",
    "    en_reviews.append(json.loads(line))\n",
    "    all_reviews.append(json.loads(line))\n",
    "for line in open('dataset_es_train.json', 'r'):\n",
    "    es_reviews.append(json.loads(line))\n",
    "    all_reviews.append(json.loads(line))\n",
    "for line in open('dataset_fr_train.json', 'r'):\n",
    "    fr_reviews.append(json.loads(line))\n",
    "    all_reviews.append(json.loads(line))\n",
    "for line in open('dataset_ja_train.json', 'r'):\n",
    "    ja_reviews.append(json.loads(line))\n",
    "    all_reviews.append(json.loads(line))\n",
    "for line in open('dataset_zh_train.json', 'r'):\n",
    "    zh_reviews.append(json.loads(line))\n",
    "    all_reviews.append(json.loads(line))"
   ]
  },
  {
   "attachments": {},
   "cell_type": "markdown",
   "metadata": {},
   "source": [
    "Now that we have parsed the json data into python lists (en_reviews, de_reviews, es_reviews, fr_reviews, ja_reviews, and zh_reviews) we can now begin our dataset exploration. One of the first details to observe is a sample format / structure of the data."
   ]
  },
  {
   "cell_type": "code",
   "execution_count": 5,
   "metadata": {},
   "outputs": [
    {
     "name": "stdout",
     "output_type": "stream",
     "text": [
      "de_reviews:  {'review_id': 'de_0203609', 'product_id': 'product_de_0865382', 'reviewer_id': 'reviewer_de_0267719', 'stars': '1', 'review_body': 'Armband ist leider nach 1 Jahr kaputt gegangen', 'review_title': 'Leider nach 1 Jahr kaputt', 'language': 'de', 'product_category': 'sports'} \n",
      "\n",
      "en_reviews:  {'review_id': 'en_0964290', 'product_id': 'product_en_0740675', 'reviewer_id': 'reviewer_en_0342986', 'stars': '1', 'review_body': \"Arrived broken. Manufacturer defect. Two of the legs of the base were not completely formed, so there was no way to insert the casters. I unpackaged the entire chair and hardware before noticing this. So, I'll spend twice the amount of time boxing up the whole useless thing and send it back with a 1-star review of part of a chair I never got to sit in. I will go so far as to include a picture of what their injection molding and quality assurance process missed though. I will be hesitant to buy again. It makes me wonder if there aren't missing structures and supports that don't impede the assembly process.\", 'review_title': \"I'll spend twice the amount of time boxing up the whole useless thing and send it back with a 1-star review ...\", 'language': 'en', 'product_category': 'furniture'} \n",
      "\n",
      "es_reviews:  {'review_id': 'es_0491108', 'product_id': 'product_es_0296024', 'reviewer_id': 'reviewer_es_0999081', 'stars': '1', 'review_body': 'Nada bueno se me fue ka pantalla en menos de 8 meses y no he recibido respuesta del fabricante', 'review_title': 'television Nevir', 'language': 'es', 'product_category': 'electronics'} \n",
      "\n",
      "fr_reviews:  {'review_id': 'fr_0424335', 'product_id': 'product_fr_0297678', 'reviewer_id': 'reviewer_fr_0961886', 'stars': '1', 'review_body': \"A déconseiller - Article n'a fonctionné qu'une fois - Je ne recommande pas du tout ce produit - Je l'ai jeté ...\", 'review_title': 'Brumisateur à pompe', 'language': 'fr', 'product_category': 'beauty'} \n",
      "\n",
      "ja_reviews:  {'review_id': 'ja_0388536', 'product_id': 'product_ja_0270003', 'reviewer_id': 'reviewer_ja_0454098', 'stars': '1', 'review_body': '普段使いとバイクに乗るときのブーツ兼用として購入しました。見た目や履き心地は良いです。 しかし、２ヶ月履いたらゴム底が削れて無くなりました。また、バイクのシフトペダルとの摩擦で表皮が剥がれ、本革でないことが露呈しました。ちなみに防水とも書いていますが、雨の日は内部に水が染みます。 安くて見た目も良く、履きやすかったのですが、耐久性のなさ、本革でも防水でも無かったことが残念です。結局、本革の防水ブーツを買い直しました。', 'review_title': '本革でも防水でもない', 'language': 'ja', 'product_category': 'shoes'} \n",
      "\n",
      "zh_reviews:  {'review_id': 'zh_0626061', 'product_id': 'product_zh_0691762', 'reviewer_id': 'reviewer_zh_0824776', 'stars': '1', 'review_body': '本人账号被盗，资金被江西（杨建）挪用，请亚马逊尽快查实，将本人的200元资金退回。本人已于2017年11月30日提交退货申请，为何到2018年了还是没解决？亚马逊是什么情况？请给本人一个合理解释。', 'review_title': '此书不是本人购买', 'language': 'zh', 'product_category': 'book'} \n",
      "\n"
     ]
    }
   ],
   "source": [
    "# sample review data:\n",
    "print(\"de_reviews: \",de_reviews[0], \"\\n\")\n",
    "print(\"en_reviews: \",en_reviews[0], \"\\n\")\n",
    "print(\"es_reviews: \",es_reviews[0], \"\\n\")\n",
    "print(\"fr_reviews: \",fr_reviews[0], \"\\n\")\n",
    "print(\"ja_reviews: \",ja_reviews[0], \"\\n\")\n",
    "print(\"zh_reviews: \",zh_reviews[0], \"\\n\")"
   ]
  },
  {
   "cell_type": "markdown",
   "metadata": {},
   "source": [
    "It can be seen that each reviews python list contains a list of python dict or objects. We can extract the raw features:"
   ]
  },
  {
   "cell_type": "code",
   "execution_count": 6,
   "metadata": {},
   "outputs": [
    {
     "name": "stdout",
     "output_type": "stream",
     "text": [
      "Raw Features:  ['review_id', 'product_id', 'reviewer_id', 'stars', 'review_body', 'review_title', 'language', 'product_category']\n"
     ]
    }
   ],
   "source": [
    "print(\"Raw Features: \", list(de_reviews[0].keys()))"
   ]
  },
  {
   "cell_type": "markdown",
   "metadata": {},
   "source": [
    "We see that each json object have the following fields / raw features: ['review_id', 'product_id', 'reviewer_id', 'stars', 'review_body', 'review_title', 'language', 'product_category'."
   ]
  },
  {
   "cell_type": "markdown",
   "metadata": {},
   "source": [
    "Next, we can take a look at the size of each reviews python list:"
   ]
  },
  {
   "cell_type": "code",
   "execution_count": 7,
   "metadata": {},
   "outputs": [
    {
     "data": {
      "image/png": "[encoded data removed]",
      "text/plain": [
       "<Figure size 720x360 with 1 Axes>"
      ]
     },
     "metadata": {
      "needs_background": "light"
     },
     "output_type": "display_data"
    },
    {
     "name": "stdout",
     "output_type": "stream",
     "text": [
      "de_reviews size:  200000 reviews\n",
      "\n",
      "en_reviews size:  200000 reviews\n",
      "\n",
      "es_reviews size:  200000 reviews\n",
      "\n",
      "fr_reviews size:  200000 reviews\n",
      "\n",
      "ja_reviews size:  200000 reviews\n",
      "\n",
      "zh_reviews size:  200000 reviews\n",
      "\n",
      "Total number of training samples:  1200000 reviews\n",
      "\n"
     ]
    }
   ],
   "source": [
    "# Exploring size of data\n",
    "langauge_count = {'English': len(en_reviews), 'Spanish': len(es_reviews), 'French': len(fr_reviews), 'German': len(de_reviews), 'Japanese': len(ja_reviews), 'Chinese': len(zh_reviews)}\n",
    "\n",
    "lang = list(langauge_count.keys())\n",
    "values = list(langauge_count.values())\n",
    "  \n",
    "fig = plt.figure(figsize = (10, 5))\n",
    " \n",
    "# creating the bar plot\n",
    "plt.bar(lang, values, color ='maroon',\n",
    "        width = 0.4)\n",
    " \n",
    "plt.xlabel(\"Langauges\")\n",
    "plt.ylabel(\"No. of reviews\")\n",
    "plt.title(\"Reviews Gathered From Each Langauge Dataset\")\n",
    "plt.show()\n",
    "print(\"de_reviews size: \",len(de_reviews), \"reviews\\n\")\n",
    "print(\"en_reviews size: \",len(en_reviews), \"reviews\\n\")\n",
    "print(\"es_reviews size: \",len(es_reviews), \"reviews\\n\")\n",
    "print(\"fr_reviews size: \",len(fr_reviews), \"reviews\\n\")\n",
    "print(\"ja_reviews size: \",len(ja_reviews), \"reviews\\n\")\n",
    "print(\"zh_reviews size: \",len(zh_reviews), \"reviews\\n\")\n",
    "\n",
    "print(\"Total number of training samples: \", len(de_reviews) + len(en_reviews) + len(es_reviews) + len(fr_reviews) + len(ja_reviews) + len(zh_reviews), \"reviews\\n\")\n"
   ]
  },
  {
   "attachments": {},
   "cell_type": "markdown",
   "metadata": {},
   "source": [
    "Note that there are a total of 1.2 million reivews with 200,000 reviews from each lanaguage .json file. Based on the dataset, we see that the data is pretty much uniform across all langauges. "
   ]
  },
  {
   "attachments": {},
   "cell_type": "markdown",
   "metadata": {},
   "source": [
    "We will be parsing the raw data from json file into pandas dataframes. Since this is a large dataset, pandas library has built-in routines to allow for faster processing of big data. Here we are displaying a cleaner plot and pie chart of the dataset."
   ]
  },
  {
   "cell_type": "code",
   "execution_count": 8,
   "metadata": {},
   "outputs": [
    {
     "data": {
      "text/plain": [
       "<AxesSubplot:ylabel='stars'>"
      ]
     },
     "execution_count": 8,
     "metadata": {},
     "output_type": "execute_result"
    },
    {
     "data": {
      "image/png": "[encoded data removed]",
      "text/plain": [
       "<Figure size 432x288 with 1 Axes>"
      ]
     },
     "metadata": {
      "needs_background": "light"
     },
     "output_type": "display_data"
    },
    {
     "data": {
      "image/png": "[encoded data removed]",
      "text/plain": [
       "<Figure size 432x288 with 1 Axes>"
      ]
     },
     "metadata": {},
     "output_type": "display_data"
    }
   ],
   "source": [
    "en_df = pd.read_json('dataset_en_train.json', lines=True, orient='columns')\n",
    "es_df = pd.read_json('dataset_es_train.json', lines=True, orient='columns')\n",
    "fr_df = pd.read_json('dataset_fr_train.json', lines=True, orient='columns')\n",
    "de_df = pd.read_json('dataset_de_train.json', lines=True, orient='columns')\n",
    "ja_df = pd.read_json('dataset_ja_train.json', lines=True, orient='columns')\n",
    "zh_df = pd.read_json('dataset_zh_train.json', lines=True, orient='columns')\n",
    "lang_frames = [en_df, es_df, fr_df, de_df, ja_df, zh_df]\n",
    "all_reviews_df = pd.concat(lang_frames)\n",
    "all_reviews_df['language'].value_counts().plot(kind=\"bar\", title=\"Reviews Gathered from Each Language\")\n",
    "# Rotate the x-labels by 30 degrees, and keep the text aligned horizontally\n",
    "plt.xticks(rotation=30, horizontalalignment=\"center\")\n",
    "plt.title(\"Reviews Gathered from Each Language\")\n",
    "plt.xlabel(\"Language\")\n",
    "plt.ylabel(\"Number of Reviews\")\n",
    "all_reviews_df.groupby(['language']).sum().plot(kind='pie', y='stars', autopct='%1.0f%%')"
   ]
  },
  {
   "attachments": {},
   "cell_type": "markdown",
   "metadata": {},
   "source": [
    "Note that there are a total of 1.2 million reivews with 200,000 reviews from each lanaguage .json file. Based on the dataset, we see that the data is pretty much uniform across all langauges. The pie chart also shows that the dataset is balanced among all six language. Each reviews from each language comprise of approximately 17% of the total reviews. "
   ]
  },
  {
   "attachments": {},
   "cell_type": "markdown",
   "metadata": {},
   "source": [
    "We will also check for null values in the dataset / pandas dataframe."
   ]
  },
  {
   "cell_type": "code",
   "execution_count": 9,
   "metadata": {},
   "outputs": [
    {
     "data": {
      "text/plain": [
       "review_id           0\n",
       "product_id          0\n",
       "reviewer_id         0\n",
       "stars               0\n",
       "review_body         0\n",
       "review_title        0\n",
       "language            0\n",
       "product_category    0\n",
       "dtype: int64"
      ]
     },
     "execution_count": 9,
     "metadata": {},
     "output_type": "execute_result"
    }
   ],
   "source": [
    "all_reviews_df.isnull().sum()"
   ]
  },
  {
   "attachments": {},
   "cell_type": "markdown",
   "metadata": {},
   "source": [
    "We see that there are no null values present in this dataset."
   ]
  },
  {
   "cell_type": "markdown",
   "metadata": {},
   "source": [
    "# **2. Pre-processing**"
   ]
  },
  {
   "attachments": {},
   "cell_type": "markdown",
   "metadata": {},
   "source": [
    "On top of parsing the json data into pandas dataframe, we will be employing smapling method to the large dataset. The reason for sampling is because we do not have enough computing or processing power to analyze all of the 1.2 million samples in the dataset. We will be sampling 1000 reviews from each language json data."
   ]
  },
  {
   "cell_type": "code",
   "execution_count": 10,
   "metadata": {},
   "outputs": [
    {
     "name": "stdout",
     "output_type": "stream",
     "text": [
      "English Reviews:  1000\n",
      "Spanish Reviews:  1000\n",
      "French Reviews:  1000\n",
      "German Reviews:   1000\n",
      "Japanese Reviews:  1000\n",
      "Chinese Reviews 1000\n",
      "Total Reviews:  6000\n"
     ]
    }
   ],
   "source": [
    "en_df = pd.read_json('dataset_en_train.json', lines=True, orient='columns').sample(1000)\n",
    "es_df = pd.read_json('dataset_es_train.json', lines=True, orient='columns').sample(1000)\n",
    "fr_df = pd.read_json('dataset_fr_train.json', lines=True, orient='columns').sample(1000)\n",
    "de_df = pd.read_json('dataset_de_train.json', lines=True, orient='columns').sample(1000)\n",
    "ja_df = pd.read_json('dataset_ja_train.json', lines=True, orient='columns').sample(1000)\n",
    "zh_df = pd.read_json('dataset_zh_train.json', lines=True, orient='columns').sample(1000)\n",
    "lang_frames = [en_df, es_df, fr_df, de_df, ja_df, zh_df]\n",
    "all_reviews_df = pd.concat(lang_frames)\n",
    "print('English Reviews: ', len(en_df))\n",
    "print('Spanish Reviews: ', len(es_df))\n",
    "print('French Reviews: ', len(fr_df))\n",
    "print('German Reviews:  ', len(de_df))\n",
    "print('Japanese Reviews: ', len(ja_df))\n",
    "print('Chinese Reviews',len(zh_df))\n",
    "print('Total Reviews: ',len(all_reviews_df))"
   ]
  },
  {
   "attachments": {},
   "cell_type": "markdown",
   "metadata": {},
   "source": [
    "We need to do some preprocessing for the data. The text data must meet the following preprocessing conditions:\n",
    "\n",
    "1. All the texts were converted to lower case.\n",
    "2. All the digits were removed from the text sentences.\n",
    "3. Punctuation marks and special characters were removed.\n",
    "4. All the sentences were concatenated with space in between.\n",
    "5. Series of contiguous white spaces were replaced by single space.\n",
    "\n",
    "By cleaning our raw text data this way, we will be able to use sklearn's CountVectorizer() to create our bags of words model (see section 3 Feature Extraction / Engineering and Feature learning)."
   ]
  },
  {
   "cell_type": "code",
   "execution_count": 11,
   "metadata": {},
   "outputs": [
    {
     "data": {
      "text/html": [
       "<div>\n",
       "<style scoped>\n",
       "    .dataframe tbody tr th:only-of-type {\n",
       "        vertical-align: middle;\n",
       "    }\n",
       "\n",
       "    .dataframe tbody tr th {\n",
       "        vertical-align: top;\n",
       "    }\n",
       "\n",
       "    .dataframe thead th {\n",
       "        text-align: right;\n",
       "    }\n",
       "</style>\n",
       "<table border=\"1\" class=\"dataframe\">\n",
       "  <thead>\n",
       "    <tr style=\"text-align: right;\">\n",
       "      <th></th>\n",
       "      <th>review_id</th>\n",
       "      <th>product_id</th>\n",
       "      <th>reviewer_id</th>\n",
       "      <th>stars</th>\n",
       "      <th>review_body</th>\n",
       "      <th>review_title</th>\n",
       "      <th>language</th>\n",
       "      <th>product_category</th>\n",
       "    </tr>\n",
       "  </thead>\n",
       "  <tbody>\n",
       "    <tr>\n",
       "      <th>150897</th>\n",
       "      <td>en_0738218</td>\n",
       "      <td>product_en_0472542</td>\n",
       "      <td>reviewer_en_0556625</td>\n",
       "      <td>4</td>\n",
       "      <td>Great taste and snack but too pricey</td>\n",
       "      <td>too expensive</td>\n",
       "      <td>en</td>\n",
       "      <td>grocery</td>\n",
       "    </tr>\n",
       "    <tr>\n",
       "      <th>47518</th>\n",
       "      <td>en_0956803</td>\n",
       "      <td>product_en_0466830</td>\n",
       "      <td>reviewer_en_0439704</td>\n",
       "      <td>2</td>\n",
       "      <td>Others may love it. Try it for yourself and ma...</td>\n",
       "      <td>two stars</td>\n",
       "      <td>en</td>\n",
       "      <td>other</td>\n",
       "    </tr>\n",
       "    <tr>\n",
       "      <th>138699</th>\n",
       "      <td>en_0801273</td>\n",
       "      <td>product_en_0598047</td>\n",
       "      <td>reviewer_en_0858370</td>\n",
       "      <td>4</td>\n",
       "      <td>Works great. A little difficult to put together</td>\n",
       "      <td>works great</td>\n",
       "      <td>en</td>\n",
       "      <td>sports</td>\n",
       "    </tr>\n",
       "    <tr>\n",
       "      <th>142163</th>\n",
       "      <td>en_0399259</td>\n",
       "      <td>product_en_0258860</td>\n",
       "      <td>reviewer_en_0991548</td>\n",
       "      <td>4</td>\n",
       "      <td>My only gripe is with the dust catcher. The fi...</td>\n",
       "      <td>so it s useless otherwise</td>\n",
       "      <td>en</td>\n",
       "      <td>other</td>\n",
       "    </tr>\n",
       "    <tr>\n",
       "      <th>143726</th>\n",
       "      <td>en_0637367</td>\n",
       "      <td>product_en_0539285</td>\n",
       "      <td>reviewer_en_0014965</td>\n",
       "      <td>4</td>\n",
       "      <td>This thing sucks in a good way. I have a dog t...</td>\n",
       "      <td>great buy</td>\n",
       "      <td>en</td>\n",
       "      <td>home</td>\n",
       "    </tr>\n",
       "    <tr>\n",
       "      <th>155072</th>\n",
       "      <td>en_0035331</td>\n",
       "      <td>product_en_0231695</td>\n",
       "      <td>reviewer_en_0459032</td>\n",
       "      <td>4</td>\n",
       "      <td>A little on the noisey side but works great</td>\n",
       "      <td>four stars</td>\n",
       "      <td>en</td>\n",
       "      <td>pet_products</td>\n",
       "    </tr>\n",
       "    <tr>\n",
       "      <th>1617</th>\n",
       "      <td>en_0969380</td>\n",
       "      <td>product_en_0252825</td>\n",
       "      <td>reviewer_en_0940050</td>\n",
       "      <td>1</td>\n",
       "      <td>This bra was way too large and bulky on me. I ...</td>\n",
       "      <td>one star</td>\n",
       "      <td>en</td>\n",
       "      <td>apparel</td>\n",
       "    </tr>\n",
       "    <tr>\n",
       "      <th>41054</th>\n",
       "      <td>en_0645079</td>\n",
       "      <td>product_en_0468853</td>\n",
       "      <td>reviewer_en_0280699</td>\n",
       "      <td>2</td>\n",
       "      <td>Being quiet with nothing to say is VERY tricky...</td>\n",
       "      <td>having nothing to say doesn t make for great d...</td>\n",
       "      <td>en</td>\n",
       "      <td>digital_video_download</td>\n",
       "    </tr>\n",
       "    <tr>\n",
       "      <th>186691</th>\n",
       "      <td>en_0135700</td>\n",
       "      <td>product_en_0197685</td>\n",
       "      <td>reviewer_en_0867717</td>\n",
       "      <td>5</td>\n",
       "      <td>I was glad it fit true to size. I normally wea...</td>\n",
       "      <td>cute top</td>\n",
       "      <td>en</td>\n",
       "      <td>apparel</td>\n",
       "    </tr>\n",
       "    <tr>\n",
       "      <th>122238</th>\n",
       "      <td>en_0218340</td>\n",
       "      <td>product_en_0177227</td>\n",
       "      <td>reviewer_en_0423882</td>\n",
       "      <td>4</td>\n",
       "      <td>Good quality light weight knee socks. Comforta...</td>\n",
       "      <td>comfortable</td>\n",
       "      <td>en</td>\n",
       "      <td>apparel</td>\n",
       "    </tr>\n",
       "  </tbody>\n",
       "</table>\n",
       "</div>"
      ],
      "text/plain": [
       "         review_id          product_id          reviewer_id  stars  \\\n",
       "150897  en_0738218  product_en_0472542  reviewer_en_0556625      4   \n",
       "47518   en_0956803  product_en_0466830  reviewer_en_0439704      2   \n",
       "138699  en_0801273  product_en_0598047  reviewer_en_0858370      4   \n",
       "142163  en_0399259  product_en_0258860  reviewer_en_0991548      4   \n",
       "143726  en_0637367  product_en_0539285  reviewer_en_0014965      4   \n",
       "155072  en_0035331  product_en_0231695  reviewer_en_0459032      4   \n",
       "1617    en_0969380  product_en_0252825  reviewer_en_0940050      1   \n",
       "41054   en_0645079  product_en_0468853  reviewer_en_0280699      2   \n",
       "186691  en_0135700  product_en_0197685  reviewer_en_0867717      5   \n",
       "122238  en_0218340  product_en_0177227  reviewer_en_0423882      4   \n",
       "\n",
       "                                              review_body  \\\n",
       "150897               Great taste and snack but too pricey   \n",
       "47518   Others may love it. Try it for yourself and ma...   \n",
       "138699    Works great. A little difficult to put together   \n",
       "142163  My only gripe is with the dust catcher. The fi...   \n",
       "143726  This thing sucks in a good way. I have a dog t...   \n",
       "155072        A little on the noisey side but works great   \n",
       "1617    This bra was way too large and bulky on me. I ...   \n",
       "41054   Being quiet with nothing to say is VERY tricky...   \n",
       "186691  I was glad it fit true to size. I normally wea...   \n",
       "122238  Good quality light weight knee socks. Comforta...   \n",
       "\n",
       "                                             review_title language  \\\n",
       "150897                                      too expensive       en   \n",
       "47518                                           two stars       en   \n",
       "138699                                       works great        en   \n",
       "142163                          so it s useless otherwise       en   \n",
       "143726                                          great buy       en   \n",
       "155072                                         four stars       en   \n",
       "1617                                             one star       en   \n",
       "41054   having nothing to say doesn t make for great d...       en   \n",
       "186691                                          cute top        en   \n",
       "122238                                        comfortable       en   \n",
       "\n",
       "              product_category  \n",
       "150897                 grocery  \n",
       "47518                    other  \n",
       "138699                  sports  \n",
       "142163                   other  \n",
       "143726                    home  \n",
       "155072            pet_products  \n",
       "1617                   apparel  \n",
       "41054   digital_video_download  \n",
       "186691                 apparel  \n",
       "122238                 apparel  "
      ]
     },
     "execution_count": 11,
     "metadata": {},
     "output_type": "execute_result"
    }
   ],
   "source": [
    "#remove special characters from text column\n",
    "all_reviews_df['review_title'] = all_reviews_df['review_title'].str.replace('\\W', ' ', regex=True)\n",
    "# remove numbers and digits form text\n",
    "all_reviews_df['review_title'] = all_reviews_df['review_title'].str.replace('\\d', ' ', regex=True)\n",
    "# convert text to lower case\n",
    "all_reviews_df['review_title'] = all_reviews_df['review_title'].str.lower()\n",
    "# remove n spaces and convert to a single space\n",
    "all_reviews_df['review_title'] = all_reviews_df['review_title'].str.replace('\\s{2,}', ' ', regex=True)\n",
    "# remove leading and trailing spaces\n",
    "all_reviews_df['review_title'].str.strip()\n",
    "all_reviews_df.head(10)"
   ]
  },
  {
   "attachments": {},
   "cell_type": "markdown",
   "metadata": {},
   "source": [
    "We will be removing all the columns that we will not be needing for our analysis. We will be keeping our raw text data: review_title, and label: language."
   ]
  },
  {
   "cell_type": "code",
   "execution_count": 12,
   "metadata": {},
   "outputs": [
    {
     "name": "stdout",
     "output_type": "stream",
     "text": [
      "         review_title language\n",
      "150897  too expensive       en\n",
      "47518       two stars       en\n",
      "(6000, 2)\n"
     ]
    }
   ],
   "source": [
    "all_reviews_df = all_reviews_df[[\"review_title\", \"language\"]]\n",
    "print(all_reviews_df.head(2))\n",
    "print(all_reviews_df.shape)"
   ]
  },
  {
   "attachments": {},
   "cell_type": "markdown",
   "metadata": {},
   "source": [
    "# **3. Feature Extraction / Feature Learning**"
   ]
  },
  {
   "attachments": {},
   "cell_type": "markdown",
   "metadata": {},
   "source": [
    "In our next step, we will be label encoding our output feature. Based on the way the dataframe is loaded. The labelencoder will encode language as: \n",
    "\n",
    "0: en, \n",
    "1: es,\n",
    "2: fr,\n",
    "3: de,\n",
    "4: ja, and\n",
    "5: zh.\n",
    "\n",
    "By encoding our label, we will be able to perform Multinomial Naivve Bayes and K-Nearest Neighbors using sklearn library"
   ]
  },
  {
   "cell_type": "code",
   "execution_count": 13,
   "metadata": {},
   "outputs": [
    {
     "data": {
      "text/html": [
       "<div>\n",
       "<style scoped>\n",
       "    .dataframe tbody tr th:only-of-type {\n",
       "        vertical-align: middle;\n",
       "    }\n",
       "\n",
       "    .dataframe tbody tr th {\n",
       "        vertical-align: top;\n",
       "    }\n",
       "\n",
       "    .dataframe thead th {\n",
       "        text-align: right;\n",
       "    }\n",
       "</style>\n",
       "<table border=\"1\" class=\"dataframe\">\n",
       "  <thead>\n",
       "    <tr style=\"text-align: right;\">\n",
       "      <th></th>\n",
       "      <th>review_title</th>\n",
       "      <th>language</th>\n",
       "    </tr>\n",
       "  </thead>\n",
       "  <tbody>\n",
       "    <tr>\n",
       "      <th>150897</th>\n",
       "      <td>too expensive</td>\n",
       "      <td>1</td>\n",
       "    </tr>\n",
       "    <tr>\n",
       "      <th>47518</th>\n",
       "      <td>two stars</td>\n",
       "      <td>1</td>\n",
       "    </tr>\n",
       "    <tr>\n",
       "      <th>138699</th>\n",
       "      <td>works great</td>\n",
       "      <td>1</td>\n",
       "    </tr>\n",
       "    <tr>\n",
       "      <th>142163</th>\n",
       "      <td>so it s useless otherwise</td>\n",
       "      <td>1</td>\n",
       "    </tr>\n",
       "    <tr>\n",
       "      <th>143726</th>\n",
       "      <td>great buy</td>\n",
       "      <td>1</td>\n",
       "    </tr>\n",
       "  </tbody>\n",
       "</table>\n",
       "</div>"
      ],
      "text/plain": [
       "                     review_title  language\n",
       "150897              too expensive         1\n",
       "47518                   two stars         1\n",
       "138699               works great          1\n",
       "142163  so it s useless otherwise         1\n",
       "143726                  great buy         1"
      ]
     },
     "execution_count": 13,
     "metadata": {},
     "output_type": "execute_result"
    }
   ],
   "source": [
    "le = preprocessing.LabelEncoder();\n",
    "all_reviews_df['language'] = le.fit_transform(all_reviews_df['language'])\n",
    "all_reviews_df.head()"
   ]
  },
  {
   "attachments": {},
   "cell_type": "markdown",
   "metadata": {},
   "source": [
    "Next, we will transform our raw text data into numerical values by using the bags of words model. The bag of words model works by describing the occurrence of words within a document. We only keep track of word count and disregard grammar / syntax. We can use CountVectorizer() to help us create our bag of words model."
   ]
  },
  {
   "cell_type": "code",
   "execution_count": 14,
   "metadata": {},
   "outputs": [
    {
     "name": "stdout",
     "output_type": "stream",
     "text": [
      "(6000, 6572)\n"
     ]
    }
   ],
   "source": [
    "from sklearn.feature_extraction.text import CountVectorizer\n",
    "\n",
    "X = all_reviews_df['review_title']\n",
    "Y = all_reviews_df['language']\n",
    "\n",
    "CV = CountVectorizer()\n",
    "X = CV.fit_transform(X).toarray()\n",
    "\n",
    "print(X.shape)"
   ]
  },
  {
   "attachments": {},
   "cell_type": "markdown",
   "metadata": {},
   "source": [
    "# 4. **Processing**"
   ]
  },
  {
   "attachments": {},
   "cell_type": "markdown",
   "metadata": {},
   "source": [
    "We will now begin processing the data. We will perform Multinomial Naive Bayes and K-Nearest Neighbors classifiers. "
   ]
  },
  {
   "attachments": {},
   "cell_type": "markdown",
   "metadata": {},
   "source": [
    "We will start off by using Multinomial Naive Bayes for multiclass classification. We will use the NultinomialNB() to help us implement this. We first instantiate the MultinomialNB object, and then fit the data using .fit() with our input feature and output feature as paramters."
   ]
  },
  {
   "cell_type": "code",
   "execution_count": 15,
   "metadata": {},
   "outputs": [
    {
     "data": {
      "text/plain": [
       "MultinomialNB()"
      ]
     },
     "execution_count": 15,
     "metadata": {},
     "output_type": "execute_result"
    }
   ],
   "source": [
    "from sklearn.naive_bayes import MultinomialNB\n",
    "from sklearn.neighbors import KNeighborsClassifier\n",
    "from sklearn.model_selection import cross_validate #import cross_val_score from sklearn.model_selection\n",
    "\n",
    "model1 = MultinomialNB()\n",
    "model1.fit(X, Y)"
   ]
  },
  {
   "attachments": {},
   "cell_type": "markdown",
   "metadata": {},
   "source": [
    "Next, we will use K Nearest Neighbors to create our second model. We will be using KNeighborsClassifier() from sklearn to help us implement our model. First, we must choose k. With the help of cross_validate() from sklearn, we can determine our optimal k value by finding the input that maximizes mean_validation_scores."
   ]
  },
  {
   "cell_type": "code",
   "execution_count": 16,
   "metadata": {},
   "outputs": [
    {
     "data": {
      "text/plain": [
       "KNeighborsClassifier(n_neighbors=20)"
      ]
     },
     "execution_count": 16,
     "metadata": {},
     "output_type": "execute_result"
    }
   ],
   "source": [
    "k_values = list(range(1, 21)) \n",
    "cross_validation_scores_model = [cross_validate(KNeighborsClassifier(n_neighbors = k), X, Y) for k in k_values] #compute cross validation scores for each alpha for Ridge Regression\n",
    "mean_validation_scores_model = [data[\"test_score\"].mean() for data in cross_validation_scores_model] #compute mean of cross validation scores\n",
    "std_validation_scores_model = [data[\"test_score\"].std() for data in cross_validation_scores_model] #compute standard deviation of cross validation scores\n",
    "best_k = k_values[np.argmax(mean_validation_scores_model)] #determine which alphs gives us best cross validation score\n",
    "\n",
    "model3 = KNeighborsClassifier(n_neighbors = best_k)\n",
    "model3.fit(X, Y)"
   ]
  },
  {
   "attachments": {},
   "cell_type": "markdown",
   "metadata": {},
   "source": [
    "# **5. Comparative Analysis**"
   ]
  },
  {
   "attachments": {},
   "cell_type": "markdown",
   "metadata": {},
   "source": [
    "In order to test our Multinomial naive bayes and K-Nearest Neighbor classifer, we will use our test data. Our test data is also stored in json format, so we will have to parse the json data into pandas dataframe just like how we parsed our training data."
   ]
  },
  {
   "cell_type": "code",
   "execution_count": 17,
   "metadata": {},
   "outputs": [
    {
     "name": "stdout",
     "output_type": "stream",
     "text": [
      "English Reviews:  5000\n",
      "Spanish Reviews:  5000\n",
      "French Reviews:  5000\n",
      "German Reviews:   5000\n",
      "Japanese Reviews:  5000\n",
      "Chinese Reviews 5000\n",
      "Total Reviews:  30000\n"
     ]
    }
   ],
   "source": [
    "en_df_test = pd.read_json('dataset_en_test.json', lines=True, orient='columns')\n",
    "es_df_test = pd.read_json('dataset_es_test.json', lines=True, orient='columns')\n",
    "fr_df_test = pd.read_json('dataset_fr_test.json', lines=True, orient='columns')\n",
    "de_df_test = pd.read_json('dataset_de_test.json', lines=True, orient='columns')\n",
    "ja_df_test = pd.read_json('dataset_ja_test.json', lines=True, orient='columns')\n",
    "zh_df_test = pd.read_json('dataset_zh_test.json', lines=True, orient='columns')\n",
    "lang_frames_test = [en_df_test, es_df_test, fr_df_test, de_df_test, ja_df_test, zh_df_test]\n",
    "all_reviews_df_test = pd.concat(lang_frames_test)\n",
    "print('English Reviews: ', len(en_df_test))\n",
    "print('Spanish Reviews: ', len(es_df_test))\n",
    "print('French Reviews: ', len(fr_df_test))\n",
    "print('German Reviews:  ', len(de_df_test))\n",
    "print('Japanese Reviews: ', len(ja_df_test))\n",
    "print('Chinese Reviews',len(zh_df_test))\n",
    "print('Total Reviews: ',len(all_reviews_df_test))"
   ]
  },
  {
   "attachments": {},
   "cell_type": "markdown",
   "metadata": {},
   "source": [
    "Next we will clean the test data and use the cleaned data into our models. We will compare the models by comparing the two confusion matrices."
   ]
  },
  {
   "cell_type": "code",
   "execution_count": 18,
   "metadata": {},
   "outputs": [
    {
     "name": "stdout",
     "output_type": "stream",
     "text": [
      "[[4887   55   28   28    1    1]\n",
      " [ 247 4688   32   33    0    0]\n",
      " [ 603   27 4334   34    2    0]\n",
      " [ 611   43  163 4183    0    0]\n",
      " [4433   12    5    4  545    1]\n",
      " [3886   14    2    1    4 1093]]\n",
      "[[2851   59   14    8    0 2068]\n",
      " [ 207 2725   51   29    0 1988]\n",
      " [ 112   40 2475  169    0 2204]\n",
      " [ 300   24  107 2573    0 1996]\n",
      " [  43    2    0    2   57 4896]\n",
      " [   6    7    0    2    0 4985]]\n"
     ]
    }
   ],
   "source": [
    "from sklearn.metrics import confusion_matrix\n",
    "\n",
    "#remove special characters from text column\n",
    "all_reviews_df_test['review_title'] = all_reviews_df_test['review_title'].str.replace('\\W', ' ', regex=True)\n",
    "# remove numbers and digits form text\n",
    "all_reviews_df_test['review_title'] = all_reviews_df_test['review_title'].str.replace('\\d', ' ', regex=True)\n",
    "# convert text to lower case\n",
    "all_reviews_df_test['review_title'] = all_reviews_df_test['review_title'].str.lower()\n",
    "# remove n spaces and convert to a single space\n",
    "all_reviews_df_test['review_title'] = all_reviews_df_test['review_title'].str.replace('\\s{2,}', ' ', regex=True)\n",
    "# remove leading and trailing spaces\n",
    "all_reviews_df_test['review_title'].str.strip()\n",
    "\n",
    "all_reviews_df_test = all_reviews_df_test[[\"review_body\", \"review_title\", \"language\"]]\n",
    "\n",
    "all_reviews_df_test['language'] = le.transform(all_reviews_df_test['language'])\n",
    "\n",
    "\n",
    "X = all_reviews_df_test['review_title']\n",
    "Y = all_reviews_df_test['language']\n",
    "X = CV.transform(X).toarray()\n",
    "\n",
    "Y_pred1 = model1.predict(X)\n",
    "conf_mat1 = confusion_matrix(Y, Y_pred1, labels = model1.classes_)\n",
    "\n",
    "Y_pred3 = model3.predict(X)\n",
    "conf_mat3 = confusion_matrix(Y, Y_pred3, labels = model3.classes_)\n",
    "\n",
    "print(conf_mat1)\n",
    "print(conf_mat3)\n",
    "\n",
    "from sklearn.metrics import plot_confusion_matrix\n",
    "\n"
   ]
  },
  {
   "attachments": {},
   "cell_type": "markdown",
   "metadata": {},
   "source": [
    "To plot our cofusion matrices, we can use ConfusionMatrixDisplay() from sklearn"
   ]
  },
  {
   "cell_type": "code",
   "execution_count": 19,
   "metadata": {},
   "outputs": [
    {
     "data": {
      "image/png": "[encoded data removed]",
      "text/plain": [
       "<Figure size 432x288 with 2 Axes>"
      ]
     },
     "metadata": {
      "needs_background": "light"
     },
     "output_type": "display_data"
    },
    {
     "ename": "NameError",
     "evalue": "name 'conf_mat2' is not defined",
     "output_type": "error",
     "traceback": [
      "\u001b[0;31m---------------------------------------------------------------------------\u001b[0m",
      "\u001b[0;31mNameError\u001b[0m                                 Traceback (most recent call last)",
      "\u001b[1;32m/Users/raviraghavan/Desktop/Undergrad BS CS:CE/Undergrad Junior Year/ECE 443(Machine Learning)/Term Project/AmazonReviews/3NearestNeighbors_Dataset_3.ipynb Cell 48\u001b[0m in \u001b[0;36m<cell line: 7>\u001b[0;34m()\u001b[0m\n\u001b[1;32m      <a href='vscode-notebook-cell:/Users/raviraghavan/Desktop/Undergrad%20BS%20CS%3ACE/Undergrad%20Junior%20Year/ECE%20443%28Machine%20Learning%29/Term%20Project/AmazonReviews/3NearestNeighbors_Dataset_3.ipynb#X65sZmlsZQ%3D%3D?line=4'>5</a>\u001b[0m disp1\u001b[39m.\u001b[39mplot()\n\u001b[1;32m      <a href='vscode-notebook-cell:/Users/raviraghavan/Desktop/Undergrad%20BS%20CS%3ACE/Undergrad%20Junior%20Year/ECE%20443%28Machine%20Learning%29/Term%20Project/AmazonReviews/3NearestNeighbors_Dataset_3.ipynb#X65sZmlsZQ%3D%3D?line=5'>6</a>\u001b[0m plt\u001b[39m.\u001b[39mshow()\n\u001b[0;32m----> <a href='vscode-notebook-cell:/Users/raviraghavan/Desktop/Undergrad%20BS%20CS%3ACE/Undergrad%20Junior%20Year/ECE%20443%28Machine%20Learning%29/Term%20Project/AmazonReviews/3NearestNeighbors_Dataset_3.ipynb#X65sZmlsZQ%3D%3D?line=6'>7</a>\u001b[0m disp2 \u001b[39m=\u001b[39m ConfusionMatrixDisplay(confusion_matrix\u001b[39m=\u001b[39mconf_mat2, display_labels\u001b[39m=\u001b[39m [\u001b[39m'\u001b[39m\u001b[39m0\u001b[39m\u001b[39m'\u001b[39m, \u001b[39m'\u001b[39m\u001b[39m1\u001b[39m\u001b[39m'\u001b[39m, \u001b[39m'\u001b[39m\u001b[39m2\u001b[39m\u001b[39m'\u001b[39m, \u001b[39m'\u001b[39m\u001b[39m3\u001b[39m\u001b[39m'\u001b[39m, \u001b[39m'\u001b[39m\u001b[39m4\u001b[39m\u001b[39m'\u001b[39m, \u001b[39m'\u001b[39m\u001b[39m5\u001b[39m\u001b[39m'\u001b[39m])\n\u001b[1;32m      <a href='vscode-notebook-cell:/Users/raviraghavan/Desktop/Undergrad%20BS%20CS%3ACE/Undergrad%20Junior%20Year/ECE%20443%28Machine%20Learning%29/Term%20Project/AmazonReviews/3NearestNeighbors_Dataset_3.ipynb#X65sZmlsZQ%3D%3D?line=7'>8</a>\u001b[0m disp2\u001b[39m.\u001b[39mplot()\n\u001b[1;32m      <a href='vscode-notebook-cell:/Users/raviraghavan/Desktop/Undergrad%20BS%20CS%3ACE/Undergrad%20Junior%20Year/ECE%20443%28Machine%20Learning%29/Term%20Project/AmazonReviews/3NearestNeighbors_Dataset_3.ipynb#X65sZmlsZQ%3D%3D?line=8'>9</a>\u001b[0m plt\u001b[39m.\u001b[39mshow()\n",
      "\u001b[0;31mNameError\u001b[0m: name 'conf_mat2' is not defined"
     ]
    }
   ],
   "source": [
    "from sklearn.metrics import ConfusionMatrixDisplay\n",
    "import matplotlib.pyplot as plt\n",
    "\n",
    "disp1 = ConfusionMatrixDisplay(confusion_matrix=conf_mat1, display_labels= ['0', '1', '2', '3', '4', '5'])\n",
    "disp1.plot()\n",
    "plt.show()\n",
    "disp2 = ConfusionMatrixDisplay(confusion_matrix=conf_mat3, display_labels= ['0', '1', '2', '3', '4', '5'])\n",
    "disp2.plot()\n",
    "plt.show()"
   ]
  },
  {
   "attachments": {},
   "cell_type": "markdown",
   "metadata": {},
   "source": [
    "Upon analyzing both confusion matrices, we see that both classifers perform poorly when trying to classify japanese text and chinese texts."
   ]
  },
  {
   "cell_type": "markdown",
   "metadata": {},
   "source": []
  }
 ],
 "metadata": {
  "kernelspec": {
   "display_name": "Python 3.9.12 ('base')",
   "language": "python",
   "name": "python3"
  },
  "language_info": {
   "codemirror_mode": {
    "name": "ipython",
    "version": 3
   },
   "file_extension": ".py",
   "mimetype": "text/x-python",
   "name": "python",
   "nbconvert_exporter": "python",
   "pygments_lexer": "ipython3",
   "version": "3.9.12"
  },
  "orig_nbformat": 4,
  "vscode": {
   "interpreter": {
    "hash": "158118ccdd82147cca300eba465480588f6a29d12f14ea5e3b71ae9ad9e9c4bf"
   }
  }
 },
 "nbformat": 4,
 "nbformat_minor": 2
}
