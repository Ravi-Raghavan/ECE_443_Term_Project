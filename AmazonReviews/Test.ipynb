{
 "cells": [
  {
   "cell_type": "code",
   "execution_count": 81,
   "metadata": {},
   "outputs": [],
   "source": [
    "import numpy as np # linear algebra\n",
    "import pandas as pd # data processing, CSV file I/O (e.g. pd.read_csv)\n",
    "\n",
    "# Input data files are available in the read-only \"../input/\" directory\n",
    "# For example, running this (by clicking run or pressing Shift+Enter) will list all files under the input directory\n",
    "\n"
   ]
  },
  {
   "cell_type": "code",
   "execution_count": 82,
   "metadata": {},
   "outputs": [],
   "source": [
    "import csv\n",
    "import random\n",
    "import numpy as np\n",
    "import matplotlib.pyplot as plt\n",
    "from scipy.stats import linregress\n",
    "from sklearn.feature_extraction.text import CountVectorizer\n",
    "from sklearn import preprocessing\n",
    "import seaborn as sns\n",
    "import json"
   ]
  },
  {
   "cell_type": "code",
   "execution_count": 83,
   "metadata": {},
   "outputs": [
    {
     "name": "stdout",
     "output_type": "stream",
     "text": [
      "English Reviews:  1000\n",
      "Spanish Reviews:  1000\n",
      "French Reviews:  1000\n",
      "German Reviews:   1000\n",
      "Japanese Reviews:  1000\n",
      "Chinese Reviews 1000\n",
      "Total Reviews:  6000\n"
     ]
    }
   ],
   "source": [
    "en_df = pd.read_json('dataset_en_train.json', lines=True, orient='columns').sample(1000)\n",
    "es_df = pd.read_json('dataset_es_train.json', lines=True, orient='columns').sample(1000)\n",
    "fr_df = pd.read_json('dataset_fr_train.json', lines=True, orient='columns').sample(1000)\n",
    "de_df = pd.read_json('dataset_de_train.json', lines=True, orient='columns').sample(1000)\n",
    "ja_df = pd.read_json('dataset_ja_train.json', lines=True, orient='columns').sample(1000)\n",
    "zh_df = pd.read_json('dataset_zh_train.json', lines=True, orient='columns').sample(1000)\n",
    "lang_frames = [en_df, es_df, fr_df, de_df, ja_df, zh_df]\n",
    "all_reviews_df = pd.concat(lang_frames)\n",
    "print('English Reviews: ', len(en_df))\n",
    "print('Spanish Reviews: ', len(es_df))\n",
    "print('French Reviews: ', len(fr_df))\n",
    "print('German Reviews:  ', len(de_df))\n",
    "print('Japanese Reviews: ', len(ja_df))\n",
    "print('Chinese Reviews',len(zh_df))\n",
    "print('Total Reviews: ',len(all_reviews_df))"
   ]
  },
  {
   "cell_type": "code",
   "execution_count": 84,
   "metadata": {},
   "outputs": [
    {
     "data": {
      "text/plain": [
       "127089                    cable set\n",
       "114738                  three stars\n",
       "108290                  great value\n",
       "43419     not what it appears to be\n",
       "3232                  cheap no good\n",
       "                    ...            \n",
       "1479                     以次充好 欺骗消费者\n",
       "103017                书是好书 被翻译和装订坑了\n",
       "179368                         差三册啊\n",
       "160060                          入手的\n",
       "69621                          太不值了\n",
       "Name: review_title, Length: 6000, dtype: object"
      ]
     },
     "execution_count": 84,
     "metadata": {},
     "output_type": "execute_result"
    }
   ],
   "source": [
    "#remove special characters from text column\n",
    "all_reviews_df['review_title'] = all_reviews_df['review_title'].str.replace('\\W', ' ', regex=True)\n",
    "# remove numbers and digits form text\n",
    "all_reviews_df['review_title'] = all_reviews_df['review_title'].str.replace('\\d', ' ', regex=True)\n",
    "# convert text to lower case\n",
    "all_reviews_df['review_title'] = all_reviews_df['review_title'].str.lower()\n",
    "# remove n spaces and convert to a single space\n",
    "all_reviews_df['review_title'] = all_reviews_df['review_title'].str.replace('\\s{2,}', ' ', regex=True)\n",
    "# remove leading and trailing spaces\n",
    "all_reviews_df['review_title'].str.strip()\n"
   ]
  },
  {
   "cell_type": "code",
   "execution_count": 85,
   "metadata": {},
   "outputs": [
    {
     "name": "stdout",
     "output_type": "stream",
     "text": [
      "                                              review_body review_title  \\\n",
      "127089  The overall length of the cable, which is what...    cable set   \n",
      "114738    After about 1 year the lid doesn't stay closed.  three stars   \n",
      "\n",
      "       language  \n",
      "127089       en  \n",
      "114738       en  \n",
      "(6000, 3)\n"
     ]
    }
   ],
   "source": [
    "all_reviews_df = all_reviews_df[[\"review_body\", \"review_title\", \"language\"]]\n",
    "print(all_reviews_df.head(2))\n",
    "print(all_reviews_df.shape)"
   ]
  },
  {
   "cell_type": "code",
   "execution_count": 86,
   "metadata": {},
   "outputs": [
    {
     "data": {
      "text/html": [
       "<div>\n",
       "<style scoped>\n",
       "    .dataframe tbody tr th:only-of-type {\n",
       "        vertical-align: middle;\n",
       "    }\n",
       "\n",
       "    .dataframe tbody tr th {\n",
       "        vertical-align: top;\n",
       "    }\n",
       "\n",
       "    .dataframe thead th {\n",
       "        text-align: right;\n",
       "    }\n",
       "</style>\n",
       "<table border=\"1\" class=\"dataframe\">\n",
       "  <thead>\n",
       "    <tr style=\"text-align: right;\">\n",
       "      <th></th>\n",
       "      <th>review_body</th>\n",
       "      <th>review_title</th>\n",
       "      <th>language</th>\n",
       "    </tr>\n",
       "  </thead>\n",
       "  <tbody>\n",
       "    <tr>\n",
       "      <th>127089</th>\n",
       "      <td>The overall length of the cable, which is what...</td>\n",
       "      <td>cable set</td>\n",
       "      <td>1</td>\n",
       "    </tr>\n",
       "    <tr>\n",
       "      <th>114738</th>\n",
       "      <td>After about 1 year the lid doesn't stay closed.</td>\n",
       "      <td>three stars</td>\n",
       "      <td>1</td>\n",
       "    </tr>\n",
       "    <tr>\n",
       "      <th>108290</th>\n",
       "      <td>dog seems to enjoy it</td>\n",
       "      <td>great value</td>\n",
       "      <td>1</td>\n",
       "    </tr>\n",
       "    <tr>\n",
       "      <th>43419</th>\n",
       "      <td>This product is gravely misrepresented by Camp...</td>\n",
       "      <td>not what it appears to be</td>\n",
       "      <td>1</td>\n",
       "    </tr>\n",
       "    <tr>\n",
       "      <th>3232</th>\n",
       "      <td>Very cheap quality I returned it got a refund</td>\n",
       "      <td>cheap no good</td>\n",
       "      <td>1</td>\n",
       "    </tr>\n",
       "  </tbody>\n",
       "</table>\n",
       "</div>"
      ],
      "text/plain": [
       "                                              review_body  \\\n",
       "127089  The overall length of the cable, which is what...   \n",
       "114738    After about 1 year the lid doesn't stay closed.   \n",
       "108290                              dog seems to enjoy it   \n",
       "43419   This product is gravely misrepresented by Camp...   \n",
       "3232        Very cheap quality I returned it got a refund   \n",
       "\n",
       "                      review_title  language  \n",
       "127089                   cable set         1  \n",
       "114738                 three stars         1  \n",
       "108290                 great value         1  \n",
       "43419   not what it appears to be          1  \n",
       "3232                 cheap no good         1  "
      ]
     },
     "execution_count": 86,
     "metadata": {},
     "output_type": "execute_result"
    }
   ],
   "source": [
    "le = preprocessing.LabelEncoder();\n",
    "all_reviews_df['language'] = le.fit_transform(all_reviews_df['language'])\n",
    "all_reviews_df.head()"
   ]
  },
  {
   "cell_type": "code",
   "execution_count": 87,
   "metadata": {},
   "outputs": [
    {
     "name": "stdout",
     "output_type": "stream",
     "text": [
      "(6000, 6779)\n"
     ]
    }
   ],
   "source": [
    "X = all_reviews_df['review_title']\n",
    "Y = all_reviews_df['language']\n",
    "\n",
    "from sklearn.feature_extraction.text import CountVectorizer\n",
    "CV = CountVectorizer()\n",
    "X = CV.fit_transform(X).toarray()\n",
    "\n",
    "print(X.shape)"
   ]
  },
  {
   "cell_type": "code",
   "execution_count": 88,
   "metadata": {},
   "outputs": [
    {
     "data": {
      "text/plain": [
       "MultinomialNB()"
      ]
     },
     "execution_count": 88,
     "metadata": {},
     "output_type": "execute_result"
    }
   ],
   "source": [
    "from sklearn.discriminant_analysis import QuadraticDiscriminantAnalysis\n",
    "from sklearn.naive_bayes import MultinomialNB\n",
    "from sklearn.neighbors import KNeighborsClassifier\n",
    "from sklearn.model_selection import cross_validate #import cross_val_score from sklearn.model_selection\n",
    "\n",
    "model1 = MultinomialNB()\n",
    "model1.fit(X, Y)"
   ]
  },
  {
   "cell_type": "code",
   "execution_count": 89,
   "metadata": {},
   "outputs": [
    {
     "name": "stderr",
     "output_type": "stream",
     "text": [
      "/Users/raviraghavan/opt/anaconda3/lib/python3.9/site-packages/sklearn/discriminant_analysis.py:878: UserWarning: Variables are collinear\n",
      "  warnings.warn(\"Variables are collinear\")\n"
     ]
    },
    {
     "data": {
      "text/plain": [
       "QuadraticDiscriminantAnalysis()"
      ]
     },
     "execution_count": 89,
     "metadata": {},
     "output_type": "execute_result"
    }
   ],
   "source": [
    "model2 = QuadraticDiscriminantAnalysis()\n",
    "model2.fit(X, Y)"
   ]
  },
  {
   "cell_type": "code",
   "execution_count": 90,
   "metadata": {},
   "outputs": [
    {
     "data": {
      "text/plain": [
       "KNeighborsClassifier(n_neighbors=4)"
      ]
     },
     "execution_count": 90,
     "metadata": {},
     "output_type": "execute_result"
    }
   ],
   "source": [
    "k_values = list(range(1, 21)) \n",
    "cross_validation_scores_model = [cross_validate(KNeighborsClassifier(n_neighbors = k), X, Y) for k in k_values] #compute cross validation scores for each alpha for Ridge Regression\n",
    "mean_validation_scores_model = [data[\"test_score\"].mean() for data in cross_validation_scores_model] #compute mean of cross validation scores\n",
    "std_validation_scores_model = [data[\"test_score\"].std() for data in cross_validation_scores_model] #compute standard deviation of cross validation scores\n",
    "best_k = k_values[np.argmax(mean_validation_scores_model)] #determine which alphs gives us best cross validation score\n",
    "\n",
    "model3 = KNeighborsClassifier(n_neighbors = best_k)\n",
    "model3.fit(X, Y)\n"
   ]
  },
  {
   "cell_type": "code",
   "execution_count": 91,
   "metadata": {},
   "outputs": [
    {
     "name": "stdout",
     "output_type": "stream",
     "text": [
      "English Reviews:  5000\n",
      "Spanish Reviews:  5000\n",
      "French Reviews:  5000\n",
      "German Reviews:   5000\n",
      "Japanese Reviews:  5000\n",
      "Chinese Reviews 5000\n",
      "Total Reviews:  30000\n"
     ]
    }
   ],
   "source": [
    "en_df_test = pd.read_json('dataset_en_test.json', lines=True, orient='columns')\n",
    "es_df_test = pd.read_json('dataset_es_test.json', lines=True, orient='columns')\n",
    "fr_df_test = pd.read_json('dataset_fr_test.json', lines=True, orient='columns')\n",
    "de_df_test = pd.read_json('dataset_de_test.json', lines=True, orient='columns')\n",
    "ja_df_test = pd.read_json('dataset_ja_test.json', lines=True, orient='columns')\n",
    "zh_df_test = pd.read_json('dataset_zh_test.json', lines=True, orient='columns')\n",
    "lang_frames_test = [en_df_test, es_df_test, fr_df_test, de_df_test, ja_df_test, zh_df_test]\n",
    "all_reviews_df_test = pd.concat(lang_frames_test)\n",
    "print('English Reviews: ', len(en_df_test))\n",
    "print('Spanish Reviews: ', len(es_df_test))\n",
    "print('French Reviews: ', len(fr_df_test))\n",
    "print('German Reviews:  ', len(de_df_test))\n",
    "print('Japanese Reviews: ', len(ja_df_test))\n",
    "print('Chinese Reviews',len(zh_df_test))\n",
    "print('Total Reviews: ',len(all_reviews_df_test))"
   ]
  },
  {
   "cell_type": "code",
   "execution_count": 92,
   "metadata": {},
   "outputs": [
    {
     "name": "stdout",
     "output_type": "stream",
     "text": [
      "[[4894   67   14   21    1    3]\n",
      " [ 224 4726   24   25    1    0]\n",
      " [ 603   28 4234  132    2    1]\n",
      " [ 570   47   57 4318    4    4]\n",
      " [4446   11    5    7  530    1]\n",
      " [3829   12    4    2    5 1148]]\n",
      "[[ 694  158  277 3870    1    0]\n",
      " [ 517 1202  618 2663    0    0]\n",
      " [ 460  374 1817 2346    3    0]\n",
      " [ 219  856  501 3421    2    1]\n",
      " [   1    2    7 4990    0    0]\n",
      " [   1    3    4 4992    0    0]]\n",
      "[[2783   50  184  160  152 1671]\n",
      " [ 467 2957   70   55   91 1360]\n",
      " [ 290  138 2789  180  156 1447]\n",
      " [ 347   39  277 2798  104 1435]\n",
      " [  49   10   17    0  235 4689]\n",
      " [  31    7   20    0    0 4942]]\n"
     ]
    }
   ],
   "source": [
    "from sklearn.metrics import confusion_matrix\n",
    "\n",
    "#remove special characters from text column\n",
    "all_reviews_df_test['review_title'] = all_reviews_df_test['review_title'].str.replace('\\W', ' ', regex=True)\n",
    "# remove numbers and digits form text\n",
    "all_reviews_df_test['review_title'] = all_reviews_df_test['review_title'].str.replace('\\d', ' ', regex=True)\n",
    "# convert text to lower case\n",
    "all_reviews_df_test['review_title'] = all_reviews_df_test['review_title'].str.lower()\n",
    "# remove n spaces and convert to a single space\n",
    "all_reviews_df_test['review_title'] = all_reviews_df_test['review_title'].str.replace('\\s{2,}', ' ', regex=True)\n",
    "# remove leading and trailing spaces\n",
    "all_reviews_df_test['review_title'].str.strip()\n",
    "\n",
    "all_reviews_df_test = all_reviews_df_test[[\"review_body\", \"review_title\", \"language\"]]\n",
    "\n",
    "all_reviews_df_test['language'] = le.transform(all_reviews_df_test['language'])\n",
    "\n",
    "\n",
    "X = all_reviews_df_test['review_title']\n",
    "Y = all_reviews_df_test['language']\n",
    "X = CV.transform(X).toarray()\n",
    "\n",
    "Y_pred1 = model1.predict(X)\n",
    "conf_mat1 = confusion_matrix(Y, Y_pred1, labels = model1.classes_)\n",
    "\n",
    "\n",
    "Y_pred2 = model2.predict(X)\n",
    "conf_mat2 = confusion_matrix(Y, Y_pred2, labels = model2.classes_)\n",
    "\n",
    "\n",
    "Y_pred3 = model3.predict(X)\n",
    "conf_mat3 = confusion_matrix(Y, Y_pred3, labels = model3.classes_)\n",
    "\n",
    "print(conf_mat1)\n",
    "print(conf_mat2)\n",
    "print(conf_mat3)\n",
    "\n",
    "from sklearn.metrics import plot_confusion_matrix\n",
    "\n"
   ]
  },
  {
   "cell_type": "code",
   "execution_count": 93,
   "metadata": {},
   "outputs": [
    {
     "data": {
      "image/png": "[encoded data removed]",
      "text/plain": [
       "<Figure size 432x288 with 2 Axes>"
      ]
     },
     "metadata": {
      "needs_background": "light"
     },
     "output_type": "display_data"
    }
   ],
   "source": [
    "from sklearn.metrics import ConfusionMatrixDisplay\n",
    "import matplotlib.pyplot as plt\n",
    "\n",
    "disp1 = ConfusionMatrixDisplay(confusion_matrix=conf_mat1, display_labels= ['0', '1', '2', '3', '4', '5'])\n",
    "disp1.plot()\n",
    "plt.show()\n"
   ]
  },
  {
   "cell_type": "code",
   "execution_count": 94,
   "metadata": {},
   "outputs": [
    {
     "data": {
      "image/png": "[encoded data removed]",
      "text/plain": [
       "<Figure size 432x288 with 2 Axes>"
      ]
     },
     "metadata": {
      "needs_background": "light"
     },
     "output_type": "display_data"
    }
   ],
   "source": [
    "disp2 = ConfusionMatrixDisplay(confusion_matrix=conf_mat2, display_labels= ['0', '1', '2', '3', '4', '5'])\n",
    "disp2.plot()\n",
    "plt.show()\n",
    "\n"
   ]
  },
  {
   "cell_type": "code",
   "execution_count": 95,
   "metadata": {},
   "outputs": [
    {
     "data": {
      "image/png": "[encoded data removed]",
      "text/plain": [
       "<Figure size 432x288 with 2 Axes>"
      ]
     },
     "metadata": {
      "needs_background": "light"
     },
     "output_type": "display_data"
    }
   ],
   "source": [
    "disp3 = ConfusionMatrixDisplay(confusion_matrix=conf_mat3, display_labels= ['0', '1', '2', '3', '4', '5'])\n",
    "disp3.plot()\n",
    "plt.show()\n"
   ]
  }
 ],
 "metadata": {
  "kernelspec": {
   "display_name": "Python 3.9.12 ('base')",
   "language": "python",
   "name": "python3"
  },
  "language_info": {
   "codemirror_mode": {
    "name": "ipython",
    "version": 3
   },
   "file_extension": ".py",
   "mimetype": "text/x-python",
   "name": "python",
   "nbconvert_exporter": "python",
   "pygments_lexer": "ipython3",
   "version": "3.9.12"
  },
  "orig_nbformat": 4,
  "vscode": {
   "interpreter": {
    "hash": "158118ccdd82147cca300eba465480588f6a29d12f14ea5e3b71ae9ad9e9c4bf"
   }
  }
 },
 "nbformat": 4,
 "nbformat_minor": 2
}
