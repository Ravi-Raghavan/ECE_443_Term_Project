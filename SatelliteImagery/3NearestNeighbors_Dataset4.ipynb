{
  "cells": [
    {
      "cell_type": "markdown",
      "source": [
        "### _Satellite Imagery_"
      ],
      "metadata": {
        "id": "7ys6Tm5XiFzV"
      }
    },
    {
      "cell_type": "code",
      "execution_count": null,
      "metadata": {
        "colab": {
          "base_uri": "https://localhost:8080/"
        },
        "id": "k9G8pkOPPhIm",
        "outputId": "fe317e66-fbd5-4532-a2e4-4a427b09dd55"
      },
      "outputs": [
        {
          "output_type": "stream",
          "name": "stdout",
          "text": [
            "Mounted at /content/drive\n"
          ]
        }
      ],
      "source": [
        "# optional code cell when using Google Colab with Google Drive\n",
        "\n",
        "# remove the docstring comment block below in order to mount Google Drive\n",
        "\n",
        "# mount Google Drive in Google Colab\n",
        "from google.colab import drive\n",
        "drive.mount('/content/drive')\n",
        "\n",
        "# change directory using the magic command %cd\n",
        "### replace [MY PATH] below with your own path in Google Drive ###\n",
        "### %cd /content/drive/My\\ Drive/[MY PATH] ###"
      ]
    },
    {
      "cell_type": "markdown",
      "metadata": {
        "id": "8VUI09yvi2vg"
      },
      "source": [
        "_The following code simply imports the Python libaries necessary to develop this machine learning system. Notice that the only scikit learn method which is imported is ConfusionMatrixDisplay, which simply assists with displaying confusion matrices. It does not help with generating the confusion matrices themselves, but simply provides a helpful means of visualizing the confusion matrices. Thus, all machine learning tasks in this notebook are done manually, without the help of scikit learn._"
      ]
    },
    {
      "cell_type": "code",
      "execution_count": null,
      "metadata": {
        "id": "Pltvw8nyPmUy"
      },
      "outputs": [],
      "source": [
        "# import relevant Python libraries\n",
        "\n",
        "import numpy as np\n",
        "from IPython.display import display, Latex\n",
        "from PIL import Image\n",
        "import glob\n",
        "import matplotlib.pyplot as plt\n",
        "import time\n",
        "from sklearn.metrics import ConfusionMatrixDisplay\n",
        "from zipfile import ZipFile"
      ]
    },
    {
      "cell_type": "markdown",
      "metadata": {
        "id": "FhlZ3pR2kFg2"
      },
      "source": [
        "_The following code imports the dataset held in satelliteImages.zip, and stores the data into 4 lists corresponding to the 4 classes, which are cloudy, desert, green area, and water. No further processing of the data is done at this time, as preprocessing is performed later._"
      ]
    },
    {
      "cell_type": "code",
      "execution_count": null,
      "metadata": {
        "id": "uDQnsTFYQFG6"
      },
      "outputs": [],
      "source": [
        "file_name = 'satelliteImages.zip'\n",
        "\n",
        "# Import data from zip file\n",
        "with ZipFile(file_name, 'r') as zip1:\n",
        "  zip1.extractall()\n",
        "\n",
        "# Populate cloudy sample and image vectors with data from cloudy folder, which contains images corresponding to cloudy class\n",
        "cloudySamples = []\n",
        "cloudyImages = []\n",
        "for filename in glob.glob('data/cloudy/*.jpg'):\n",
        "    im=Image.open(filename)\n",
        "    cloudySamples.append(np.array(im.getdata()))\n",
        "    cloudyImages.append(im)\n",
        "\n",
        "# Populate desert sample and image vectors with data from desert folder, which contains images corresponding to desert class\n",
        "desertSamples = []\n",
        "desertImages = []\n",
        "for filename in glob.glob('data/desert/*.jpg'):\n",
        "    im=Image.open(filename)\n",
        "    desertSamples.append(np.array(im.getdata()))\n",
        "    desertImages.append(im)\n",
        "\n",
        "# Populate green area sample and image vectors with data from green area folder, which contains images corresponding to green area class\n",
        "green_areaSamples = []\n",
        "green_areaImages = []\n",
        "for filename in glob.glob('data/green_area/*.jpg'):\n",
        "    im=Image.open(filename)\n",
        "    green_areaSamples.append(np.array(im.getdata()))\n",
        "    green_areaImages.append(im)\n",
        "\n",
        "# Populate water sample and image vectors with data from water folder, which contains images corresponding to water class\n",
        "waterSamples = []\n",
        "waterImages = []\n",
        "for filename in glob.glob('data/water/*.jpg'):\n",
        "    im=Image.open(filename)\n",
        "    waterSamples.append(np.array(im.getdata()))\n",
        "    waterImages.append(im)"
      ]
    },
    {
      "cell_type": "markdown",
      "source": [
        "### _2.1 (a)_"
      ],
      "metadata": {
        "id": "w94tyjQzUsDh"
      }
    },
    {
      "cell_type": "markdown",
      "source": [
        "_In the following code block, we perform basic exploration of the dataset. In doing so, we find that there are a total of 5631 samples in the dataset, with 262144 raw features per sample, as the raw images are of dimensionality 65536 by 4. Moreover, there are 1500 samples belonging to the cloudy class, 1131 samples belonging to the desert class, 1500 samples belonging to the green area class, and 1500 samples belonging to the water class. Finally, we confirm that there are no NaN values in the input dataset and no categorical variables in the input dataset, although the labels that will be generated in the upcoming preprocessing phase will be categorical and one-hot encoded._"
      ],
      "metadata": {
        "id": "kgMC7M4rCYiX"
      }
    },
    {
      "cell_type": "code",
      "execution_count": null,
      "metadata": {
        "id": "V0Ch32DilSTO",
        "colab": {
          "base_uri": "https://localhost:8080/"
        },
        "outputId": "58ffaae1-22b6-48e0-e901-ccfaf2aece2e"
      },
      "outputs": [
        {
          "output_type": "stream",
          "name": "stdout",
          "text": [
            "There are 5631 samples in the input dataset\n",
            "There are 262144 raw features per sample in the input dataset, as the raw images are of dimensionality 65536 by 4\n",
            "1500 samples belong to the cloudy class\n",
            "1131 samples belong to the desert class\n",
            "1500 samples belong to the green area class\n",
            "1500 samples belong to the water class\n",
            "There are 0 NaN values in the input dataset\n",
            "There are 0 categorical variables in the input dataset\n"
          ]
        }
      ],
      "source": [
        "## Basic dataset exploration\n",
        "\n",
        "# Compute total number of samples as the sum of the lengths of the vectors of imported data\n",
        "total_samples = len(cloudySamples) + len(desertSamples) + len(green_areaSamples) + len(waterSamples)\n",
        "\n",
        "# Compute the number of raw features as the product of the length and width of individual images\n",
        "raw_features = len(cloudySamples[0]) * len(cloudySamples[0][0])\n",
        "\n",
        "print(\"There are \" + str(total_samples) + \" samples in the input dataset\")\n",
        "\n",
        "print(\"There are \" + str(raw_features) + \" raw features per sample in the input dataset, as the raw images are of dimensionality \" + str(len(cloudySamples[0])) + \" by \" + str(len(cloudySamples[0][0])))\n",
        "\n",
        "print(str(len(cloudySamples)) + \" samples belong to the cloudy class\")\n",
        "\n",
        "print(str(len(desertSamples)) + \" samples belong to the desert class\")\n",
        "\n",
        "print(str(len(green_areaSamples)) + \" samples belong to the green area class\")\n",
        "\n",
        "print(str(len(waterSamples)) + \" samples belong to the water class\")\n",
        "\n",
        "# Compute total number of NaN values as the sum of the NaN values per vector\n",
        "num_NaNs = np.count_nonzero(np.isnan(cloudySamples)) + np.count_nonzero(np.isnan(desertSamples)) + np.count_nonzero(np.isnan(green_areaSamples)) + np.count_nonzero(np.isnan(waterSamples))\n",
        "\n",
        "print(\"There are \" + str(num_NaNs) + \" NaN values in the input dataset\")\n",
        "\n",
        "# Iterate through all data and record number of categorical variables\n",
        "num_categorical = 0\n",
        "\n",
        "for i in range(len(cloudySamples)):\n",
        "  for j in range(len(cloudySamples[0])):\n",
        "    for k in range(len(cloudySamples[0][0])):\n",
        "      if isinstance(cloudySamples[i][j][k], str):\n",
        "        num_categorical += 1\n",
        "\n",
        "for i in range(len(desertSamples)):\n",
        "  for j in range(len(desertSamples[0])):\n",
        "    for k in range(len(desertSamples[0][0])):\n",
        "      if isinstance(desertSamples[i][j][k], str):\n",
        "        num_categorical += 1\n",
        "\n",
        "for i in range(len(green_areaSamples)):\n",
        "  for j in range(len(green_areaSamples[0])):\n",
        "    for k in range(len(green_areaSamples[0][0])):\n",
        "      if isinstance(green_areaSamples[i][j][k], str):\n",
        "        num_categorical += 1\n",
        "\n",
        "for i in range(len(waterSamples)):\n",
        "  for j in range(len(waterSamples[0])):\n",
        "    for k in range(len(waterSamples[0][0])):\n",
        "      if isinstance(waterSamples[i][j][k], str):\n",
        "        num_categorical += 1\n",
        "\n",
        "num_categorical = num_categorical / total_samples\n",
        "\n",
        "print(\"There are \" + str(int(num_categorical)) + \" categorical variables in the input dataset\")"
      ]
    },
    {
      "cell_type": "markdown",
      "source": [
        "### _2.1 (b)_"
      ],
      "metadata": {
        "id": "iT3MbmR8U2k7"
      }
    },
    {
      "cell_type": "markdown",
      "source": [
        "_The following code preprocesses the input dataset and stores it into the data matrix $\\mathbf{X}$ and label matrix $\\mathbf{Y}$, which contain all data prior to the train-test split. We perform the train-test split of the data in $\\mathbf{X}$ and $\\mathbf{Y}$ in a later code block. Note that the input dataset consists of images, which are very high dimensional, so dimensionality reduction must be performed. Using principal component analysis (PCA) is a valuable tool for doing this, but performing PCA on data as high-dimensional as an image would result in very long runtime due to the computational complexity of doing so. Therefore, we need to preprocess the images by doing some basic resizing even before conducting PCA. We resize the images to $20 \\times 20$, and then flatten this data out into a $1200$-element vector such that each sample is now represented by a vector, rather than a matrix. The vector has $1200$ elements since the images are RGB images, and thus have $3$ channels, and $20*20*3=1200$. We use one-hot encoding for the labels held in the label matrix $\\mathbf{Y}$, as \"cloudy\" is represented by [1,0,0,0], \"desert\" is represented by [0,1,0,0], \"green area\" is represented by [0,0,1,0], and \"water\" is represented by [0,0,0,1]._"
      ],
      "metadata": {
        "id": "2TSEQKLNSeLL"
      }
    },
    {
      "cell_type": "code",
      "source": [
        "i = 0\n",
        "X = np.zeros((5631,1200))\n",
        "Y = np.zeros((5631,4))\n",
        "\n",
        "# Resize and flatten cloudy images, then add them to data matrix X and add one-hot encoded label [1,0,0,0] to label matrix Y\n",
        "for j in range(len(cloudyImages)):\n",
        "    resizedImage = cloudyImages[j].resize((20, 20))\n",
        "    data = np.array(resizedImage.getdata())\n",
        "    X[i] = data.flatten()[0:1200]\n",
        "    Y[i] = np.array([1,0,0,0])\n",
        "    i = i + 1\n",
        "\n",
        "# Resize and flatten desert images, then add them to data matrix X and add one-hot encoded label [0,1,0,0] to label matrix Y\n",
        "for j in range(len(desertImages)):\n",
        "    resizedImage = desertImages[j].resize((20, 20))\n",
        "    data = np.array(resizedImage.getdata())\n",
        "    X[i] = data.flatten()[0:1200]\n",
        "    Y[i] = np.array([0,1,0,0])\n",
        "    i = i + 1\n",
        "\n",
        "# Resize and flatten green area images, then add them to data matrix X and add one-hot encoded label [0,0,1,0] to label matrix Y\n",
        "for j in range(len(green_areaImages)):\n",
        "    resizedImage = green_areaImages[j].resize((20, 20))\n",
        "    data = np.array(resizedImage.getdata())\n",
        "    X[i] = data.flatten()[0:1200]\n",
        "    Y[i] = np.array([0,0,1,0])\n",
        "    i = i + 1\n",
        "\n",
        "# Resize and flatten water images, then add them to data matrix X and add one-hot encoded label [0,0,0,1] to label matrix Y\n",
        "for j in range(len(waterImages)):\n",
        "    resizedImage = waterImages[j].resize((20, 20))\n",
        "    data = np.array(resizedImage.getdata())\n",
        "    X[i] = data.flatten()[0:1200]\n",
        "    Y[i] = np.array([0,0,0,1])\n",
        "    i = i + 1"
      ],
      "metadata": {
        "id": "sa4F2PgCRw7P"
      },
      "execution_count": null,
      "outputs": []
    },
    {
      "cell_type": "markdown",
      "metadata": {
        "id": "Qjm-CIx0oX9V"
      },
      "source": [
        "_The following code executes the train-test split of the data. Following the discussion in class that about 80-90% of the dataset should be used as training data and the remaining 10-20% should be used as test data, 631 (11.2%) of the 5631 data samples are selected at random and allocated to the test dataset, and the remaining 5000 (88.8%) of the 5631 data samples are allocated to the dataset on which we perform 10-fold cross validation on folds of 500 data samples each._"
      ]
    },
    {
      "cell_type": "code",
      "execution_count": null,
      "metadata": {
        "id": "EQ27hVrLhKGY"
      },
      "outputs": [],
      "source": [
        "X_cross_validation = np.zeros((5000,1200))\n",
        "Y_cross_validation = np.zeros((5000,4))\n",
        "\n",
        "X_test = np.zeros((631,1200))\n",
        "Y_test = np.zeros((631,4))\n",
        "\n",
        "X_train_test_split = X\n",
        "Y_train_test_split = Y\n",
        "\n",
        "# Randomly sample 631 data samples from data matrix X and assign them to the test dataset\n",
        "count = 0\n",
        "while len(X_train_test_split) > 5000:\n",
        "  n = np.random.randint(len(X_train_test_split))\n",
        "  X_test[count] = X_train_test_split[n]\n",
        "  Y_test[count] = Y_train_test_split[n]\n",
        "  X_train_test_split = np.vstack((X_train_test_split[0:n], X_train_test_split[n+1:len(X_train_test_split)]))\n",
        "  Y_train_test_split = np.vstack((Y_train_test_split[0:n], Y_train_test_split[n+1:len(Y_train_test_split)]))\n",
        "  count += 1\n",
        "\n",
        "# Assign the remaining 5000 data samples to the cross-validation dataset\n",
        "count = 0\n",
        "while len(X_train_test_split) > 0:\n",
        "  n = np.random.randint(len(X_train_test_split))\n",
        "  X_cross_validation[count] = X_train_test_split[n]\n",
        "  Y_cross_validation[count] = Y_train_test_split[n]\n",
        "  X_train_test_split = np.vstack((X_train_test_split[0:n], X_train_test_split[n+1:len(X_train_test_split)]))\n",
        "  Y_train_test_split = np.vstack((Y_train_test_split[0:n], Y_train_test_split[n+1:len(Y_train_test_split)]))\n",
        "  count += 1"
      ]
    },
    {
      "cell_type": "markdown",
      "source": [
        "### _2.1 (c)_"
      ],
      "metadata": {
        "id": "g0BOA7c0VKLM"
      }
    },
    {
      "cell_type": "markdown",
      "metadata": {
        "id": "0_tc3zH8qp8m"
      },
      "source": [
        "_In order to make the training and testing of our machine learning system have reasonable runtime, we perform feature learning using PCA. Using PCA with a train-test split comes with some non-trivial challenges. When we train our model using 10-fold cross validation, we should be performing PCA on the training data for each of the 10 iterations separately. Notably, when we perform dimensionality reduction via PCA on training data, we must also do so for validation and test data, because we are training our models on data with reduced dimensionality, and therefore our models only work on data with this reduced dimensionality. This brings up several concerns regarding how dimensionality reduction should be performed for validation and test data. We should not be performing feature learning on validation and test data before testing our models on this data, as doing so can be considered cheating. Instead, what we must do for the validation dataset for each iteration of 10-fold cross validation is to compute the mean vector for the training dataset for that iteration, and then perform PCA on the centered training data to learn the PCA subspace. Then, we must use the mean vector learned for the training data to \"center\" the validation data and then perform dimensionality reduction on the valdiation data using the PCA subspace learned for the training data. Similarly, for test data, we compute the mean vector for the entire cross-validation dataset and perform PCA on the centered cross-valdiation data to learn the corresponding PCA subspace. Likewise, we use the mean vector learned for the cross-validation data to \"center\" the test data and then perform dimensionality reduction on the test data using the PCA subspace learned for the cross-valdiation data. In this way, we perform dimensionality reduction using PCA without ever performing feature learning on test data or on validation data for any of the iterations of 10-fold cross validation. Rather, we learn the PCA subspaces on training and cross-validation data, and then simply apply these subspaces to the validation and test data, respectively._\n",
        "\n",
        "_We also have to address the concern that the number of principal components used for each PCA subspace, across each iteration of 10-fold cross validation and for test data, must be the same. Otherwise, the models would be trained and tested on learned features of varying dimensionality, which would lead to errors. To address this, we first perform the data centering and PCA on the entire cross-validation dataset, and find the number of principal components $k$ required to capture 99% of the energy in the cross-validation dataset, and then consistently apply this same value of $k$ to PCA on training data at each iteration of 10-fold cross-validation. In the following code, we compute the mean vector and PCA subspace for the cross-validation dataset, and confirm that $k=3$ principal components are required to capture 99% of the energy in the dataset. We will use this value of $k=3$ when performing PCA on all training datasets in 10-fold cross validation, and will use the mean vector and PCA subspace computed here to center and reduce the dimensionality of the test dataset when testing our trained models._"
      ]
    },
    {
      "cell_type": "code",
      "execution_count": null,
      "metadata": {
        "id": "cb0tnM15hBDY",
        "colab": {
          "base_uri": "https://localhost:8080/",
          "height": 594
        },
        "outputId": "2ce221c3-f695-464e-b771-b43dca17e056"
      },
      "outputs": [
        {
          "output_type": "stream",
          "name": "stdout",
          "text": [
            "3 Principal Components are Needed to Capture at least 99% of the Total Energy\n"
          ]
        },
        {
          "output_type": "display_data",
          "data": {
            "text/plain": [
              "<Figure size 432x288 with 1 Axes>"
            ],
            "image/png": "[encoded data removed]"
          },
          "metadata": {
            "needs_background": "light"
          }
        },
        {
          "output_type": "display_data",
          "data": {
            "text/plain": [
              "<Figure size 432x288 with 1 Axes>"
            ],
            "image/png": "[encoded data removed]"
          },
          "metadata": {
            "needs_background": "light"
          }
        }
      ],
      "source": [
        "### The following code computes the mean value for each variable, then subtracts it from each sample for that variable\n",
        "\n",
        "# Set up the total value and mean vectors, and the centered data matrix\n",
        "total_cross_validation = np.zeros(len(X_cross_validation[0]))\n",
        "mean_cross_validation = np.zeros(len(X_cross_validation[0]))\n",
        "X_cross_validation_centered = np.zeros((len(X_cross_validation), len(X_cross_validation[0])))\n",
        "\n",
        "# Iterate through each of the values in each of the columns and sum their values to compute the total sum for each column,\n",
        "for i in range(len(X_cross_validation)):\n",
        "  for j in range(len(X_cross_validation[i])):\n",
        "    total_cross_validation[j] = total_cross_validation[j] + X_cross_validation[i][j]\n",
        "\n",
        "# Iterate through each of the columns, computing the mean by dividing the total for that column by the number of values\n",
        "# Then subtract the mean from each value in that column\n",
        "for m in range(len(X_cross_validation[0])):\n",
        "  mean_cross_validation[m] = total_cross_validation[m] / (len(X_cross_validation) * len(X_cross_validation[0]))\n",
        "  for n in range(len(X_cross_validation)):\n",
        "    X_cross_validation_centered[n][m] = X_cross_validation[n][m] - mean_cross_validation[m]\n",
        "\n",
        "# Compute the singular value decomposition of the centered data matrix\n",
        "svd_X_cross_validation_centered = np.linalg.svd(X_cross_validation_centered)\n",
        "\n",
        "x = []\n",
        "num_singular_values = []\n",
        "\n",
        "# compute the total energy in the dataset\n",
        "total = 0\n",
        "for i in range(len(svd_X_cross_validation_centered[1])):\n",
        "  total += svd_X_cross_validation_centered[1][i] ** 2\n",
        "  x.append(svd_X_cross_validation_centered[1][i])\n",
        "  num_singular_values.append(i+1)\n",
        "\n",
        "# Plot scree plot with absolute scale\n",
        "plt.title('Scree Plot for the Dataset with Absolute Scale')\n",
        "plt.xlabel('$i$')\n",
        "plt.ylabel('Value of the $i$th singular value, $\\sigma_i$')\n",
        "plt.bar(num_singular_values[0:10], x[0:10])\n",
        "\n",
        "# Plot scree plot with logarithmic scale\n",
        "fig, ax = plt.subplots()\n",
        "ax.set_yscale('log')\n",
        "plt.title('Scree Plot for the Dataset with Logarithmic Scale')\n",
        "plt.xlabel('$i$')\n",
        "plt.ylabel('Value of the $i$th singular value, $\\sigma_i$')\n",
        "plt.bar(num_singular_values[0:10], x[0:10])\n",
        "\n",
        "# compute k such that the top-k principal components of the dataset capture at least 99% of the total energy\n",
        "sum = 0\n",
        "k = 0\n",
        "while sum < 0.99 * total:\n",
        "  sum += svd_X_cross_validation_centered[1][k] ** 2\n",
        "  k = k + 1\n",
        "\n",
        "print(str(k) + \" Principal Components are Needed to Capture at least 99% of the Total Energy\")\n",
        "\n",
        "# Generate the PCA subspace using the singular value decomposition computed earlier\n",
        "U_cross_validation = np.zeros((len(svd_X_cross_validation_centered[2]), k))\n",
        "\n",
        "for i in range(len(svd_X_cross_validation_centered[2])):\n",
        "  for j in range(k):\n",
        "    U_cross_validation[i][j] = svd_X_cross_validation_centered[0][i][j]"
      ]
    },
    {
      "cell_type": "markdown",
      "source": [
        "### _2.1 (d)_"
      ],
      "metadata": {
        "id": "QjFNQFFfVQje"
      }
    },
    {
      "cell_type": "markdown",
      "metadata": {
        "id": "PCPslQt43bHb"
      },
      "source": [
        "_The following code conducts 10-fold cross validation for our selected machine learning methods of LDA and k-nearest-neighbor. A total of 10 iterations are conducted, as we have set up our dataset for 10-fold cross validation. At each iteration, 1 of the 10 folds of the cross validation dataset is selected as the validation dataset for that iteration, while the other 9 folds become the training dataset._\n",
        "\n",
        "_In each iteration, we first compute the mean vector for the training data and perform PCA on the centered training data. We then use the mean vector and PCA subspace computed for the training data to \"center\" the validation data and reduce its dimensionality. This gives us extracted features for both training and validation data._\n",
        "\n",
        "_We then train the LDA model using the extracted features for the training data, and then test the LDA model on both training and validation data, determining the training and validation error of the LDA model for each iteration. Since we are running 10 iterations of cross-validation, we have 10 values each for training and validation error, so we report our performance as the average training error and average validation error across these 10 iterations. Since LDA does not involve any tuning parameters, we do not need to run multiple iterations of LDA for varying parameters at each iteration of 10-fold cross validation, and we simply report our average training error and average validation error as single scalars, rather than vectors in which each entry corresponds to the error at a different value of a tuning parameter. The fact that the average training error and average validation error are just scalars and that there are no parameters to be tuned also means that we don't need to graph the training and validation error; rather, we can just report their scalar values._\n",
        "\n",
        "_Next, we test the k-nearest-neighbor model (k-nearest-neighbor does not involve any training). Notably, k-nearest-neighbor does use the tuning parameter $k$, so at each iteration, we must test the the k-nearest-neighbor model at varying values of $k$. Specifically, we select the values $k=1,...,10$ and test the the k-nearest-neighbor model for these values of $k$ on both training and validation data at each iteration. For both training data and validation data, we average the error across all iterations for each value of $k$, to give the average training error and average validation error at each value of $k$. We select the value of $k$ which minimizes the validation error for the machine learning system that goes into production, with some preference with lower values of $k$, as Occam's razor dictates that simpler solutions (corresponding to lower $k$ for k-nearest-neighbors) tend to be more effective._\n",
        "\n",
        "_Notably, we found that the runtime of testing the k-nearest-neighbor model was unmanageably long, as for a single value of k, testing the model on training data required computing the distance between all possible combinations of the 4500 training data samples, for a total of $4500*4500=20250000$ comparisons, while testing the model on validation data required computing the distance between all possible combinations of the 500 validation data samples with the 4500 training data samples, for an additional $500*4500=2250000$ comparisons. This is further compounded by the fact that the k-nearest-neighbor model needs to be tested for 10 different values of $k$, for 10 iterations of 10-fold cross validation, so a total of $(20250000+2250000)*10*10 = 2250000000$ comparisons need to be made. To make the runtime of the k-nearest-neighbor model more manageable, we only compare each training and validation data sample to $\\frac{1}{50}$ of the training data samples, selected at random. Thus, this isn't a true implementation of k-nearest-neighbors, and likely will achieve slightly worse performance than true k-nearest-neighbors, since it is assigning each sample to the label that is most common among the $k$ closest samples out of this sparse sampling of the dataset, rather than the label that is most common among the $k$ closest samples out of the entire dataset. However, this is an acceptable and common way of reducing the runtime of k-nearest-neighbor models. Source [1] of the bibliography informed us of the method and explains its details._\n",
        "\n",
        "_We plot the average training error and average validation error for each $k$ to help visualize the data, assisting in making the decision of which value of $k$ to select. However, all plotting, analysis, and reporting of error is done in the next code block after this one, as this code block is simply concerned with performing 10-fold cross validation and collecting, but not visualizing, analyzing, or reporting the relevant data._\n",
        "\n",
        "_During the process of training and testing the LDA model and testing the k-nearest-neighbor model, the time required for training and testing LDA was recorded for each iteration and the time required for testing k-nearest-neighbor was recorded for each iteration for each value of $k$. This data will allow us to compare the speed performance of LDA and k-nearest-neighbor in the next code block._"
      ]
    },
    {
      "cell_type": "code",
      "execution_count": null,
      "metadata": {
        "id": "ghK7vwUcs0uK"
      },
      "outputs": [],
      "source": [
        "# Set up scalars and matrices to hold error, execution time, and confusion matrix data\n",
        "LDA_error_train = 0\n",
        "LDA_error_validation = 0\n",
        "K_NN_error_train = [[], [], [], [], [], [], [], [], [], []]\n",
        "K_NN_error_validation = [[], [], [], [], [], [], [], [], [], []]\n",
        "\n",
        "LDA_execution_time = 0\n",
        "K_NN_execution_time = 0\n",
        "\n",
        "LDA_confusion_matrix = np.zeros((10,4,4))\n",
        "K_NN_confusion_matrix = np.zeros((10,10,4,4))\n",
        "\n",
        "# Iterate through all 10 iterations of 10-fold cross validation\n",
        "for a in range(10):\n",
        "  # Set up validation and training datasets for the current iteration of 10-fold cross validation\n",
        "  validation_index = 9-a\n",
        "  X_validation = X_cross_validation[500*validation_index:500*(validation_index+1)]\n",
        "  Y_validation = Y_cross_validation[500*validation_index:500*(validation_index+1)]\n",
        "  X_train = np.vstack((X_cross_validation[0:500*validation_index], X_cross_validation[500*(validation_index+1):len(X_cross_validation)]))\n",
        "  Y_train = np.vstack((Y_cross_validation[0:500*validation_index], Y_cross_validation[500*(validation_index+1):len(Y_cross_validation)]))\n",
        "\n",
        "  ### The following code computes the mean value for each variable, then subtracts it from each sample for that variable\n",
        "\n",
        "  LDA_start_time = time.time()\n",
        "\n",
        "  # Set up the total value and mean vectors, and the centered data matrix\n",
        "  total = np.zeros(len(X_train[0]))\n",
        "  mean = np.zeros(len(X_train[0]))\n",
        "  X_train_centered = np.zeros((len(X_train), len(X_train[0])))\n",
        "\n",
        "  # Iterate through each of the values in each of the columns and sum their values to compute the total sum for each column\n",
        "  for i in range(len(X_train)):\n",
        "    for j in range(len(X_train[i])):\n",
        "      total[j] = total[j] + X_train[i][j]\n",
        "\n",
        "  # Iterate through each of the columns, computing the mean by dividing the total for that column by the number of values\n",
        "  # Then subtract the mean from each value in that column\n",
        "  for m in range(len(X_train[0])):\n",
        "    mean[m] = total[m] / len(X_train)\n",
        "    for n in range(len(X_train)):\n",
        "      X_train_centered[n][m] = X_train[n][m] - mean[m]\n",
        "\n",
        "  # Compute the singular value decomposition of the centered data matrix\n",
        "  svd_X_train_centered = np.linalg.svd(X_train_centered)\n",
        "\n",
        "  x = []\n",
        "\n",
        "  # Generate the PCA subspace using the singular value decomposition\n",
        "  U = np.zeros((len(X_train_centered[0]), k))\n",
        "\n",
        "  for i in range(len(X_train_centered[0])):\n",
        "    for j in range(k):\n",
        "      U[i][j] = svd_X_train_centered[2][i][j]\n",
        "\n",
        "  # Generate extracted features for training dataset\n",
        "  X_f_train = np.zeros((np.shape(X_train)[0], k))\n",
        "\n",
        "  for i in range(np.shape(X_train)[0]):\n",
        "    X_f_train[i] = np.matmul(U.T,X_train[i])\n",
        "\n",
        "  # Generate extracted features for validation dataset\n",
        "  X_f_validation = np.zeros((np.shape(X_validation)[0], k))\n",
        "\n",
        "  for i in range(np.shape(X_validation)[0]):\n",
        "    X_f_validation[i] = np.matmul(U.T,X_validation[i])\n",
        "\n",
        "\n",
        "  ### The following code trains the LDA classifier by computing the mean vectors, covariance matrix, and logs of prior probabilities\n",
        "\n",
        "  # Set up arrays to hold the sums of data and means\n",
        "  sum_cloudy_LDA = np.zeros(len(X_f_train[0]))\n",
        "  sum_desert_LDA = np.zeros(len(X_f_train[0]))\n",
        "  sum_green_area_LDA = np.zeros(len(X_f_train[0]))\n",
        "  sum_water_LDA = np.zeros(len(X_f_train[0]))\n",
        "  mu_cloudy_LDA = np.zeros(len(X_f_train[0]))\n",
        "  mu_desert_LDA = np.zeros(len(X_f_train[0]))\n",
        "  mu_green_area_LDA = np.zeros(len(X_f_train[0]))\n",
        "  mu_water_LDA = np.zeros(len(X_f_train[0]))\n",
        "\n",
        "  num_cloudy = 0\n",
        "  num_desert = 0\n",
        "  num_green_area = 0\n",
        "  num_water = 0\n",
        "\n",
        "  # Iterate through each sample in the training dataset, and for each sample, add each of its entries to the corresponding entry in the sum vectors\n",
        "  for i in range(len(X_f_train)):\n",
        "    for j in range(len(X_f_train[i])):\n",
        "      if Y_train[i][0] == 1:\n",
        "        sum_cloudy_LDA[j] += X_f_train[i][j]\n",
        "        if j == 0:\n",
        "          num_cloudy += 1\n",
        "      elif Y_train[i][1] == 1:\n",
        "        sum_desert_LDA[j] += X_f_train[i][j]\n",
        "        if j == 0:\n",
        "          num_desert += 1\n",
        "      elif Y_train[i][2] == 1:\n",
        "        sum_green_area_LDA[j] += X_f_train[i][j]\n",
        "        if j == 0:\n",
        "          num_green_area += 1\n",
        "      else:\n",
        "        sum_water_LDA[j] += X_f_train[i][j]\n",
        "        if j == 0:\n",
        "          num_water += 1\n",
        "\n",
        "  # Divide each entry of the sum vectors by the number of samples to obtain the mean vectors for each class\n",
        "  for j in range(len(X_f_train[0])):\n",
        "    mu_cloudy_LDA[j] = sum_cloudy_LDA[j] / num_cloudy\n",
        "    mu_desert_LDA[j] = sum_desert_LDA[j] / num_desert\n",
        "    mu_green_area_LDA[j] = sum_green_area_LDA[j] / num_green_area\n",
        "    mu_water_LDA[j] = sum_water_LDA[j] / num_water\n",
        "\n",
        "  # Set up matrices for the covariance matrix\n",
        "  sigma_LDA = np.zeros((len(X_f_train[0]),len(X_f_train[0])))\n",
        "  sum_sigma_LDA = np.zeros((len(X_f_train[0]),len(X_f_train[0])))\n",
        "\n",
        "  # Iterate through each sample in the training dataset, and for each sample, compute its addition to each entry of the sum covariance matrix\n",
        "  for i in range(len(X_f_train)):\n",
        "    for j in range(len(X_f_train[i])):\n",
        "      for m in range(len(X_f_train[i])):\n",
        "        if Y_train[i][0] == 1:\n",
        "          sum_sigma_LDA[j][m] += (X_f_train[i][j] - mu_cloudy_LDA[j]) * (X_f_train[i][m] - mu_cloudy_LDA[m])\n",
        "        elif Y_train[i][1] == 1:\n",
        "          sum_sigma_LDA[j][m] += (X_f_train[i][j] - mu_desert_LDA[j]) * (X_f_train[i][m] - mu_desert_LDA[m])\n",
        "        elif Y_train[i][2] == 1:\n",
        "          sum_sigma_LDA[j][m] += (X_f_train[i][j] - mu_green_area_LDA[j]) * (X_f_train[i][m] - mu_green_area_LDA[m])\n",
        "        else:\n",
        "          sum_sigma_LDA[j][m] += (X_f_train[i][j] - mu_water_LDA[j]) * (X_f_train[i][m] - mu_cloudy_LDA[m])\n",
        "\n",
        "  # Divide each entry of the sum covariance matrix by the number of samples to obtain the covariance matrix\n",
        "  for j in range(len(X_f_train[0])):\n",
        "    for m in range(len(X_f_train[0])):\n",
        "      sigma_LDA[j][m] = sum_sigma_LDA[j][m] / len(X_f_train)\n",
        "\n",
        "  # Compute the priors by taking the log of the fraction of samples belonging to each class\n",
        "  prior_cloudy_LDA = np.log(num_cloudy / len(X_f_train))\n",
        "  prior_desert_LDA = np.log(num_desert / len(X_f_train))\n",
        "  prior_green_area_LDA = np.log(num_green_area / len(X_f_train))\n",
        "  prior_water_LDA = np.log(num_water / len(X_f_train))\n",
        "\n",
        "\n",
        "  # Compute LDA Results on Training and Validation Data\n",
        "\n",
        "  # Initialize the Error Count to 0\n",
        "  error_count_train_LDA = 0\n",
        "  error_count_validation_LDA = 0\n",
        "\n",
        "  # Set up the predicted label matrix for both training and validation data\n",
        "  Y_train_hat_LDA = np.zeros((len(X_f_train),4))\n",
        "  Y_validation_hat_LDA = np.zeros((len(X_f_validation),4))\n",
        "\n",
        "  # For each test sample in the dataset, compute the label that the classifier assigns to it, and if it is incorrect, add 1 to the error count\n",
        "  for i in range(len(X_f_train)):\n",
        "    # Compute the value of the delta function for each class for each sample\n",
        "    delta_cloudy_train_LDA = np.matmul(np.matmul(X_f_train[i].T,np.linalg.inv(sigma_LDA)),mu_cloudy_LDA) - 0.5 * np.matmul(np.matmul(mu_cloudy_LDA.T,np.linalg.inv(sigma_LDA)),mu_cloudy_LDA) + prior_cloudy_LDA\n",
        "    delta_desert_train_LDA = np.matmul(np.matmul(X_f_train[i].T,np.linalg.inv(sigma_LDA)),mu_desert_LDA) - 0.5 * np.matmul(np.matmul(mu_desert_LDA.T,np.linalg.inv(sigma_LDA)),mu_desert_LDA) + prior_desert_LDA\n",
        "    delta_green_area_train_LDA = np.matmul(np.matmul(X_f_train[i].T,np.linalg.inv(sigma_LDA)),mu_green_area_LDA) - 0.5 * np.matmul(np.matmul(mu_green_area_LDA.T,np.linalg.inv(sigma_LDA)),mu_green_area_LDA) + prior_green_area_LDA\n",
        "    delta_water_train_LDA = np.matmul(np.matmul(X_f_train[i].T,np.linalg.inv(sigma_LDA)),mu_water_LDA) - 0.5 * np.matmul(np.matmul(mu_water_LDA.T,np.linalg.inv(sigma_LDA)),mu_water_LDA) + prior_water_LDA\n",
        "\n",
        "    # Determine the predicted label based on the value of the delta functions \n",
        "    if(delta_cloudy_train_LDA > delta_desert_train_LDA and delta_cloudy_train_LDA > delta_green_area_train_LDA and delta_cloudy_train_LDA > delta_water_train_LDA):\n",
        "      Y_train_hat_LDA[i][0] = 1\n",
        "    elif(delta_desert_train_LDA > delta_cloudy_train_LDA and delta_desert_train_LDA > delta_green_area_train_LDA and delta_desert_train_LDA > delta_water_train_LDA):\n",
        "      Y_train_hat_LDA[i][1] = 1\n",
        "    elif(delta_green_area_train_LDA > delta_cloudy_train_LDA and delta_green_area_train_LDA > delta_desert_train_LDA and delta_green_area_train_LDA > delta_water_train_LDA):\n",
        "      Y_train_hat_LDA[i][2] = 1\n",
        "    else:\n",
        "      Y_train_hat_LDA[i][3] = 1\n",
        "    \n",
        "    # Determine if there is an error - an error occurs when the predicted label does not exactly match the true label\n",
        "    error_detected = False\n",
        "    for j in range(4):\n",
        "      if Y_train_hat_LDA[i][j] != Y_train[i][j]:\n",
        "        error_detected = True\n",
        "    \n",
        "    # If an error is detected, increment the number of errors by 1\n",
        "    if error_detected:\n",
        "      error_count_train_LDA += 1\n",
        "\n",
        "  # For each test sample in the dataset, compute the label that the classifier assigns to it, and if it is incorrect, add 1 to the error count\n",
        "  for i in range(len(X_f_validation)):\n",
        "    # Compute the value of the delta function for each class for each sample\n",
        "    delta_cloudy_validation_LDA = np.matmul(np.matmul(X_f_validation[i].T,np.linalg.inv(sigma_LDA)),mu_cloudy_LDA) - 0.5 * np.matmul(np.matmul(mu_cloudy_LDA.T,np.linalg.inv(sigma_LDA)),mu_cloudy_LDA) + prior_cloudy_LDA\n",
        "    delta_desert_validation_LDA = np.matmul(np.matmul(X_f_validation[i].T,np.linalg.inv(sigma_LDA)),mu_desert_LDA) - 0.5 * np.matmul(np.matmul(mu_desert_LDA.T,np.linalg.inv(sigma_LDA)),mu_desert_LDA) + prior_desert_LDA\n",
        "    delta_green_area_validation_LDA = np.matmul(np.matmul(X_f_validation[i].T,np.linalg.inv(sigma_LDA)),mu_green_area_LDA) - 0.5 * np.matmul(np.matmul(mu_green_area_LDA.T,np.linalg.inv(sigma_LDA)),mu_green_area_LDA) + prior_green_area_LDA\n",
        "    delta_water_validation_LDA = np.matmul(np.matmul(X_f_validation[i].T,np.linalg.inv(sigma_LDA)),mu_water_LDA) - 0.5 * np.matmul(np.matmul(mu_water_LDA.T,np.linalg.inv(sigma_LDA)),mu_water_LDA) + prior_water_LDA\n",
        "\n",
        "    # Determine the predicted label based on the value of the delta functions\n",
        "    if(delta_cloudy_validation_LDA > delta_desert_validation_LDA and delta_cloudy_validation_LDA > delta_green_area_validation_LDA and delta_cloudy_validation_LDA > delta_water_validation_LDA):\n",
        "      Y_validation_hat_LDA[i][0] = 1\n",
        "    elif(delta_desert_validation_LDA > delta_cloudy_validation_LDA and delta_desert_validation_LDA > delta_green_area_validation_LDA and delta_desert_validation_LDA > delta_water_validation_LDA):\n",
        "      Y_validation_hat_LDA[i][1] = 1\n",
        "    elif(delta_green_area_validation_LDA > delta_cloudy_validation_LDA and delta_green_area_validation_LDA > delta_desert_validation_LDA and delta_green_area_validation_LDA > delta_water_validation_LDA):\n",
        "      Y_validation_hat_LDA[i][2] = 1\n",
        "    else:\n",
        "      Y_validation_hat_LDA[i][3] = 1\n",
        "    \n",
        "    # Determine if there is an error - an error occurs when the predicted label does not exactly match the true label\n",
        "    error_detected = False\n",
        "    for j in range(4):\n",
        "      if Y_validation_hat_LDA[i][j] != Y_validation[i][j]:\n",
        "        error_detected = True\n",
        "    \n",
        "    # If an error is detected, increment the number of errors by 1\n",
        "    if error_detected:\n",
        "      error_count_validation_LDA += 1\n",
        "    \n",
        "    # Generate the confusion matrix for LDA on validation data\n",
        "    for m in range(4):\n",
        "      for n in range(4):\n",
        "        if Y_validation[i][m] == 1 and Y_validation_hat_LDA[i][n] == 1:\n",
        "          LDA_confusion_matrix[a][m][n] += 1\n",
        "\n",
        "  # Compute error probability for current iteration of LDA\n",
        "  error_prob_train_LDA = error_count_train_LDA / len(X_f_train)\n",
        "  error_prob_validation_LDA = error_count_validation_LDA / len(X_f_validation)\n",
        "\n",
        "  # Update overall error probability for all iterations of LDA\n",
        "  LDA_error_train += error_prob_train_LDA\n",
        "  LDA_error_validation += error_prob_validation_LDA\n",
        "\n",
        "  # Update execution time estimation for all iterations of LDA\n",
        "  LDA_execution_time += time.time() - LDA_start_time\n",
        "\n",
        "\n",
        "  # Compute K-NN Results on Training and Validation Data for k = 1,...,10\n",
        "\n",
        "  # Define fraction of training points sampled as 1/sampling_factor\n",
        "  sampling_factor = 50\n",
        "\n",
        "  # Iterate through k = 1,...,10\n",
        "  for k_nn in range(1,11):\n",
        "\n",
        "    K_NN_start_time = time.time()\n",
        "\n",
        "    # Initialize the Error Count to 0\n",
        "    error_count_train_K_NN = 0\n",
        "\n",
        "    # Set up predicted label matrix\n",
        "    Y_train_hat_K_NN = np.zeros((len(X_f_train),4))\n",
        "\n",
        "    # For each test sample in the dataset, compute the label that the classifier assigns to it, and if it is incorrect, add 1 to the error count\n",
        "    for i in range(len(X_f_train)):\n",
        "\n",
        "      # Setup the lists to hold the nodes and their distances to the current sample\n",
        "      nodes = []\n",
        "      distances = []\n",
        "\n",
        "      # For 1/sampling_factor of the training samples in the dataset, compute its distance to the selected training data sample\n",
        "      for j in range(int(len(X_f_train)/sampling_factor)):\n",
        "        index = np.random.randint(len(X_f_train))\n",
        "        distances.append(abs(X_f_train[i] - X_f_train[index]).sum())\n",
        "        if Y_train[index][0] == 1:\n",
        "          nodes.append(0)\n",
        "        elif Y_train[index][1] == 1:\n",
        "          nodes.append(1)\n",
        "        elif Y_train[index][2] == 1:\n",
        "          nodes.append(2)\n",
        "        else:\n",
        "          nodes.append(3)\n",
        "\n",
        "      # Sort the list of nodes to find the k nearest neighbors\n",
        "      nodes = [a for _, a in sorted(zip(distances, nodes))]\n",
        "      \n",
        "      # Compute the most common label among the k nearest neighbors for the training data sample\n",
        "      num_cloudy = 0\n",
        "      num_desert = 0\n",
        "      num_green_area = 0\n",
        "      num_water = 0\n",
        "      for j in range(k_nn):\n",
        "        if nodes[j] == 0:\n",
        "          num_cloudy += 1\n",
        "        elif nodes[j] == 1:\n",
        "          num_desert += 1\n",
        "        elif nodes[j] == 2:\n",
        "          num_green_area += 1\n",
        "        else:\n",
        "          num_water += 1\n",
        "      \n",
        "      if(num_cloudy > num_desert and num_cloudy > num_green_area and num_cloudy > num_water):\n",
        "        Y_train_hat_K_NN[i][0] = 1\n",
        "      elif(num_desert > num_cloudy and num_desert > num_green_area and num_desert > num_water):\n",
        "        Y_train_hat_K_NN[i][1] = 1\n",
        "      elif(num_green_area > num_cloudy and num_green_area > num_desert and num_green_area > num_water):\n",
        "        Y_train_hat_K_NN[i][2] = 1\n",
        "      elif(num_water > num_cloudy and num_water > num_desert and num_water > num_green_area):\n",
        "        Y_train_hat_K_NN[i][3] = 1\n",
        "      elif(nodes[0]==0):\n",
        "        Y_train_hat_K_NN[i][0] = 1\n",
        "      elif(nodes[0]==1):\n",
        "        Y_train_hat_K_NN[i][1] = 1\n",
        "      elif(nodes[0]==2):\n",
        "        Y_train_hat_K_NN[i][2] = 1\n",
        "      else:\n",
        "        Y_train_hat_K_NN[i][3] = 1\n",
        "      \n",
        "      # Determine if there is an error - an error occurs when the predicted label does not exactly match the true label\n",
        "      error_detected = False\n",
        "      for j in range(4):\n",
        "        if Y_train_hat_K_NN[i][j] != Y_train[i][j]:\n",
        "          error_detected = True\n",
        "      \n",
        "      # If an error is detected, increment the number of errors by 1\n",
        "      if error_detected:\n",
        "        error_count_train_K_NN += 1\n",
        "\n",
        "    # Compute error probability for current iteration of K_NN on training data\n",
        "    error_prob_train_K_NN = error_count_train_K_NN / len(X_f_train)\n",
        "\n",
        "    # Update overall error probability for all iterations of K_NN on training data\n",
        "    K_NN_error_train[k_nn-1].append(error_prob_train_K_NN)\n",
        "\n",
        "\n",
        "    # Initialize the Error Count to 0\n",
        "    error_count_validation_K_NN = 0\n",
        "\n",
        "    # Set up predicted label matrix\n",
        "    Y_validation_hat_K_NN = np.zeros((len(X_f_validation),4))\n",
        "\n",
        "    # For each validation data sample in the dataset, compute the label that the classifier assigns to it, and if it is incorrect, add 1 to the error count\n",
        "    for i in range(len(X_f_validation)):\n",
        "\n",
        "      # Setup the lists to hold the nodes and their distances to the selected validation data sample\n",
        "      nodes = []\n",
        "      distances = []\n",
        "\n",
        "      # For 1/sampling_factor of the training samples in the dataset, compute its distance to the selected validation data sample\n",
        "      for j in range(int(len(X_f_train)/sampling_factor)):\n",
        "        index = np.random.randint(len(X_f_train))\n",
        "        distances.append(abs(X_f_validation[i] - X_f_train[index]).sum())\n",
        "        if Y_train[index][0] == 1:\n",
        "          nodes.append(0)\n",
        "        elif Y_train[index][1] == 1:\n",
        "          nodes.append(1)\n",
        "        elif Y_train[index][2] == 1:\n",
        "          nodes.append(2)\n",
        "        else:\n",
        "          nodes.append(3)\n",
        "\n",
        "      # Sort the list of nodes to find the k nearest neighbors\n",
        "      nodes = [a for _, a in sorted(zip(distances, nodes))]\n",
        "      \n",
        "      # Compute the most common label among the k nearest neighbors for the validation data sample\n",
        "      num_cloudy = 0\n",
        "      num_desert = 0\n",
        "      num_green_area = 0\n",
        "      num_water = 0\n",
        "      for j in range(k_nn):\n",
        "        if nodes[j] == 0:\n",
        "          num_cloudy += 1\n",
        "        elif nodes[j] == 1:\n",
        "          num_desert += 1\n",
        "        elif nodes[j] == 2:\n",
        "          num_green_area += 1\n",
        "        else:\n",
        "          num_water += 1\n",
        "      \n",
        "      if(num_cloudy > num_desert and num_cloudy > num_green_area and num_cloudy > num_water):\n",
        "        Y_validation_hat_K_NN[i][0] = 1\n",
        "      elif(num_desert > num_cloudy and num_desert > num_green_area and num_desert > num_water):\n",
        "        Y_validation_hat_K_NN[i][1] = 1\n",
        "      elif(num_green_area > num_cloudy and num_green_area > num_desert and num_green_area > num_water):\n",
        "        Y_validation_hat_K_NN[i][2] = 1\n",
        "      elif(num_water > num_cloudy and num_water > num_desert and num_water > num_green_area):\n",
        "        Y_validation_hat_K_NN[i][3] = 1\n",
        "      elif(nodes[0]==0):\n",
        "        Y_validation_hat_K_NN[i][0] = 1\n",
        "      elif(nodes[0]==1):\n",
        "        Y_validation_hat_K_NN[i][1] = 1\n",
        "      elif(nodes[0]==2):\n",
        "        Y_validation_hat_K_NN[i][2] = 1\n",
        "      else:\n",
        "        Y_validation_hat_K_NN[i][3] = 1\n",
        "      \n",
        "      # Determine if there is an error - an error occurs when the predicted label does not exactly match the true label\n",
        "      error_detected = False\n",
        "      for j in range(4):\n",
        "        if Y_validation_hat_K_NN[i][j] != Y_validation[i][j]:\n",
        "          error_detected = True\n",
        "      \n",
        "      # If an error is detected, increment the number of errors by 1\n",
        "      if error_detected:\n",
        "        error_count_validation_K_NN += 1\n",
        "\n",
        "      # Generate the confusion matrix for LDA on validation data\n",
        "      for m in range(4):\n",
        "        for n in range(4):\n",
        "          if Y_validation[i][m] == 1 and Y_validation_hat_K_NN[i][n] == 1:\n",
        "            K_NN_confusion_matrix[a][k_nn-1][m][n] += 1\n",
        "\n",
        "    # Update execution time estimation for all iterations of K_NN\n",
        "    K_NN_execution_time += time.time() - K_NN_start_time\n",
        "\n",
        "    # Compute error probability for current iteration of K_NN\n",
        "    error_prob_validation_K_NN = error_count_validation_K_NN / len(X_f_validation)\n",
        "\n",
        "    # Update overall error probability for all iterations of K_NN\n",
        "    K_NN_error_validation[k_nn-1].append(error_prob_validation_K_NN)\n",
        "\n",
        "\n",
        "# Compute average error probability for all iterations of LDA\n",
        "LDA_average_error_train = LDA_error_train / 10\n",
        "LDA_average_error_validation = LDA_error_validation / 10\n",
        "\n",
        "# Compute average error probability for all iterations of K_NN, for all values of k=1,...,10\n",
        "K_NN_average_error_train = np.zeros(10)\n",
        "K_NN_average_error_validation = np.zeros(10)\n",
        "\n",
        "for a in range(10):\n",
        "  for i in range(len(K_NN_error_train[a])):\n",
        "    K_NN_average_error_train[a] += K_NN_error_train[a][i]\n",
        "    K_NN_average_error_validation[a] += K_NN_error_validation[a][i]\n",
        "  K_NN_average_error_train[a] = K_NN_average_error_train[a] / 10\n",
        "  K_NN_average_error_validation[a] = K_NN_average_error_validation[a] / 10"
      ]
    },
    {
      "cell_type": "markdown",
      "source": [
        "### _2.1 (e)_"
      ],
      "metadata": {
        "id": "xOh9_f9aVT9c"
      }
    },
    {
      "cell_type": "markdown",
      "metadata": {
        "id": "chtanjLnDHQB"
      },
      "source": [
        "_The following code performs the computations and plots the data needed for us to analyze the performance of LDA and k-nearest-neighbor in the 10-fold cross validation performed above. First, we report the average training and validation error for LDA. We observe that the average training error is approximately 0.2004, while the average validation error is approximately 0.2064. We should use the average validation error as our judgement of the performance of the LDA model at this point, since training data is seen by the LDA model during training, while validation data is unseen data. Thus, this is a good result because the average validation error is low. A random classifier would achieve an average validation error of roughly (but not exactly) 0.75, as each validation dataset consists of data belonging to 4 classes in approximately the equal amounts. Thus, as the LDA model has an average validation error of 0.2064, it is performing much closer to perfect (0 validation error) than random classification (roughly 0.75 valdiation error). Moreover, this is a promising result because the average validation error is only very slightly higher than the average training error, which indicates that the LDA model is not overfitting to the training data (if it were overfitting to the training data, the average validation error would be much higher than the average training error)._\n",
        "\n",
        "_Next, we plot the average training and validation errors for each value of $k$ for k-nearest-neighbor. We observe that the average validation error is even lower for k-nearest-neighbor than it was for LDA, as the average validation error for k-nearest-neighbor is never more than about 0.165 for any value of $k$. The results seen here are not only promising because the average validation error is low, but also because we see that the average validation error is generally only slightly higher than the average training error, indicating that the k-nearest-neighbor model is not overfitting to the training data. We observe that the value of $k$ which minimizes the average validation error is $k=2$, which results in an average validation error of 0.1412. Therefore, we pick the value $k=2$ for the k-nearest-neighbor model that goes into production._\n",
        "\n",
        "_We then report the average execution time for each iteration of LDA and each iteration of k-nearest-neighbor (for a single value of $k$), and observe that the average execution time for LDA is about 17.44 seconds, while the average execution time for k-nearest-neighbor is about 4.65 seconds, so k-nearest-neighbor is considerably faster._\n",
        "\n",
        "_Finally, we compute and plot the confusion matrices for the performance of both LDA and k-nearest-neighbor on valdiation data. We observe that k-nearest-neighbor outperforms LDA, as both models perform very well in classifying cloudy and desert images correctly, but also have significant misclassifications in which a sample which actually belongs to the water class is classified as green area. However, these misclassifications are much less frequent for k-nearest-neighbor, so k-nearest-neighbor is outperforming LDA._\n",
        "\n",
        "_Since we observe that k-nearest-neighbor for $k=2$ has an average validation error (0.1412) which is lower than that of LDA (0.2064), and has an average execution time (4.65 seconds) which is lower (faster) than that of LDA (17.44 seconds), and k-nearest-neighbor for $k=2$ displays better performance in its confusion matrices than LDA, k-nearest-neighbor is unambiguously outperforming LDA. Therefore, I would recommend that k-nearest-neighbor for $k=2$ is the model that goes into production._\n",
        "\n",
        "_In the code block after this one, we will test the k-nearest-neighbor (for $k=2$) and LDA models on the test data, but cannot use the performance of these models to go back and tune the models again, as we may not tune our models to test data. Doing so would effectively make the test data no longer \"unseen\" to the models since knowledge of the test data would be used in developing the models. This would make any performance on test data no longer an accurate representation of how the models would perform on unseen data._"
      ]
    },
    {
      "cell_type": "code",
      "execution_count": null,
      "metadata": {
        "colab": {
          "base_uri": "https://localhost:8080/",
          "height": 938
        },
        "id": "0-uA2nqb_QPr",
        "outputId": "bf35ab8e-467d-44cc-d3bf-4fa39a9bf8f9"
      },
      "outputs": [
        {
          "output_type": "stream",
          "name": "stdout",
          "text": [
            "Average LDA Training Error = 0.20044444444444448\n",
            "Average LDA Validation Error = 0.2064\n",
            "The average validation error for k-nearest-neighbors is minimized by the value k = 2, which results in an average validation error of 0.1412\n",
            "Average Training + Test Time for LDA is 17.4387934923172 seconds\n",
            "Average Training + Test Time for k Nearest Neighbors is 4.652108745574951 seconds\n"
          ]
        },
        {
          "output_type": "display_data",
          "data": {
            "text/plain": [
              "<Figure size 432x288 with 1 Axes>"
            ],
            "image/png": "[encoded data removed]"
          },
          "metadata": {
            "needs_background": "light"
          }
        },
        {
          "output_type": "display_data",
          "data": {
            "text/plain": [
              "<Figure size 432x288 with 2 Axes>"
            ],
            "image/png": "[encoded data removed]"
          },
          "metadata": {
            "needs_background": "light"
          }
        },
        {
          "output_type": "display_data",
          "data": {
            "text/plain": [
              "<Figure size 432x288 with 2 Axes>"
            ],
            "image/png": "[encoded data removed]"
          },
          "metadata": {
            "needs_background": "light"
          }
        }
      ],
      "source": [
        "print(\"Average LDA Training Error = \" + str(LDA_average_error_train))\n",
        "print(\"Average LDA Validation Error = \" + str(LDA_average_error_validation))\n",
        "\n",
        "# Compute the minimum validation error for k-nearest-neighbors and the value of k which produces this minimum validation error\n",
        "k_minimization = 1\n",
        "min_validation_error = K_NN_average_error_validation[0]\n",
        "\n",
        "for i in range(len(K_NN_average_error_validation)):\n",
        "  if K_NN_average_error_validation[i] < min_validation_error:\n",
        "    min_validation_error = K_NN_average_error_validation[i]\n",
        "    k_minimization = i+1\n",
        "\n",
        "print(\"The average validation error for k-nearest-neighbors is minimized by the value k = \" + str(k_minimization) + \", which results in an average validation error of \" + str(min_validation_error))\n",
        "\n",
        "# Plot average training and validation error for k-nearest-neighbor with respect to k\n",
        "plt.plot([1,2,3,4,5,6,7,8,9,10], K_NN_average_error_train)\n",
        "plt.plot([1,2,3,4,5,6,7,8,9,10], K_NN_average_error_validation)\n",
        "plt.legend(['Average Training Error','Average Validation Error'])\n",
        "plt.xlabel('Number of Nearest Neighbors, k')\n",
        "plt.ylabel('Average Error')\n",
        "plt.title('Average Training and Validation Error with Respect to k After Performing 10-Fold Cross Validation')\n",
        "\n",
        "# Compute and report average execution time for LDA and k-nearest-neighbors\n",
        "LDA_execution_time = LDA_execution_time / 10\n",
        "K_NN_execution_time = K_NN_execution_time / 100\n",
        "\n",
        "print(\"Average Training + Test Time for LDA is \" + str(LDA_execution_time) + \" seconds\")\n",
        "print(\"Average Training + Test Time for k Nearest Neighbors is \" + str(K_NN_execution_time) + \" seconds\")\n",
        "\n",
        "# Generate and normalize confusion matrices for LDA and k-nearest neighbors\n",
        "LDA_confusion_matrix_normalized = np.zeros((4,4))\n",
        "K_NN_confusion_matrix_normalized = np.zeros((4,4))\n",
        "\n",
        "k_nn = 4\n",
        "\n",
        "for m in range(4):\n",
        "  for n in range(4):\n",
        "    for a in range(10):\n",
        "      LDA_confusion_matrix_normalized[m][n] += LDA_confusion_matrix[a][m][n]\n",
        "      K_NN_confusion_matrix_normalized[m][n] += K_NN_confusion_matrix[a][k_nn-1][m][n]\n",
        "    LDA_confusion_matrix_normalized[m][n] = LDA_confusion_matrix_normalized[m][n] / 5000\n",
        "    K_NN_confusion_matrix_normalized[m][n] = K_NN_confusion_matrix_normalized[m][n] / 5000\n",
        "\n",
        "# Display confusion matrices for LDA and k-nearest neighbors\n",
        "LDA_CM = ConfusionMatrixDisplay(confusion_matrix = LDA_confusion_matrix_normalized, display_labels = ['cloudy', 'desert', 'green area', 'water'])\n",
        "\n",
        "LDA_CM.plot()\n",
        "plt.title('Confusion Matrix for Results of LDA on Validation Data, Averaged Across 10-fold CV')\n",
        "plt.show()\n",
        "\n",
        "K_NN_CM = ConfusionMatrixDisplay(confusion_matrix = K_NN_confusion_matrix_normalized, display_labels = ['cloudy', 'desert', 'green area', 'water'])\n",
        "\n",
        "K_NN_CM.plot()\n",
        "plt.title('Confusion Matrix for Results of K_NN on Validation Data, Averaged Across 10-fold CV')\n",
        "plt.show()"
      ]
    },
    {
      "cell_type": "markdown",
      "source": [
        "_In the following code block, we test the trained LDA and k-nearest-neighbor models on test data. Having determined that the optimal value of $k$ is $k=2$ through 10-fold cross validation, we use the value $k=2$ for the k-nearest-neighbor model here._\n",
        "\n",
        "_We use the mean vector and PCA subspace that we computed (before training) for the entire cross-validation dataset to \"center\" the test data and reduce its dimensionality. This gives us extracted features for both test data. This method follows our previous discussion that we should compute the mean vector for the entire cross-validation dataset and perform PCA on the centered cross-valdiation data to learn the corresponding PCA subspace, then use the mean vector learned for the cross-validation data to \"center\" the test data and perform dimensionality reduction on the test data using the PCA subspace learned for the cross-valdiation data. Thus, we have performed dimensionality reduction on test data using PCA without ever performing feature learning on test data._\n",
        "\n",
        "_Similarly to in 10-fold cross validation, we only compare each test data sample to $\\frac{1}{50}$ of the training data samples, selected at random, in order to make the runtime of the k-nearest-neighbor model more manageable._\n",
        "\n",
        "_In the next code block after this one, we will report the test error for the LDA and k-nearest-neighbor models and display the corresponding confusion matrices._"
      ],
      "metadata": {
        "id": "14RE8ZqyjSDq"
      }
    },
    {
      "cell_type": "code",
      "source": [
        "# Set up centered data matrix for test data\n",
        "X_test_centered = np.zeros((len(X_test), len(X_test[0])))\n",
        "\n",
        "# Iterate through each of the columns of the test data matrix, subtracting the mean previously computed for the cross validation data from each value in the corresponding column of the test data\n",
        "for m in range(len(X_test)):\n",
        "  for n in range(len(X_test[0])):\n",
        "    X_test_centered[m][n] = X_test[m][n] - mean_cross_validation[n]\n",
        "\n",
        "# Generate extracted features for test data using PCA subspace previously computed on cross validation data\n",
        "X_f_test = np.zeros((np.shape(X_test)[0], k))\n",
        "\n",
        "for i in range(np.shape(X_test)[0]):\n",
        "  X_f_test[i] = np.matmul(U.T,X_test[i])\n",
        "\n",
        "# Compute LDA Results on Test Data\n",
        "\n",
        "# Set up confusion matrix for LDA on test data\n",
        "LDA_confusion_matrix_test = np.zeros((4,4))\n",
        "\n",
        "# Initialize the Error Count to 0\n",
        "error_count_test_LDA = 0\n",
        "\n",
        "# Set up predicted label matrix\n",
        "Y_test_hat_LDA = np.zeros((len(X_f_test),4))\n",
        "\n",
        "# For each test sample in the dataset, compute the label that the classifier assigns to it, and if it is incorrect, add 1 to the error count\n",
        "for i in range(len(X_f_test)):\n",
        "  # Compute the value of the delta function for each class for each sample\n",
        "  delta_cloudy_test_LDA = np.matmul(np.matmul(X_f_test[i].T,np.linalg.inv(sigma_LDA)),mu_cloudy_LDA) - 0.5 * np.matmul(np.matmul(mu_cloudy_LDA.T,np.linalg.inv(sigma_LDA)),mu_cloudy_LDA) + prior_cloudy_LDA\n",
        "  delta_desert_test_LDA = np.matmul(np.matmul(X_f_test[i].T,np.linalg.inv(sigma_LDA)),mu_desert_LDA) - 0.5 * np.matmul(np.matmul(mu_desert_LDA.T,np.linalg.inv(sigma_LDA)),mu_desert_LDA) + prior_desert_LDA\n",
        "  delta_green_area_test_LDA = np.matmul(np.matmul(X_f_test[i].T,np.linalg.inv(sigma_LDA)),mu_green_area_LDA) - 0.5 * np.matmul(np.matmul(mu_green_area_LDA.T,np.linalg.inv(sigma_LDA)),mu_green_area_LDA) + prior_green_area_LDA\n",
        "  delta_water_test_LDA = np.matmul(np.matmul(X_f_test[i].T,np.linalg.inv(sigma_LDA)),mu_water_LDA) - 0.5 * np.matmul(np.matmul(mu_water_LDA.T,np.linalg.inv(sigma_LDA)),mu_water_LDA) + prior_water_LDA\n",
        "\n",
        "  # Determine the predicted label based on the value of the delta functions\n",
        "  if(delta_cloudy_test_LDA > delta_desert_test_LDA and delta_cloudy_test_LDA > delta_green_area_test_LDA and delta_cloudy_test_LDA > delta_water_test_LDA):\n",
        "    Y_test_hat_LDA[i][0] = 1\n",
        "  elif(delta_desert_test_LDA > delta_cloudy_test_LDA and delta_desert_test_LDA > delta_green_area_test_LDA and delta_desert_test_LDA > delta_water_test_LDA):\n",
        "    Y_test_hat_LDA[i][1] = 1\n",
        "  elif(delta_green_area_test_LDA > delta_cloudy_test_LDA and delta_green_area_test_LDA > delta_desert_test_LDA and delta_green_area_test_LDA > delta_water_test_LDA):\n",
        "    Y_test_hat_LDA[i][2] = 1\n",
        "  else:\n",
        "    Y_test_hat_LDA[i][3] = 1\n",
        "    \n",
        "  # Determine if there is an error - an error occurs when the predicted label does not exactly match the true label\n",
        "  error_detected = False\n",
        "  for j in range(4):\n",
        "    if Y_test_hat_LDA[i][j] != Y_test[i][j]:\n",
        "      error_detected = True\n",
        "    \n",
        "  # If an error is detected, increment the number of errors by 1\n",
        "  if error_detected:\n",
        "    error_count_test_LDA += 1\n",
        "    \n",
        "  # Compute the values in the confusion matrix for LDA on test data\n",
        "  for m in range(4):\n",
        "    for n in range(4):\n",
        "      if Y_test[i][m] == 1 and Y_test_hat_LDA[i][n] == 1:\n",
        "        LDA_confusion_matrix_test[m][n] += 1\n",
        "\n",
        "# Compute the error probability for LDA on test data\n",
        "error_prob_test_LDA = error_count_test_LDA / len(X_f_test)\n",
        "\n",
        "\n",
        "# Set up confusion matrix for K_NN on test data\n",
        "K_NN_confusion_matrix_test = np.zeros((4,4))\n",
        "\n",
        "# Define fraction of training points sampled as 1/sampling_factor, using the same value of 50 as in training\n",
        "sampling_factor = 50\n",
        "\n",
        "# Define k=2 for k_nn, in accordance with observation that this value minimizes validation error\n",
        "k_nn = 2\n",
        "\n",
        "# Initialize the Error Count to 0\n",
        "error_count_test_K_NN = 0\n",
        "\n",
        "# Set up predicted label matrix\n",
        "Y_test_hat_K_NN = np.zeros((len(X_f_test),4))\n",
        "\n",
        "# For each test sample in the dataset, compute the label that the classifier assigns to it, and if it is incorrect, add 1 to the error count\n",
        "for i in range(len(X_f_test)):\n",
        "\n",
        "  # Setup the lists to hold the nodes and their distances to the selected test data sample\n",
        "  nodes = []\n",
        "  distances = []\n",
        "\n",
        "  # For 1/sampling_factor of the training samples in the dataset, compute its distance to the selected test data sample\n",
        "  for j in range(int(len(X_f_train)/sampling_factor)):\n",
        "    index = np.random.randint(len(X_f_train))\n",
        "    distances.append(abs(X_f_test[i] - X_f_train[index]).sum())\n",
        "    if Y_train[index][0] == 1:\n",
        "      nodes.append(0)\n",
        "    elif Y_train[index][1] == 1:\n",
        "      nodes.append(1)\n",
        "    elif Y_train[index][2] == 1:\n",
        "      nodes.append(2)\n",
        "    else:\n",
        "      nodes.append(3)\n",
        "\n",
        "  # Sort the list of nodes to find the 4 nearest neighbors\n",
        "  nodes = [a for _, a in sorted(zip(distances, nodes))]\n",
        "      \n",
        "  # Compute the most common label among the 4 nearest neighbors for the selected test data sample\n",
        "  num_cloudy = 0\n",
        "  num_desert = 0\n",
        "  num_green_area = 0\n",
        "  num_water = 0\n",
        "  for j in range(k_nn):\n",
        "    if nodes[j] == 0:\n",
        "      num_cloudy += 1\n",
        "    elif nodes[j] == 1:\n",
        "      num_desert += 1\n",
        "    elif nodes[j] == 2:\n",
        "      num_green_area += 1\n",
        "    else:\n",
        "      num_water += 1\n",
        "      \n",
        "  if(num_cloudy > num_desert and num_cloudy > num_green_area and num_cloudy > num_water):\n",
        "    Y_test_hat_K_NN[i][0] = 1\n",
        "  elif(num_desert > num_cloudy and num_desert > num_green_area and num_desert > num_water):\n",
        "    Y_test_hat_K_NN[i][1] = 1\n",
        "  elif(num_green_area > num_cloudy and num_green_area > num_desert and num_green_area > num_water):\n",
        "    Y_test_hat_K_NN[i][2] = 1\n",
        "  elif(num_water > num_cloudy and num_water > num_desert and num_water > num_green_area):\n",
        "    Y_test_hat_K_NN[i][3] = 1\n",
        "  elif(nodes[0]==0):\n",
        "    Y_test_hat_K_NN[i][0] = 1\n",
        "  elif(nodes[0]==1):\n",
        "    Y_test_hat_K_NN[i][1] = 1\n",
        "  elif(nodes[0]==2):\n",
        "    Y_test_hat_K_NN[i][2] = 1\n",
        "  else:\n",
        "    Y_test_hat_K_NN[i][3] = 1\n",
        "      \n",
        "  # Determine if there is an error - an error occurs when the predicted label does not exactly match the true label\n",
        "  error_detected = False\n",
        "  for j in range(4):\n",
        "    if Y_test_hat_K_NN[i][j] != Y_test[i][j]:\n",
        "      error_detected = True\n",
        "      \n",
        "  # If an error is detected, increment the number of errors by 1\n",
        "  if error_detected:\n",
        "    error_count_test_K_NN += 1\n",
        "\n",
        "  # Compute the values in the confusion matrix for K_NN on test data\n",
        "  for m in range(4):\n",
        "    for n in range(4):\n",
        "      if Y_test[i][m] == 1 and Y_test_hat_K_NN[i][n] == 1:\n",
        "        K_NN_confusion_matrix_test[m][n] += 1\n",
        "\n",
        "# Compute the error probability for LDA on test data\n",
        "error_prob_test_K_NN = error_count_test_K_NN / len(X_f_test)"
      ],
      "metadata": {
        "id": "D5uNUoQIdlZk"
      },
      "execution_count": null,
      "outputs": []
    },
    {
      "cell_type": "markdown",
      "source": [
        "_The following code performs the computations and plots the data needed for us to view the performance of the LDA and k-nearest-neighbor models on test data. First, we report the test error for LDA, which is 0.1791. This is a good result because the test error for LDA is low. A random classifier would achieve a test error of roughly (but not exactly) 0.75, as the test dataset consists of data belonging to 4 classes in approximately the equal amounts. Thus, since the LDA model has a test error of 0.1791, it is performing much closer to perfect (0 test error) than random classification (roughly 0.75 test error). Interestingly, the test error for LDA is actually slightly lower than the average validation error from 10-fold cross validation for LDA (0.2064), and the average training error from 10-fold cross validation for LDA (0.2004). The fact that the test error is lower than the average validation error from 10-fold cross validation for LDA is not a major surprise, as LDA involves no tuning parameters, and therefore the LDA model was not in any way tuned to the validation datasets. Thus, the validation datasets were essentially like test data, and it concidentally happened that the actual test dataset happened to result in less error than was seen on average in the validation datasets. What is a more interesting result is that the test error (0.1791) is lower than the training error (0.2004) for LDA. This was likely just coincidence and a result of the limited sample size of the dataset. This result is also promising, as it indicates that the LDA model is not overfitting to the training data (if it were overfitting to the training data, the test error would be much higher than the average training error)._\n",
        "\n",
        "_We then report the test error for k-nearest-neighbor, which is 0.1157. This is a good result because the test error for k-nearest-neighbor is also low, as it is performing much closer to perfect (0 test error) than random classification (roughly 0.75 test error). Again, we see a curious result in that the test error for k-nearest-neighbor for $k=2$ (0.1157) is actually slightly lower than the validation error for k-nearest-neighbor for $k=2$ (0.1412). This was again likely just coincidence and a result of the limited sample size of the dataset. This result is also promising, as it indicates that the k-nearest-neighbor model (for $k=2$) is not overfitting to the validation data (if it were overfitting to the validation data, the test error would be much higher than the average validation error)._\n",
        "\n",
        "_Finally, we compute and plot the confusion matrices for the performance of both LDA and k-nearest-neighbor on test data. We observe that k-nearest-neighbor outperforms LDA, as it did on validation data, as both models perform very well in classifying cloudy and desert images correctly, but also have significant misclassifications in which a sample which actually belongs to the water class is classified as green area. However, these misclassifications are much less frequent for k-nearest-neighbor, so k-nearest-neighbor is outperforming LDA._\n",
        "\n",
        "_By testing the LDA and k-nearest-neighbor models on test data, we confirm that they perform well on unseen data, and thus are useful machine learning systems which have genuinely learned the patterns in the data, rather than overfitting to training data. We also show that on unseen data, k-nearest-neighbor for $k=2$ continues to outperform LDA, as its test error of 0.1157 is lower than that of LDA (0.1791), and it displays better performance in the confusion matrices. As previously mentioned, we cannot now go back and use the performance of these models to tune the models again, as we may not tune our models to test data. Doing so would effectively make the test data no longer \"unseen\" to the models since knowledge of the test data would be used in developing the models. This would make any performance on test data no longer an accurate representation of how the models would perform on unseen data._"
      ],
      "metadata": {
        "id": "V_3V_pHDmYDj"
      }
    },
    {
      "cell_type": "code",
      "source": [
        "print(\"LDA Test Error = \" + str(error_prob_test_LDA))\n",
        "print(\"k-Nearest-Neighbor Test Error = \" + str(error_prob_test_K_NN))\n",
        "\n",
        "# Generate and normalize confusion matrices for LDA and k-nearest neighbors\n",
        "LDA_confusion_matrix_test_normalized = np.zeros((4,4))\n",
        "K_NN_confusion_matrix_test_normalized = np.zeros((4,4))\n",
        "\n",
        "k_nn = 5\n",
        "\n",
        "for m in range(4):\n",
        "  for n in range(4):\n",
        "    LDA_confusion_matrix_test_normalized[m][n] = LDA_confusion_matrix_test[m][n] / 631\n",
        "    K_NN_confusion_matrix_test_normalized[m][n] = K_NN_confusion_matrix_test[m][n] / 631\n",
        "\n",
        "# Display confusion matrices for LDA and k-nearest neighbors\n",
        "LDA_CM_test = ConfusionMatrixDisplay(confusion_matrix = LDA_confusion_matrix_test_normalized, display_labels = ['cloudy', 'desert', 'green area', 'water'])\n",
        "\n",
        "LDA_CM_test.plot()\n",
        "plt.title('Confusion Matrix for Results of LDA on Test Data')\n",
        "plt.show()\n",
        "\n",
        "K_NN_CM_test = ConfusionMatrixDisplay(confusion_matrix = K_NN_confusion_matrix_test_normalized, display_labels = ['cloudy', 'desert', 'green area', 'water'])\n",
        "\n",
        "K_NN_CM_test.plot()\n",
        "plt.title('Confusion Matrix for Results of K_NN on Test Data')\n",
        "plt.show()"
      ],
      "metadata": {
        "colab": {
          "base_uri": "https://localhost:8080/",
          "height": 608
        },
        "id": "mp0A5beJmaDz",
        "outputId": "2a4c9894-3c7d-40b1-c0a7-e9b8ae0a3e89"
      },
      "execution_count": null,
      "outputs": [
        {
          "output_type": "stream",
          "name": "stdout",
          "text": [
            "LDA Test Error = 0.179080824088748\n",
            "k-Nearest-Neighbor Test Error = 0.11568938193343899\n"
          ]
        },
        {
          "output_type": "display_data",
          "data": {
            "text/plain": [
              "<Figure size 432x288 with 2 Axes>"
            ],
            "image/png": "[encoded data removed]"
          },
          "metadata": {
            "needs_background": "light"
          }
        },
        {
          "output_type": "display_data",
          "data": {
            "text/plain": [
              "<Figure size 432x288 with 2 Axes>"
            ],
            "image/png": "[encoded data removed]"
          },
          "metadata": {
            "needs_background": "light"
          }
        }
      ]
    },
    {
      "cell_type": "markdown",
      "source": [
        "### _2.1 (f)_"
      ],
      "metadata": {
        "id": "fn-iIeYkVYFi"
      }
    },
    {
      "cell_type": "markdown",
      "source": [
        "_Some ethical concerns arise due to the nature of our training dataset and because of the slightly unusual result we have encountered in which test error was lower than training error for LDA and test error was lower than validation error for k-nearest-neighbor._\n",
        "\n",
        "_Because our machine learning system performs a task (satellite image classification) which does not directly involve or affect human beings, and likely won't be used to make any critical decisions, there aren't as strong of ethical concerns with this machine learning system as there might be with some others. However, some ethical concerns still do arise. For example, depending on how zoomed in some satellite images may be, they may display people, private property, or government land which is intended to be kept secret. People, property owners, and governments should have a right to privacy, and therefore the images of themselves, their property, and their land should be removed from the dataset._\n",
        "\n",
        "_Another ethical concern which arises from this machine learning system pertains to the means by which its performance is reported. While in general, performance on unseen (test) data is the correct and reliable way to test machine learning systems, we must take note of the fact that for LDA, the average training error from 10-fold cross validation (0.2004) was higher than the test error (0.1791). Also, for k-nearest-neighbor for $k=2$, the average validation error from 10-fold cross validation (0.1412) was higher than the test error (0.1157). As a result, the test error of 0.1791 for LDA and test error of 0.1157 for k-nearest-neighbor are likely coincidental and the result of limited sample size, and probably are not sustainable for large sample sizes. Therefore, reporting the performance of the LDA model on test data as achieving an error rate of 0.1791 and reporting the performance of the k-nearest-neighbor model on test data as achieving an error rate of 0.1157 without any further context is misleading. In order to ethically and accurately report the performance of the LDA model, the 0.1791 test error figure may be reported, but only when coupled with an acknowledgement that the average training error of 0.2004 suggests that the performance on test data is unsustainable over very large sample sizes. Similarly, to ethically and accurately report the performance of the k-nearest-neighbor model, the 0.1157 test error figure may also be reported, but only when coupled with an acknowledgement that the average validation error of 0.1412 suggests that the performance on test data is unsustainable over very large sample sizes._"
      ],
      "metadata": {
        "id": "jcxfpUz-F_Ul"
      }
    },
    {
      "cell_type": "markdown",
      "source": [
        "### _2.1 (g)_"
      ],
      "metadata": {
        "id": "02XwWil2VaeE"
      }
    },
    {
      "cell_type": "markdown",
      "source": [
        "_Bibliography:_\n",
        "\n",
        "_This machine learning task was done overwhelmingly using our knowledge of machine learning acquired in this class. Reference tools used to assist in this task primarily consisted of our own and the Professor's lecture notes, expecially those from Class 6 (for Principal Component Analysis), Class 16 (for LDA), Class 17 (for k-nearest-neighbor), Class 18 (for confusion matrices), and Class 19 (for cross validation). The following source was the only one used for this machine learning task which did not come from the course materials. It informed us of how to randomly sample training points for measurement for the k-nearest-neighbor model, rather than to use all training points for measurement._\n",
        "\n",
        "_1: Malato, G. (2019, March 28). How to Correctly Select a Sample From a Huge Dataset in Machine Learning. Medium. Retrieved December 17, 2022, from https://medium.com/data-science-reporter/how-to-correctly-select-a-sample-from-a-huge-dataset-in-machine-learning-24327650372c_"
      ],
      "metadata": {
        "id": "DcY0W1tCRigL"
      }
    }
  ],
  "metadata": {
    "colab": {
      "provenance": []
    },
    "kernelspec": {
      "display_name": "Python 3",
      "name": "python3"
    },
    "language_info": {
      "name": "python"
    }
  },
  "nbformat": 4,
  "nbformat_minor": 0
}
